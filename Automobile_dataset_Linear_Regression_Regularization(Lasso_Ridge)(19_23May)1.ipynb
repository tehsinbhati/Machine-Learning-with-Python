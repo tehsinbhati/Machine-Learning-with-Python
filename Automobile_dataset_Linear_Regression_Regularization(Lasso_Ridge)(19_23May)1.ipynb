{
  "cells": [
    {
      "cell_type": "code",
      "execution_count": null,
      "id": "ef7d76b9",
      "metadata": {
        "id": "ef7d76b9"
      },
      "outputs": [],
      "source": [
        "import numpy as np\n",
        "import pandas as pd\n",
        "import matplotlib.pyplot as plt\n",
        "import seaborn as sns\n",
        "import warnings\n",
        "warnings.filterwarnings('ignore')"
      ]
    },
    {
      "cell_type": "code",
      "source": [
        "from google.colab import drive\n",
        "drive.mount('/content/drive')"
      ],
      "metadata": {
        "colab": {
          "base_uri": "https://localhost:8080/"
        },
        "id": "8JQRIAS0X0I-",
        "outputId": "4d6e29be-9722-4edc-a12e-c00e05933641"
      },
      "id": "8JQRIAS0X0I-",
      "execution_count": null,
      "outputs": [
        {
          "output_type": "stream",
          "name": "stdout",
          "text": [
            "Mounted at /content/drive\n"
          ]
        }
      ]
    },
    {
      "cell_type": "code",
      "execution_count": null,
      "id": "382000fb",
      "metadata": {
        "id": "382000fb"
      },
      "outputs": [],
      "source": [
        "#Load dataset automobile_data.csv file\n",
        "df=pd.read_csv(\"/content/drive/MyDrive/ItVedantPythonAWPClasswork/Automobile_data (4).csv\")"
      ]
    },
    {
      "cell_type": "code",
      "execution_count": null,
      "id": "6c70eeb6",
      "metadata": {
        "colab": {
          "base_uri": "https://localhost:8080/",
          "height": 319
        },
        "id": "6c70eeb6",
        "outputId": "ae16e4a5-9090-4e84-93e8-cba58ab08f46"
      },
      "outputs": [
        {
          "output_type": "execute_result",
          "data": {
            "text/plain": [
              "   symboling normalized-losses         make fuel-type   body-style  \\\n",
              "0          3                 ?  alfa-romero       gas  convertible   \n",
              "1          3                 ?  alfa-romero       gas  convertible   \n",
              "2          1                 ?  alfa-romero       gas    hatchback   \n",
              "3          2               164         audi       gas        sedan   \n",
              "4          2               164         audi       gas        sedan   \n",
              "\n",
              "  drive-wheels engine-location  width  height engine-type  engine-size  \\\n",
              "0          rwd           front   64.1    48.8        dohc          130   \n",
              "1          rwd           front   64.1    48.8        dohc          130   \n",
              "2          rwd           front   65.5    52.4        ohcv          152   \n",
              "3          fwd           front   66.2    54.3         ohc          109   \n",
              "4          4wd           front   66.4    54.3         ohc          136   \n",
              "\n",
              "  horsepower  city-mpg  highway-mpg  price  \n",
              "0        111        21           27  13495  \n",
              "1        111        21           27  16500  \n",
              "2        154        19           26  16500  \n",
              "3        102        24           30  13950  \n",
              "4        115        18           22  17450  "
            ],
            "text/html": [
              "\n",
              "  <div id=\"df-00ee351f-c0dc-42c4-997f-9d197b6a6e60\">\n",
              "    <div class=\"colab-df-container\">\n",
              "      <div>\n",
              "<style scoped>\n",
              "    .dataframe tbody tr th:only-of-type {\n",
              "        vertical-align: middle;\n",
              "    }\n",
              "\n",
              "    .dataframe tbody tr th {\n",
              "        vertical-align: top;\n",
              "    }\n",
              "\n",
              "    .dataframe thead th {\n",
              "        text-align: right;\n",
              "    }\n",
              "</style>\n",
              "<table border=\"1\" class=\"dataframe\">\n",
              "  <thead>\n",
              "    <tr style=\"text-align: right;\">\n",
              "      <th></th>\n",
              "      <th>symboling</th>\n",
              "      <th>normalized-losses</th>\n",
              "      <th>make</th>\n",
              "      <th>fuel-type</th>\n",
              "      <th>body-style</th>\n",
              "      <th>drive-wheels</th>\n",
              "      <th>engine-location</th>\n",
              "      <th>width</th>\n",
              "      <th>height</th>\n",
              "      <th>engine-type</th>\n",
              "      <th>engine-size</th>\n",
              "      <th>horsepower</th>\n",
              "      <th>city-mpg</th>\n",
              "      <th>highway-mpg</th>\n",
              "      <th>price</th>\n",
              "    </tr>\n",
              "  </thead>\n",
              "  <tbody>\n",
              "    <tr>\n",
              "      <th>0</th>\n",
              "      <td>3</td>\n",
              "      <td>?</td>\n",
              "      <td>alfa-romero</td>\n",
              "      <td>gas</td>\n",
              "      <td>convertible</td>\n",
              "      <td>rwd</td>\n",
              "      <td>front</td>\n",
              "      <td>64.1</td>\n",
              "      <td>48.8</td>\n",
              "      <td>dohc</td>\n",
              "      <td>130</td>\n",
              "      <td>111</td>\n",
              "      <td>21</td>\n",
              "      <td>27</td>\n",
              "      <td>13495</td>\n",
              "    </tr>\n",
              "    <tr>\n",
              "      <th>1</th>\n",
              "      <td>3</td>\n",
              "      <td>?</td>\n",
              "      <td>alfa-romero</td>\n",
              "      <td>gas</td>\n",
              "      <td>convertible</td>\n",
              "      <td>rwd</td>\n",
              "      <td>front</td>\n",
              "      <td>64.1</td>\n",
              "      <td>48.8</td>\n",
              "      <td>dohc</td>\n",
              "      <td>130</td>\n",
              "      <td>111</td>\n",
              "      <td>21</td>\n",
              "      <td>27</td>\n",
              "      <td>16500</td>\n",
              "    </tr>\n",
              "    <tr>\n",
              "      <th>2</th>\n",
              "      <td>1</td>\n",
              "      <td>?</td>\n",
              "      <td>alfa-romero</td>\n",
              "      <td>gas</td>\n",
              "      <td>hatchback</td>\n",
              "      <td>rwd</td>\n",
              "      <td>front</td>\n",
              "      <td>65.5</td>\n",
              "      <td>52.4</td>\n",
              "      <td>ohcv</td>\n",
              "      <td>152</td>\n",
              "      <td>154</td>\n",
              "      <td>19</td>\n",
              "      <td>26</td>\n",
              "      <td>16500</td>\n",
              "    </tr>\n",
              "    <tr>\n",
              "      <th>3</th>\n",
              "      <td>2</td>\n",
              "      <td>164</td>\n",
              "      <td>audi</td>\n",
              "      <td>gas</td>\n",
              "      <td>sedan</td>\n",
              "      <td>fwd</td>\n",
              "      <td>front</td>\n",
              "      <td>66.2</td>\n",
              "      <td>54.3</td>\n",
              "      <td>ohc</td>\n",
              "      <td>109</td>\n",
              "      <td>102</td>\n",
              "      <td>24</td>\n",
              "      <td>30</td>\n",
              "      <td>13950</td>\n",
              "    </tr>\n",
              "    <tr>\n",
              "      <th>4</th>\n",
              "      <td>2</td>\n",
              "      <td>164</td>\n",
              "      <td>audi</td>\n",
              "      <td>gas</td>\n",
              "      <td>sedan</td>\n",
              "      <td>4wd</td>\n",
              "      <td>front</td>\n",
              "      <td>66.4</td>\n",
              "      <td>54.3</td>\n",
              "      <td>ohc</td>\n",
              "      <td>136</td>\n",
              "      <td>115</td>\n",
              "      <td>18</td>\n",
              "      <td>22</td>\n",
              "      <td>17450</td>\n",
              "    </tr>\n",
              "  </tbody>\n",
              "</table>\n",
              "</div>\n",
              "      <button class=\"colab-df-convert\" onclick=\"convertToInteractive('df-00ee351f-c0dc-42c4-997f-9d197b6a6e60')\"\n",
              "              title=\"Convert this dataframe to an interactive table.\"\n",
              "              style=\"display:none;\">\n",
              "        \n",
              "  <svg xmlns=\"http://www.w3.org/2000/svg\" height=\"24px\"viewBox=\"0 0 24 24\"\n",
              "       width=\"24px\">\n",
              "    <path d=\"M0 0h24v24H0V0z\" fill=\"none\"/>\n",
              "    <path d=\"M18.56 5.44l.94 2.06.94-2.06 2.06-.94-2.06-.94-.94-2.06-.94 2.06-2.06.94zm-11 1L8.5 8.5l.94-2.06 2.06-.94-2.06-.94L8.5 2.5l-.94 2.06-2.06.94zm10 10l.94 2.06.94-2.06 2.06-.94-2.06-.94-.94-2.06-.94 2.06-2.06.94z\"/><path d=\"M17.41 7.96l-1.37-1.37c-.4-.4-.92-.59-1.43-.59-.52 0-1.04.2-1.43.59L10.3 9.45l-7.72 7.72c-.78.78-.78 2.05 0 2.83L4 21.41c.39.39.9.59 1.41.59.51 0 1.02-.2 1.41-.59l7.78-7.78 2.81-2.81c.8-.78.8-2.07 0-2.86zM5.41 20L4 18.59l7.72-7.72 1.47 1.35L5.41 20z\"/>\n",
              "  </svg>\n",
              "      </button>\n",
              "      \n",
              "  <style>\n",
              "    .colab-df-container {\n",
              "      display:flex;\n",
              "      flex-wrap:wrap;\n",
              "      gap: 12px;\n",
              "    }\n",
              "\n",
              "    .colab-df-convert {\n",
              "      background-color: #E8F0FE;\n",
              "      border: none;\n",
              "      border-radius: 50%;\n",
              "      cursor: pointer;\n",
              "      display: none;\n",
              "      fill: #1967D2;\n",
              "      height: 32px;\n",
              "      padding: 0 0 0 0;\n",
              "      width: 32px;\n",
              "    }\n",
              "\n",
              "    .colab-df-convert:hover {\n",
              "      background-color: #E2EBFA;\n",
              "      box-shadow: 0px 1px 2px rgba(60, 64, 67, 0.3), 0px 1px 3px 1px rgba(60, 64, 67, 0.15);\n",
              "      fill: #174EA6;\n",
              "    }\n",
              "\n",
              "    [theme=dark] .colab-df-convert {\n",
              "      background-color: #3B4455;\n",
              "      fill: #D2E3FC;\n",
              "    }\n",
              "\n",
              "    [theme=dark] .colab-df-convert:hover {\n",
              "      background-color: #434B5C;\n",
              "      box-shadow: 0px 1px 3px 1px rgba(0, 0, 0, 0.15);\n",
              "      filter: drop-shadow(0px 1px 2px rgba(0, 0, 0, 0.3));\n",
              "      fill: #FFFFFF;\n",
              "    }\n",
              "  </style>\n",
              "\n",
              "      <script>\n",
              "        const buttonEl =\n",
              "          document.querySelector('#df-00ee351f-c0dc-42c4-997f-9d197b6a6e60 button.colab-df-convert');\n",
              "        buttonEl.style.display =\n",
              "          google.colab.kernel.accessAllowed ? 'block' : 'none';\n",
              "\n",
              "        async function convertToInteractive(key) {\n",
              "          const element = document.querySelector('#df-00ee351f-c0dc-42c4-997f-9d197b6a6e60');\n",
              "          const dataTable =\n",
              "            await google.colab.kernel.invokeFunction('convertToInteractive',\n",
              "                                                     [key], {});\n",
              "          if (!dataTable) return;\n",
              "\n",
              "          const docLinkHtml = 'Like what you see? Visit the ' +\n",
              "            '<a target=\"_blank\" href=https://colab.research.google.com/notebooks/data_table.ipynb>data table notebook</a>'\n",
              "            + ' to learn more about interactive tables.';\n",
              "          element.innerHTML = '';\n",
              "          dataTable['output_type'] = 'display_data';\n",
              "          await google.colab.output.renderOutput(dataTable, element);\n",
              "          const docLink = document.createElement('div');\n",
              "          docLink.innerHTML = docLinkHtml;\n",
              "          element.appendChild(docLink);\n",
              "        }\n",
              "      </script>\n",
              "    </div>\n",
              "  </div>\n",
              "  "
            ]
          },
          "metadata": {},
          "execution_count": 4
        }
      ],
      "source": [
        "#To display first 5 records\n",
        "df.head()"
      ]
    },
    {
      "cell_type": "code",
      "source": [
        "df.describe"
      ],
      "metadata": {
        "colab": {
          "base_uri": "https://localhost:8080/"
        },
        "id": "4DczYarKyElZ",
        "outputId": "3a0c668f-9072-41e9-ae31-95044bc25da1"
      },
      "id": "4DczYarKyElZ",
      "execution_count": null,
      "outputs": [
        {
          "output_type": "execute_result",
          "data": {
            "text/plain": [
              "<bound method NDFrame.describe of      symboling normalized-losses         make fuel-type   body-style  \\\n",
              "0            3                 ?  alfa-romero       gas  convertible   \n",
              "1            3                 ?  alfa-romero       gas  convertible   \n",
              "2            1                 ?  alfa-romero       gas    hatchback   \n",
              "3            2               164         audi       gas        sedan   \n",
              "4            2               164         audi       gas        sedan   \n",
              "..         ...               ...          ...       ...          ...   \n",
              "200         -1                95        volvo       gas        sedan   \n",
              "201         -1                95        volvo       gas        sedan   \n",
              "202         -1                95        volvo       gas        sedan   \n",
              "203         -1                95        volvo    diesel        sedan   \n",
              "204         -1                95        volvo       gas        sedan   \n",
              "\n",
              "    drive-wheels engine-location  width  height engine-type  engine-size  \\\n",
              "0            rwd           front   64.1    48.8        dohc          130   \n",
              "1            rwd           front   64.1    48.8        dohc          130   \n",
              "2            rwd           front   65.5    52.4        ohcv          152   \n",
              "3            fwd           front   66.2    54.3         ohc          109   \n",
              "4            4wd           front   66.4    54.3         ohc          136   \n",
              "..           ...             ...    ...     ...         ...          ...   \n",
              "200          rwd           front   68.9    55.5         ohc          141   \n",
              "201          rwd           front   68.8    55.5         ohc          141   \n",
              "202          rwd           front   68.9    55.5        ohcv          173   \n",
              "203          rwd           front   68.9    55.5         ohc          145   \n",
              "204          rwd           front   68.9    55.5         ohc          141   \n",
              "\n",
              "    horsepower  city-mpg  highway-mpg  price  \n",
              "0          111        21           27  13495  \n",
              "1          111        21           27  16500  \n",
              "2          154        19           26  16500  \n",
              "3          102        24           30  13950  \n",
              "4          115        18           22  17450  \n",
              "..         ...       ...          ...    ...  \n",
              "200        114        23           28  16845  \n",
              "201        160        19           25  19045  \n",
              "202        134        18           23  21485  \n",
              "203        106        26           27  22470  \n",
              "204        114        19           25  22625  \n",
              "\n",
              "[205 rows x 15 columns]>"
            ]
          },
          "metadata": {},
          "execution_count": 7
        }
      ]
    },
    {
      "cell_type": "code",
      "execution_count": null,
      "id": "595df829",
      "metadata": {
        "colab": {
          "base_uri": "https://localhost:8080/"
        },
        "id": "595df829",
        "outputId": "441ec54b-3711-424a-e69e-5ab6afc443c3"
      },
      "outputs": [
        {
          "output_type": "execute_result",
          "data": {
            "text/plain": [
              "symboling            0\n",
              "normalized-losses    0\n",
              "make                 0\n",
              "fuel-type            0\n",
              "body-style           0\n",
              "drive-wheels         0\n",
              "engine-location      0\n",
              "width                0\n",
              "height               0\n",
              "engine-type          0\n",
              "engine-size          0\n",
              "horsepower           0\n",
              "city-mpg             0\n",
              "highway-mpg          0\n",
              "price                0\n",
              "dtype: int64"
            ]
          },
          "metadata": {},
          "execution_count": 5
        }
      ],
      "source": [
        "#First check null values\n",
        "df.isnull().sum()"
      ]
    },
    {
      "cell_type": "code",
      "execution_count": null,
      "id": "eeaee4bd",
      "metadata": {
        "colab": {
          "base_uri": "https://localhost:8080/"
        },
        "id": "eeaee4bd",
        "outputId": "80fe8240-fd2e-4679-b84f-54a8ca3047e3"
      },
      "outputs": [
        {
          "output_type": "execute_result",
          "data": {
            "text/plain": [
              "symboling              int64\n",
              "normalized-losses     object\n",
              "make                  object\n",
              "fuel-type             object\n",
              "body-style            object\n",
              "drive-wheels          object\n",
              "engine-location       object\n",
              "width                float64\n",
              "height               float64\n",
              "engine-type           object\n",
              "engine-size            int64\n",
              "horsepower            object\n",
              "city-mpg               int64\n",
              "highway-mpg            int64\n",
              "price                  int64\n",
              "dtype: object"
            ]
          },
          "metadata": {},
          "execution_count": 6
        }
      ],
      "source": [
        "df.dtypes"
      ]
    },
    {
      "cell_type": "code",
      "execution_count": null,
      "id": "3a30d041",
      "metadata": {
        "colab": {
          "base_uri": "https://localhost:8080/"
        },
        "id": "3a30d041",
        "outputId": "2ced9f6a-fa04-4335-c7bb-a1d23a71c8cd"
      },
      "outputs": [
        {
          "output_type": "stream",
          "name": "stdout",
          "text": [
            "0   ?\n",
            "1   ?\n",
            "2   ?\n",
            "5   ?\n",
            "7   ?\n",
            "9   ?\n",
            "14   ?\n",
            "15   ?\n",
            "16   ?\n",
            "17   ?\n",
            "43   ?\n",
            "44   ?\n",
            "45   ?\n",
            "46   ?\n",
            "48   ?\n",
            "49   ?\n",
            "63   ?\n",
            "66   ?\n",
            "71   ?\n",
            "73   ?\n",
            "74   ?\n",
            "75   ?\n",
            "82   ?\n",
            "83   ?\n",
            "84   ?\n",
            "109   ?\n",
            "110   ?\n",
            "113   ?\n",
            "114   ?\n",
            "124   ?\n",
            "126   ?\n",
            "127   ?\n",
            "128   ?\n",
            "129   ?\n",
            "130   ?\n",
            "131   ?\n",
            "181   ?\n",
            "189   ?\n",
            "191   ?\n",
            "192   ?\n",
            "193   ?\n",
            "No. of special chars :  41\n"
          ]
        }
      ],
      "source": [
        "c=0\n",
        "for i,data in enumerate(df['normalized-losses']):\n",
        "    if not data.isnumeric():\n",
        "        c=c+1\n",
        "        print(i,\" \" ,data)\n",
        "print(\"No. of special chars : \",c)"
      ]
    },
    {
      "cell_type": "code",
      "execution_count": null,
      "id": "be162f40",
      "metadata": {
        "id": "be162f40"
      },
      "outputs": [],
      "source": [
        "#Replace '?' of normalised-losses with null values permanent\n",
        "df[\"normalized-losses\"].replace(\"?\",np.nan,inplace=True)\n",
        "#syntaX: replace(\"old value\",\"new value\",inplace=True)"
      ]
    },
    {
      "cell_type": "code",
      "execution_count": null,
      "id": "be94adac",
      "metadata": {
        "colab": {
          "base_uri": "https://localhost:8080/"
        },
        "id": "be94adac",
        "outputId": "97eebd90-f10e-45d9-cf05-8f00afbc4840"
      },
      "outputs": [
        {
          "output_type": "execute_result",
          "data": {
            "text/plain": [
              "symboling             0\n",
              "normalized-losses    41\n",
              "make                  0\n",
              "fuel-type             0\n",
              "body-style            0\n",
              "drive-wheels          0\n",
              "engine-location       0\n",
              "width                 0\n",
              "height                0\n",
              "engine-type           0\n",
              "engine-size           0\n",
              "horsepower            0\n",
              "city-mpg              0\n",
              "highway-mpg           0\n",
              "price                 0\n",
              "dtype: int64"
            ]
          },
          "metadata": {},
          "execution_count": 9
        }
      ],
      "source": [
        "#To check null values\n",
        "df.isnull().sum()"
      ]
    },
    {
      "cell_type": "code",
      "execution_count": null,
      "id": "1359f8b4",
      "metadata": {
        "id": "1359f8b4"
      },
      "outputs": [],
      "source": [
        "#To change the datatype of normalized-losses from object to float\n",
        "#permanent : use inbuilt method astype()\n",
        "df[\"normalized-losses\"]=df[\"normalized-losses\"].astype(\"float\")"
      ]
    },
    {
      "cell_type": "code",
      "execution_count": null,
      "id": "c3f6e43f",
      "metadata": {
        "id": "c3f6e43f"
      },
      "outputs": [],
      "source": [
        "#Fill null values with average/mean of normalized-losses column in \n",
        "#normalized-losses column permanent\n",
        "m=df[\"normalized-losses\"].mean()\n",
        "df[\"normalized-losses\"].fillna(m,inplace=True)"
      ]
    },
    {
      "cell_type": "code",
      "execution_count": null,
      "id": "f5ba1e5e",
      "metadata": {
        "colab": {
          "base_uri": "https://localhost:8080/"
        },
        "id": "f5ba1e5e",
        "outputId": "a6b1c081-a9a5-4523-ed01-ed3f464edc06"
      },
      "outputs": [
        {
          "output_type": "stream",
          "name": "stdout",
          "text": [
            "130   ?\n",
            "131   ?\n",
            "No. of special chars :  2\n"
          ]
        }
      ],
      "source": [
        "c=0\n",
        "for i,data in enumerate(df['horsepower']):\n",
        "    if not data.isnumeric():\n",
        "        c=c+1\n",
        "        print(i,\" \" ,data)\n",
        "print(\"No. of special chars : \",c)"
      ]
    },
    {
      "cell_type": "code",
      "execution_count": null,
      "id": "27be6c21",
      "metadata": {
        "id": "27be6c21"
      },
      "outputs": [],
      "source": [
        "#Replace '?' of horsepower with null values permanent\n",
        "df[\"horsepower\"].replace(\"?\",np.nan,inplace=True)"
      ]
    },
    {
      "cell_type": "code",
      "execution_count": null,
      "id": "7390b31a",
      "metadata": {
        "colab": {
          "base_uri": "https://localhost:8080/"
        },
        "id": "7390b31a",
        "outputId": "5f608345-112c-4d35-8aed-1edb08b950b5"
      },
      "outputs": [
        {
          "output_type": "execute_result",
          "data": {
            "text/plain": [
              "symboling            0\n",
              "normalized-losses    0\n",
              "make                 0\n",
              "fuel-type            0\n",
              "body-style           0\n",
              "drive-wheels         0\n",
              "engine-location      0\n",
              "width                0\n",
              "height               0\n",
              "engine-type          0\n",
              "engine-size          0\n",
              "horsepower           2\n",
              "city-mpg             0\n",
              "highway-mpg          0\n",
              "price                0\n",
              "dtype: int64"
            ]
          },
          "metadata": {},
          "execution_count": 14
        }
      ],
      "source": [
        "df.isnull().sum()"
      ]
    },
    {
      "cell_type": "code",
      "execution_count": null,
      "id": "f1619fe4",
      "metadata": {
        "id": "f1619fe4"
      },
      "outputs": [],
      "source": [
        "#To change the datatype of horsepower   from object to float\n",
        "#permanent : use inbuilt method astype()\n",
        "df[\"horsepower\"]=df[\"horsepower\"].astype(\"float\")"
      ]
    },
    {
      "cell_type": "code",
      "execution_count": null,
      "id": "7aef5acc",
      "metadata": {
        "id": "7aef5acc"
      },
      "outputs": [],
      "source": [
        "#Fill null values with average/mean of horsepower column in \n",
        "#horsepower column permanent\n",
        "m=df[\"horsepower\"].mean()\n",
        "df[\"horsepower\"].fillna(m,inplace=True)"
      ]
    },
    {
      "cell_type": "code",
      "execution_count": null,
      "id": "25db3733",
      "metadata": {
        "colab": {
          "base_uri": "https://localhost:8080/"
        },
        "id": "25db3733",
        "outputId": "91649b25-28b9-46ca-98b1-97a4ea382515"
      },
      "outputs": [
        {
          "output_type": "execute_result",
          "data": {
            "text/plain": [
              "symboling            0\n",
              "normalized-losses    0\n",
              "make                 0\n",
              "fuel-type            0\n",
              "body-style           0\n",
              "drive-wheels         0\n",
              "engine-location      0\n",
              "width                0\n",
              "height               0\n",
              "engine-type          0\n",
              "engine-size          0\n",
              "horsepower           0\n",
              "city-mpg             0\n",
              "highway-mpg          0\n",
              "price                0\n",
              "dtype: int64"
            ]
          },
          "metadata": {},
          "execution_count": 17
        }
      ],
      "source": [
        "#again check null values in given dataset\n",
        "df.isnull().sum()"
      ]
    },
    {
      "cell_type": "code",
      "execution_count": null,
      "id": "8a21476a",
      "metadata": {
        "colab": {
          "base_uri": "https://localhost:8080/"
        },
        "id": "8a21476a",
        "outputId": "202cc3a0-63dc-42eb-9724-703b28a46087"
      },
      "outputs": [
        {
          "output_type": "execute_result",
          "data": {
            "text/plain": [
              "symboling              int64\n",
              "normalized-losses    float64\n",
              "make                  object\n",
              "fuel-type             object\n",
              "body-style            object\n",
              "drive-wheels          object\n",
              "engine-location       object\n",
              "width                float64\n",
              "height               float64\n",
              "engine-type           object\n",
              "engine-size            int64\n",
              "horsepower           float64\n",
              "city-mpg               int64\n",
              "highway-mpg            int64\n",
              "price                  int64\n",
              "dtype: object"
            ]
          },
          "metadata": {},
          "execution_count": 18
        }
      ],
      "source": [
        "df.dtypes"
      ]
    },
    {
      "cell_type": "code",
      "execution_count": null,
      "id": "76e43cd6",
      "metadata": {
        "id": "76e43cd6"
      },
      "outputs": [],
      "source": [
        "#separate numerical type column and object type column and store in new dataset\n",
        "df_num=df.select_dtypes([\"int64\",\"float64\"])#hold to int and float type data \n",
        "df_cat=df.select_dtypes(object)#hold object type data"
      ]
    },
    {
      "cell_type": "code",
      "execution_count": null,
      "id": "d059c411",
      "metadata": {
        "colab": {
          "base_uri": "https://localhost:8080/"
        },
        "id": "d059c411",
        "outputId": "c3d0dfc2-52e0-4163-db89-4368a9b16efe"
      },
      "outputs": [
        {
          "output_type": "execute_result",
          "data": {
            "text/plain": [
              "symboling              int64\n",
              "normalized-losses    float64\n",
              "width                float64\n",
              "height               float64\n",
              "engine-size            int64\n",
              "horsepower           float64\n",
              "city-mpg               int64\n",
              "highway-mpg            int64\n",
              "price                  int64\n",
              "dtype: object"
            ]
          },
          "metadata": {},
          "execution_count": 20
        }
      ],
      "source": [
        "df_num.dtypes"
      ]
    },
    {
      "cell_type": "code",
      "execution_count": null,
      "id": "e4f78af1",
      "metadata": {
        "colab": {
          "base_uri": "https://localhost:8080/"
        },
        "id": "e4f78af1",
        "outputId": "113e5b70-9407-487c-8682-6d56d5b164ad"
      },
      "outputs": [
        {
          "output_type": "execute_result",
          "data": {
            "text/plain": [
              "make               object\n",
              "fuel-type          object\n",
              "body-style         object\n",
              "drive-wheels       object\n",
              "engine-location    object\n",
              "engine-type        object\n",
              "dtype: object"
            ]
          },
          "metadata": {},
          "execution_count": 21
        }
      ],
      "source": [
        "df_cat.dtypes"
      ]
    },
    {
      "cell_type": "code",
      "execution_count": null,
      "id": "fcc86979",
      "metadata": {
        "id": "fcc86979"
      },
      "outputs": [],
      "source": [
        "#change the object type data into numerical type then use LabelEncoder class\n",
        "from sklearn.preprocessing import LabelEncoder"
      ]
    },
    {
      "cell_type": "code",
      "execution_count": null,
      "id": "b1e4fbab",
      "metadata": {
        "id": "b1e4fbab"
      },
      "outputs": [],
      "source": [
        "for col in df_cat :\n",
        "    le=LabelEncoder() #create the object of LabelEncoder class\n",
        "    df_cat[col]=le.fit_transform(df_cat[col])"
      ]
    },
    {
      "cell_type": "code",
      "execution_count": null,
      "id": "276651ec",
      "metadata": {
        "colab": {
          "base_uri": "https://localhost:8080/",
          "height": 206
        },
        "id": "276651ec",
        "outputId": "959b7e30-7176-4f75-ecef-897ec9e73aa2"
      },
      "outputs": [
        {
          "output_type": "execute_result",
          "data": {
            "text/plain": [
              "   make  fuel-type  body-style  drive-wheels  engine-location  engine-type\n",
              "0     0          1           0             2                0            0\n",
              "1     0          1           0             2                0            0\n",
              "2     0          1           2             2                0            5\n",
              "3     1          1           3             1                0            3\n",
              "4     1          1           3             0                0            3"
            ],
            "text/html": [
              "\n",
              "  <div id=\"df-26a44b50-2f27-4c0f-9579-b5d1e5d8eeb9\">\n",
              "    <div class=\"colab-df-container\">\n",
              "      <div>\n",
              "<style scoped>\n",
              "    .dataframe tbody tr th:only-of-type {\n",
              "        vertical-align: middle;\n",
              "    }\n",
              "\n",
              "    .dataframe tbody tr th {\n",
              "        vertical-align: top;\n",
              "    }\n",
              "\n",
              "    .dataframe thead th {\n",
              "        text-align: right;\n",
              "    }\n",
              "</style>\n",
              "<table border=\"1\" class=\"dataframe\">\n",
              "  <thead>\n",
              "    <tr style=\"text-align: right;\">\n",
              "      <th></th>\n",
              "      <th>make</th>\n",
              "      <th>fuel-type</th>\n",
              "      <th>body-style</th>\n",
              "      <th>drive-wheels</th>\n",
              "      <th>engine-location</th>\n",
              "      <th>engine-type</th>\n",
              "    </tr>\n",
              "  </thead>\n",
              "  <tbody>\n",
              "    <tr>\n",
              "      <th>0</th>\n",
              "      <td>0</td>\n",
              "      <td>1</td>\n",
              "      <td>0</td>\n",
              "      <td>2</td>\n",
              "      <td>0</td>\n",
              "      <td>0</td>\n",
              "    </tr>\n",
              "    <tr>\n",
              "      <th>1</th>\n",
              "      <td>0</td>\n",
              "      <td>1</td>\n",
              "      <td>0</td>\n",
              "      <td>2</td>\n",
              "      <td>0</td>\n",
              "      <td>0</td>\n",
              "    </tr>\n",
              "    <tr>\n",
              "      <th>2</th>\n",
              "      <td>0</td>\n",
              "      <td>1</td>\n",
              "      <td>2</td>\n",
              "      <td>2</td>\n",
              "      <td>0</td>\n",
              "      <td>5</td>\n",
              "    </tr>\n",
              "    <tr>\n",
              "      <th>3</th>\n",
              "      <td>1</td>\n",
              "      <td>1</td>\n",
              "      <td>3</td>\n",
              "      <td>1</td>\n",
              "      <td>0</td>\n",
              "      <td>3</td>\n",
              "    </tr>\n",
              "    <tr>\n",
              "      <th>4</th>\n",
              "      <td>1</td>\n",
              "      <td>1</td>\n",
              "      <td>3</td>\n",
              "      <td>0</td>\n",
              "      <td>0</td>\n",
              "      <td>3</td>\n",
              "    </tr>\n",
              "  </tbody>\n",
              "</table>\n",
              "</div>\n",
              "      <button class=\"colab-df-convert\" onclick=\"convertToInteractive('df-26a44b50-2f27-4c0f-9579-b5d1e5d8eeb9')\"\n",
              "              title=\"Convert this dataframe to an interactive table.\"\n",
              "              style=\"display:none;\">\n",
              "        \n",
              "  <svg xmlns=\"http://www.w3.org/2000/svg\" height=\"24px\"viewBox=\"0 0 24 24\"\n",
              "       width=\"24px\">\n",
              "    <path d=\"M0 0h24v24H0V0z\" fill=\"none\"/>\n",
              "    <path d=\"M18.56 5.44l.94 2.06.94-2.06 2.06-.94-2.06-.94-.94-2.06-.94 2.06-2.06.94zm-11 1L8.5 8.5l.94-2.06 2.06-.94-2.06-.94L8.5 2.5l-.94 2.06-2.06.94zm10 10l.94 2.06.94-2.06 2.06-.94-2.06-.94-.94-2.06-.94 2.06-2.06.94z\"/><path d=\"M17.41 7.96l-1.37-1.37c-.4-.4-.92-.59-1.43-.59-.52 0-1.04.2-1.43.59L10.3 9.45l-7.72 7.72c-.78.78-.78 2.05 0 2.83L4 21.41c.39.39.9.59 1.41.59.51 0 1.02-.2 1.41-.59l7.78-7.78 2.81-2.81c.8-.78.8-2.07 0-2.86zM5.41 20L4 18.59l7.72-7.72 1.47 1.35L5.41 20z\"/>\n",
              "  </svg>\n",
              "      </button>\n",
              "      \n",
              "  <style>\n",
              "    .colab-df-container {\n",
              "      display:flex;\n",
              "      flex-wrap:wrap;\n",
              "      gap: 12px;\n",
              "    }\n",
              "\n",
              "    .colab-df-convert {\n",
              "      background-color: #E8F0FE;\n",
              "      border: none;\n",
              "      border-radius: 50%;\n",
              "      cursor: pointer;\n",
              "      display: none;\n",
              "      fill: #1967D2;\n",
              "      height: 32px;\n",
              "      padding: 0 0 0 0;\n",
              "      width: 32px;\n",
              "    }\n",
              "\n",
              "    .colab-df-convert:hover {\n",
              "      background-color: #E2EBFA;\n",
              "      box-shadow: 0px 1px 2px rgba(60, 64, 67, 0.3), 0px 1px 3px 1px rgba(60, 64, 67, 0.15);\n",
              "      fill: #174EA6;\n",
              "    }\n",
              "\n",
              "    [theme=dark] .colab-df-convert {\n",
              "      background-color: #3B4455;\n",
              "      fill: #D2E3FC;\n",
              "    }\n",
              "\n",
              "    [theme=dark] .colab-df-convert:hover {\n",
              "      background-color: #434B5C;\n",
              "      box-shadow: 0px 1px 3px 1px rgba(0, 0, 0, 0.15);\n",
              "      filter: drop-shadow(0px 1px 2px rgba(0, 0, 0, 0.3));\n",
              "      fill: #FFFFFF;\n",
              "    }\n",
              "  </style>\n",
              "\n",
              "      <script>\n",
              "        const buttonEl =\n",
              "          document.querySelector('#df-26a44b50-2f27-4c0f-9579-b5d1e5d8eeb9 button.colab-df-convert');\n",
              "        buttonEl.style.display =\n",
              "          google.colab.kernel.accessAllowed ? 'block' : 'none';\n",
              "\n",
              "        async function convertToInteractive(key) {\n",
              "          const element = document.querySelector('#df-26a44b50-2f27-4c0f-9579-b5d1e5d8eeb9');\n",
              "          const dataTable =\n",
              "            await google.colab.kernel.invokeFunction('convertToInteractive',\n",
              "                                                     [key], {});\n",
              "          if (!dataTable) return;\n",
              "\n",
              "          const docLinkHtml = 'Like what you see? Visit the ' +\n",
              "            '<a target=\"_blank\" href=https://colab.research.google.com/notebooks/data_table.ipynb>data table notebook</a>'\n",
              "            + ' to learn more about interactive tables.';\n",
              "          element.innerHTML = '';\n",
              "          dataTable['output_type'] = 'display_data';\n",
              "          await google.colab.output.renderOutput(dataTable, element);\n",
              "          const docLink = document.createElement('div');\n",
              "          docLink.innerHTML = docLinkHtml;\n",
              "          element.appendChild(docLink);\n",
              "        }\n",
              "      </script>\n",
              "    </div>\n",
              "  </div>\n",
              "  "
            ]
          },
          "metadata": {},
          "execution_count": 24
        }
      ],
      "source": [
        "df_cat.head()"
      ]
    },
    {
      "cell_type": "code",
      "execution_count": null,
      "id": "8a8d1a5c",
      "metadata": {
        "colab": {
          "base_uri": "https://localhost:8080/",
          "height": 288
        },
        "id": "8a8d1a5c",
        "outputId": "31d987ac-b322-4e50-dac9-59b06cf65529"
      },
      "outputs": [
        {
          "output_type": "execute_result",
          "data": {
            "text/plain": [
              "   symboling  normalized-losses  width  height  engine-size  horsepower  \\\n",
              "0          3              122.0   64.1    48.8          130       111.0   \n",
              "1          3              122.0   64.1    48.8          130       111.0   \n",
              "2          1              122.0   65.5    52.4          152       154.0   \n",
              "3          2              164.0   66.2    54.3          109       102.0   \n",
              "4          2              164.0   66.4    54.3          136       115.0   \n",
              "\n",
              "   city-mpg  highway-mpg  price  make  fuel-type  body-style  drive-wheels  \\\n",
              "0        21           27  13495     0          1           0             2   \n",
              "1        21           27  16500     0          1           0             2   \n",
              "2        19           26  16500     0          1           2             2   \n",
              "3        24           30  13950     1          1           3             1   \n",
              "4        18           22  17450     1          1           3             0   \n",
              "\n",
              "   engine-location  engine-type  \n",
              "0                0            0  \n",
              "1                0            0  \n",
              "2                0            5  \n",
              "3                0            3  \n",
              "4                0            3  "
            ],
            "text/html": [
              "\n",
              "  <div id=\"df-25dac95a-e1c7-4652-80bf-dba50d9c2532\">\n",
              "    <div class=\"colab-df-container\">\n",
              "      <div>\n",
              "<style scoped>\n",
              "    .dataframe tbody tr th:only-of-type {\n",
              "        vertical-align: middle;\n",
              "    }\n",
              "\n",
              "    .dataframe tbody tr th {\n",
              "        vertical-align: top;\n",
              "    }\n",
              "\n",
              "    .dataframe thead th {\n",
              "        text-align: right;\n",
              "    }\n",
              "</style>\n",
              "<table border=\"1\" class=\"dataframe\">\n",
              "  <thead>\n",
              "    <tr style=\"text-align: right;\">\n",
              "      <th></th>\n",
              "      <th>symboling</th>\n",
              "      <th>normalized-losses</th>\n",
              "      <th>width</th>\n",
              "      <th>height</th>\n",
              "      <th>engine-size</th>\n",
              "      <th>horsepower</th>\n",
              "      <th>city-mpg</th>\n",
              "      <th>highway-mpg</th>\n",
              "      <th>price</th>\n",
              "      <th>make</th>\n",
              "      <th>fuel-type</th>\n",
              "      <th>body-style</th>\n",
              "      <th>drive-wheels</th>\n",
              "      <th>engine-location</th>\n",
              "      <th>engine-type</th>\n",
              "    </tr>\n",
              "  </thead>\n",
              "  <tbody>\n",
              "    <tr>\n",
              "      <th>0</th>\n",
              "      <td>3</td>\n",
              "      <td>122.0</td>\n",
              "      <td>64.1</td>\n",
              "      <td>48.8</td>\n",
              "      <td>130</td>\n",
              "      <td>111.0</td>\n",
              "      <td>21</td>\n",
              "      <td>27</td>\n",
              "      <td>13495</td>\n",
              "      <td>0</td>\n",
              "      <td>1</td>\n",
              "      <td>0</td>\n",
              "      <td>2</td>\n",
              "      <td>0</td>\n",
              "      <td>0</td>\n",
              "    </tr>\n",
              "    <tr>\n",
              "      <th>1</th>\n",
              "      <td>3</td>\n",
              "      <td>122.0</td>\n",
              "      <td>64.1</td>\n",
              "      <td>48.8</td>\n",
              "      <td>130</td>\n",
              "      <td>111.0</td>\n",
              "      <td>21</td>\n",
              "      <td>27</td>\n",
              "      <td>16500</td>\n",
              "      <td>0</td>\n",
              "      <td>1</td>\n",
              "      <td>0</td>\n",
              "      <td>2</td>\n",
              "      <td>0</td>\n",
              "      <td>0</td>\n",
              "    </tr>\n",
              "    <tr>\n",
              "      <th>2</th>\n",
              "      <td>1</td>\n",
              "      <td>122.0</td>\n",
              "      <td>65.5</td>\n",
              "      <td>52.4</td>\n",
              "      <td>152</td>\n",
              "      <td>154.0</td>\n",
              "      <td>19</td>\n",
              "      <td>26</td>\n",
              "      <td>16500</td>\n",
              "      <td>0</td>\n",
              "      <td>1</td>\n",
              "      <td>2</td>\n",
              "      <td>2</td>\n",
              "      <td>0</td>\n",
              "      <td>5</td>\n",
              "    </tr>\n",
              "    <tr>\n",
              "      <th>3</th>\n",
              "      <td>2</td>\n",
              "      <td>164.0</td>\n",
              "      <td>66.2</td>\n",
              "      <td>54.3</td>\n",
              "      <td>109</td>\n",
              "      <td>102.0</td>\n",
              "      <td>24</td>\n",
              "      <td>30</td>\n",
              "      <td>13950</td>\n",
              "      <td>1</td>\n",
              "      <td>1</td>\n",
              "      <td>3</td>\n",
              "      <td>1</td>\n",
              "      <td>0</td>\n",
              "      <td>3</td>\n",
              "    </tr>\n",
              "    <tr>\n",
              "      <th>4</th>\n",
              "      <td>2</td>\n",
              "      <td>164.0</td>\n",
              "      <td>66.4</td>\n",
              "      <td>54.3</td>\n",
              "      <td>136</td>\n",
              "      <td>115.0</td>\n",
              "      <td>18</td>\n",
              "      <td>22</td>\n",
              "      <td>17450</td>\n",
              "      <td>1</td>\n",
              "      <td>1</td>\n",
              "      <td>3</td>\n",
              "      <td>0</td>\n",
              "      <td>0</td>\n",
              "      <td>3</td>\n",
              "    </tr>\n",
              "  </tbody>\n",
              "</table>\n",
              "</div>\n",
              "      <button class=\"colab-df-convert\" onclick=\"convertToInteractive('df-25dac95a-e1c7-4652-80bf-dba50d9c2532')\"\n",
              "              title=\"Convert this dataframe to an interactive table.\"\n",
              "              style=\"display:none;\">\n",
              "        \n",
              "  <svg xmlns=\"http://www.w3.org/2000/svg\" height=\"24px\"viewBox=\"0 0 24 24\"\n",
              "       width=\"24px\">\n",
              "    <path d=\"M0 0h24v24H0V0z\" fill=\"none\"/>\n",
              "    <path d=\"M18.56 5.44l.94 2.06.94-2.06 2.06-.94-2.06-.94-.94-2.06-.94 2.06-2.06.94zm-11 1L8.5 8.5l.94-2.06 2.06-.94-2.06-.94L8.5 2.5l-.94 2.06-2.06.94zm10 10l.94 2.06.94-2.06 2.06-.94-2.06-.94-.94-2.06-.94 2.06-2.06.94z\"/><path d=\"M17.41 7.96l-1.37-1.37c-.4-.4-.92-.59-1.43-.59-.52 0-1.04.2-1.43.59L10.3 9.45l-7.72 7.72c-.78.78-.78 2.05 0 2.83L4 21.41c.39.39.9.59 1.41.59.51 0 1.02-.2 1.41-.59l7.78-7.78 2.81-2.81c.8-.78.8-2.07 0-2.86zM5.41 20L4 18.59l7.72-7.72 1.47 1.35L5.41 20z\"/>\n",
              "  </svg>\n",
              "      </button>\n",
              "      \n",
              "  <style>\n",
              "    .colab-df-container {\n",
              "      display:flex;\n",
              "      flex-wrap:wrap;\n",
              "      gap: 12px;\n",
              "    }\n",
              "\n",
              "    .colab-df-convert {\n",
              "      background-color: #E8F0FE;\n",
              "      border: none;\n",
              "      border-radius: 50%;\n",
              "      cursor: pointer;\n",
              "      display: none;\n",
              "      fill: #1967D2;\n",
              "      height: 32px;\n",
              "      padding: 0 0 0 0;\n",
              "      width: 32px;\n",
              "    }\n",
              "\n",
              "    .colab-df-convert:hover {\n",
              "      background-color: #E2EBFA;\n",
              "      box-shadow: 0px 1px 2px rgba(60, 64, 67, 0.3), 0px 1px 3px 1px rgba(60, 64, 67, 0.15);\n",
              "      fill: #174EA6;\n",
              "    }\n",
              "\n",
              "    [theme=dark] .colab-df-convert {\n",
              "      background-color: #3B4455;\n",
              "      fill: #D2E3FC;\n",
              "    }\n",
              "\n",
              "    [theme=dark] .colab-df-convert:hover {\n",
              "      background-color: #434B5C;\n",
              "      box-shadow: 0px 1px 3px 1px rgba(0, 0, 0, 0.15);\n",
              "      filter: drop-shadow(0px 1px 2px rgba(0, 0, 0, 0.3));\n",
              "      fill: #FFFFFF;\n",
              "    }\n",
              "  </style>\n",
              "\n",
              "      <script>\n",
              "        const buttonEl =\n",
              "          document.querySelector('#df-25dac95a-e1c7-4652-80bf-dba50d9c2532 button.colab-df-convert');\n",
              "        buttonEl.style.display =\n",
              "          google.colab.kernel.accessAllowed ? 'block' : 'none';\n",
              "\n",
              "        async function convertToInteractive(key) {\n",
              "          const element = document.querySelector('#df-25dac95a-e1c7-4652-80bf-dba50d9c2532');\n",
              "          const dataTable =\n",
              "            await google.colab.kernel.invokeFunction('convertToInteractive',\n",
              "                                                     [key], {});\n",
              "          if (!dataTable) return;\n",
              "\n",
              "          const docLinkHtml = 'Like what you see? Visit the ' +\n",
              "            '<a target=\"_blank\" href=https://colab.research.google.com/notebooks/data_table.ipynb>data table notebook</a>'\n",
              "            + ' to learn more about interactive tables.';\n",
              "          element.innerHTML = '';\n",
              "          dataTable['output_type'] = 'display_data';\n",
              "          await google.colab.output.renderOutput(dataTable, element);\n",
              "          const docLink = document.createElement('div');\n",
              "          docLink.innerHTML = docLinkHtml;\n",
              "          element.appendChild(docLink);\n",
              "        }\n",
              "      </script>\n",
              "    </div>\n",
              "  </div>\n",
              "  "
            ]
          },
          "metadata": {},
          "execution_count": 25
        }
      ],
      "source": [
        "#concatenation of both dataset df_num and df_cat and hold new dataset df_new\n",
        "df_new=pd.concat([df_num,df_cat],axis=1) #axis=1 column wise\n",
        "df_new.head()"
      ]
    },
    {
      "cell_type": "code",
      "execution_count": null,
      "id": "653113c6",
      "metadata": {
        "colab": {
          "base_uri": "https://localhost:8080/"
        },
        "id": "653113c6",
        "outputId": "547706c7-fbae-4db4-c5fe-bfd51c904926"
      },
      "outputs": [
        {
          "output_type": "execute_result",
          "data": {
            "text/plain": [
              "symboling              int64\n",
              "normalized-losses    float64\n",
              "width                float64\n",
              "height               float64\n",
              "engine-size            int64\n",
              "horsepower           float64\n",
              "city-mpg               int64\n",
              "highway-mpg            int64\n",
              "price                  int64\n",
              "make                   int64\n",
              "fuel-type              int64\n",
              "body-style             int64\n",
              "drive-wheels           int64\n",
              "engine-location        int64\n",
              "engine-type            int64\n",
              "dtype: object"
            ]
          },
          "metadata": {},
          "execution_count": 26
        }
      ],
      "source": [
        "df_new.dtypes"
      ]
    },
    {
      "cell_type": "code",
      "source": [
        "#19th May\n",
        "#select input and output from df_new dataframe\n",
        "X=df_new.drop('price',axis=1) #input\n",
        "Y=df_new['price'] #output"
      ],
      "metadata": {
        "id": "H4M_-kdIZLVY"
      },
      "id": "H4M_-kdIZLVY",
      "execution_count": null,
      "outputs": []
    },
    {
      "cell_type": "code",
      "source": [
        "from sklearn.model_selection import train_test_split\n",
        "X_train,X_test,Y_train,Y_test=train_test_split(X,Y,test_size=0.3,random_state=1)"
      ],
      "metadata": {
        "id": "W03WMDg4Zigy"
      },
      "id": "W03WMDg4Zigy",
      "execution_count": null,
      "outputs": []
    },
    {
      "cell_type": "code",
      "source": [
        "#train the model with Linearregression algo\n",
        "from sklearn.linear_model import LinearRegression\n",
        "#create object of linearegression class\n",
        "lr=LinearRegression()"
      ],
      "metadata": {
        "id": "kHOg6CvFaHou"
      },
      "id": "kHOg6CvFaHou",
      "execution_count": null,
      "outputs": []
    },
    {
      "cell_type": "code",
      "source": [
        "#train the model with 70% data\n",
        "lr.fit(X_train,Y_train)"
      ],
      "metadata": {
        "colab": {
          "base_uri": "https://localhost:8080/"
        },
        "id": "W0xbtFNKakSG",
        "outputId": "6d670726-c9fb-4519-def8-4f644b4e330c"
      },
      "id": "W0xbtFNKakSG",
      "execution_count": null,
      "outputs": [
        {
          "output_type": "execute_result",
          "data": {
            "text/plain": [
              "LinearRegression()"
            ]
          },
          "metadata": {},
          "execution_count": 30
        }
      ]
    },
    {
      "cell_type": "code",
      "source": [
        "X.shape"
      ],
      "metadata": {
        "colab": {
          "base_uri": "https://localhost:8080/"
        },
        "id": "AQi-mFpNa6Lt",
        "outputId": "17b89ee2-76fa-4ce4-ac3c-035758e3b524"
      },
      "id": "AQi-mFpNa6Lt",
      "execution_count": null,
      "outputs": [
        {
          "output_type": "execute_result",
          "data": {
            "text/plain": [
              "(205, 14)"
            ]
          },
          "metadata": {},
          "execution_count": 31
        }
      ]
    },
    {
      "cell_type": "code",
      "source": [
        "#to check coefficient or slope\n",
        "m1=lr.coef_ #here m1 is a list object \n",
        "#print(m1)\n",
        "#list comprehention\n",
        "m1=[np.round(i,2) for i in m1]\n",
        "print(m1)"
      ],
      "metadata": {
        "colab": {
          "base_uri": "https://localhost:8080/"
        },
        "id": "vYc-Mc9NbMPz",
        "outputId": "013e5a17-312e-4812-e8e2-8b22852aed09"
      },
      "id": "vYc-Mc9NbMPz",
      "execution_count": null,
      "outputs": [
        {
          "output_type": "stream",
          "name": "stdout",
          "text": [
            "[45.14, 1.53, 789.45, 362.66, 98.37, -10.82, 308.02, -417.02, -200.1, -622.65, -170.24, 1868.61, 16413.36, 283.17]\n"
          ]
        }
      ]
    },
    {
      "cell_type": "code",
      "source": [
        "X.columns"
      ],
      "metadata": {
        "colab": {
          "base_uri": "https://localhost:8080/"
        },
        "id": "4bYAGF0-bVML",
        "outputId": "16bd3abc-5fcf-4329-af52-22033c68e814"
      },
      "id": "4bYAGF0-bVML",
      "execution_count": null,
      "outputs": [
        {
          "output_type": "execute_result",
          "data": {
            "text/plain": [
              "Index(['symboling', 'normalized-losses', 'width', 'height', 'engine-size',\n",
              "       'horsepower', 'city-mpg', 'highway-mpg', 'make', 'fuel-type',\n",
              "       'body-style', 'drive-wheels', 'engine-location', 'engine-type'],\n",
              "      dtype='object')"
            ]
          },
          "metadata": {},
          "execution_count": 33
        }
      ]
    },
    {
      "cell_type": "code",
      "source": [
        "#find training score, us einbuilt method of linearregression\n",
        "lr.score(X_train,Y_train)"
      ],
      "metadata": {
        "colab": {
          "base_uri": "https://localhost:8080/"
        },
        "id": "LNi2mXcQcevC",
        "outputId": "b38b241f-862d-4c1e-a05c-0318de945563"
      },
      "id": "LNi2mXcQcevC",
      "execution_count": null,
      "outputs": [
        {
          "output_type": "execute_result",
          "data": {
            "text/plain": [
              "0.8504573774895473"
            ]
          },
          "metadata": {},
          "execution_count": 34
        }
      ]
    },
    {
      "cell_type": "code",
      "source": [
        "lr.score(X_test,Y_test)\n",
        "#model is overfit as lr.score(X_train,Y_train) > lr.score(X_test,Y_test)\n",
        "# 0.8504573774895473 > 0.7965566780397381 orverfit "
      ],
      "metadata": {
        "colab": {
          "base_uri": "https://localhost:8080/"
        },
        "id": "7S1ui1QYc4EJ",
        "outputId": "2b86aef1-9c8d-4322-9842-b861b3f56b2b"
      },
      "id": "7S1ui1QYc4EJ",
      "execution_count": null,
      "outputs": [
        {
          "output_type": "execute_result",
          "data": {
            "text/plain": [
              "0.7965566780397381"
            ]
          },
          "metadata": {},
          "execution_count": 35
        }
      ]
    },
    {
      "cell_type": "code",
      "source": [
        "#test the model with 30% data\n",
        "Y_pred=lr.predict(X_test)\n",
        "#find r2_score\n",
        "from sklearn.metrics import r2_score\n",
        "r2_score(Y_test,Y_pred) \n",
        "#lr.score(X_test,Y_test) == r2_score(Y_test,Y_pred) "
      ],
      "metadata": {
        "colab": {
          "base_uri": "https://localhost:8080/"
        },
        "id": "Rh1KNXXFdGwH",
        "outputId": "3a07213e-2706-4bb1-cb7c-e4eeb045e504"
      },
      "id": "Rh1KNXXFdGwH",
      "execution_count": null,
      "outputs": [
        {
          "output_type": "execute_result",
          "data": {
            "text/plain": [
              "0.7965566780397381"
            ]
          },
          "metadata": {},
          "execution_count": 36
        }
      ]
    },
    {
      "cell_type": "code",
      "source": [
        "#there clearly , model is overfitting why?\n",
        "#because training score> testing score\n",
        "#means training error < testing error\n",
        "#to reduce overfit, use Regularisation technique"
      ],
      "metadata": {
        "id": "IokeOdQYd2Iw"
      },
      "id": "IokeOdQYd2Iw",
      "execution_count": null,
      "outputs": []
    },
    {
      "cell_type": "code",
      "source": [
        "#lasso 200-1000\n",
        "''' Add some error during training time \n",
        "   1. Lasso Regularization : L1  \n",
        "   RSS Error+lambda*sum(abs(all coefficient or slope)) here lambda is also known as \n",
        "   hyper-parameter, value of lambda  can be 200,400,600,..1000\n",
        "   2. Ridge Regularization : L2\n",
        "   RSS Error+lambda*sum(square(all coefficient)) here lambda is also known as \n",
        "   hyper-parameter, value of lambda  can be 0 to 50\n",
        "'''"
      ],
      "metadata": {
        "colab": {
          "base_uri": "https://localhost:8080/",
          "height": 87
        },
        "id": "DiWjW0wVrnVH",
        "outputId": "d275f2f4-56ce-425c-f9ae-ca8b52d8e247"
      },
      "id": "DiWjW0wVrnVH",
      "execution_count": null,
      "outputs": [
        {
          "output_type": "execute_result",
          "data": {
            "text/plain": [
              "' Add some error during training time \\n   1. Lasso Regularization : L1  \\n   RSS Error+lambda*sum(abs(all coefficient or slope)) here lambda is also known as \\n   hyper-parameter, value of lambda  can be 200,400,600,..1000\\n   2. Ridge Regularization : L2\\n   RSS Error+lambda*sum(square(all coefficient)) here lambda is also known as \\n   hyper-parameter, value of lambda  can be 0 to 50\\n'"
            ],
            "application/vnd.google.colaboratory.intrinsic+json": {
              "type": "string"
            }
          },
          "metadata": {},
          "execution_count": 38
        }
      ]
    },
    {
      "cell_type": "code",
      "source": [
        "from sklearn.linear_model import Lasso"
      ],
      "metadata": {
        "id": "-zkTGmgAx3Lv"
      },
      "id": "-zkTGmgAx3Lv",
      "execution_count": null,
      "outputs": []
    },
    {
      "cell_type": "code",
      "source": [
        "#create object of Lasso class\n",
        "L1=Lasso(200) #passing the value of lambda(hyper-parameter)\n"
      ],
      "metadata": {
        "id": "7KH3JEJFyGOt"
      },
      "id": "7KH3JEJFyGOt",
      "execution_count": null,
      "outputs": []
    },
    {
      "cell_type": "code",
      "source": [
        "#train the model with lasso with 70% data\n",
        "L1.fit(X_train,Y_train)"
      ],
      "metadata": {
        "colab": {
          "base_uri": "https://localhost:8080/"
        },
        "id": "0peLZzvDyriu",
        "outputId": "6d6a2e20-6fdf-4f7b-9b9c-8bf942f8ea19"
      },
      "id": "0peLZzvDyriu",
      "execution_count": null,
      "outputs": [
        {
          "output_type": "execute_result",
          "data": {
            "text/plain": [
              "Lasso(alpha=200)"
            ]
          },
          "metadata": {},
          "execution_count": 41
        }
      ]
    },
    {
      "cell_type": "code",
      "source": [
        "#check slope/coefficient after add error on trainned time (with Lasso)\n",
        "slope_L1=L1.coef_\n",
        "slope_L1\n",
        "Slope_L1=[np.round(i,2) for i in slope_L1] #list comprehension\n",
        "print(Slope_L1)"
      ],
      "metadata": {
        "colab": {
          "base_uri": "https://localhost:8080/"
        },
        "id": "kkQ881Afyzxa",
        "outputId": "ffabe505-48ba-4671-c21c-d86d4bcb19cb"
      },
      "id": "kkQ881Afyzxa",
      "execution_count": null,
      "outputs": [
        {
          "output_type": "stream",
          "name": "stdout",
          "text": [
            "[0.0, 2.07, 323.43, 469.42, 115.55, 14.28, 36.3, -124.78, -167.46, -0.0, -405.12, 1112.43, 2094.63, 305.82]\n"
          ]
        }
      ]
    },
    {
      "cell_type": "code",
      "source": [
        "X.columns"
      ],
      "metadata": {
        "colab": {
          "base_uri": "https://localhost:8080/"
        },
        "id": "IgkAUbDTzY3u",
        "outputId": "f776d0f4-05d4-482b-f76e-272009b76fb4"
      },
      "id": "IgkAUbDTzY3u",
      "execution_count": null,
      "outputs": [
        {
          "output_type": "execute_result",
          "data": {
            "text/plain": [
              "Index(['symboling', 'normalized-losses', 'width', 'height', 'engine-size',\n",
              "       'horsepower', 'city-mpg', 'highway-mpg', 'make', 'fuel-type',\n",
              "       'body-style', 'drive-wheels', 'engine-location', 'engine-type'],\n",
              "      dtype='object')"
            ]
          },
          "metadata": {},
          "execution_count": 43
        }
      ]
    },
    {
      "cell_type": "code",
      "source": [
        "#create a dictionary \n",
        "dict={'Input':X.columns,'Slope_before':m1,'Slope_After_Lasso':Slope_L1}\n",
        "#convert to dataframe\n",
        "df1=pd.DataFrame(dict)\n",
        "df1"
      ],
      "metadata": {
        "colab": {
          "base_uri": "https://localhost:8080/",
          "height": 488
        },
        "id": "k0DNCBDZz8Bg",
        "outputId": "b9601f6f-efa2-4a90-8716-7908f4d8b4ca"
      },
      "id": "k0DNCBDZz8Bg",
      "execution_count": null,
      "outputs": [
        {
          "output_type": "execute_result",
          "data": {
            "text/plain": [
              "                Input  Slope_before  Slope_After_Lasso\n",
              "0           symboling         45.14               0.00\n",
              "1   normalized-losses          1.53               2.07\n",
              "2               width        789.45             323.43\n",
              "3              height        362.66             469.42\n",
              "4         engine-size         98.37             115.55\n",
              "5          horsepower        -10.82              14.28\n",
              "6            city-mpg        308.02              36.30\n",
              "7         highway-mpg       -417.02            -124.78\n",
              "8                make       -200.10            -167.46\n",
              "9           fuel-type       -622.65              -0.00\n",
              "10         body-style       -170.24            -405.12\n",
              "11       drive-wheels       1868.61            1112.43\n",
              "12    engine-location      16413.36            2094.63\n",
              "13        engine-type        283.17             305.82"
            ],
            "text/html": [
              "\n",
              "  <div id=\"df-171af6db-6148-4047-a796-284e55c07969\">\n",
              "    <div class=\"colab-df-container\">\n",
              "      <div>\n",
              "<style scoped>\n",
              "    .dataframe tbody tr th:only-of-type {\n",
              "        vertical-align: middle;\n",
              "    }\n",
              "\n",
              "    .dataframe tbody tr th {\n",
              "        vertical-align: top;\n",
              "    }\n",
              "\n",
              "    .dataframe thead th {\n",
              "        text-align: right;\n",
              "    }\n",
              "</style>\n",
              "<table border=\"1\" class=\"dataframe\">\n",
              "  <thead>\n",
              "    <tr style=\"text-align: right;\">\n",
              "      <th></th>\n",
              "      <th>Input</th>\n",
              "      <th>Slope_before</th>\n",
              "      <th>Slope_After_Lasso</th>\n",
              "    </tr>\n",
              "  </thead>\n",
              "  <tbody>\n",
              "    <tr>\n",
              "      <th>0</th>\n",
              "      <td>symboling</td>\n",
              "      <td>45.14</td>\n",
              "      <td>0.00</td>\n",
              "    </tr>\n",
              "    <tr>\n",
              "      <th>1</th>\n",
              "      <td>normalized-losses</td>\n",
              "      <td>1.53</td>\n",
              "      <td>2.07</td>\n",
              "    </tr>\n",
              "    <tr>\n",
              "      <th>2</th>\n",
              "      <td>width</td>\n",
              "      <td>789.45</td>\n",
              "      <td>323.43</td>\n",
              "    </tr>\n",
              "    <tr>\n",
              "      <th>3</th>\n",
              "      <td>height</td>\n",
              "      <td>362.66</td>\n",
              "      <td>469.42</td>\n",
              "    </tr>\n",
              "    <tr>\n",
              "      <th>4</th>\n",
              "      <td>engine-size</td>\n",
              "      <td>98.37</td>\n",
              "      <td>115.55</td>\n",
              "    </tr>\n",
              "    <tr>\n",
              "      <th>5</th>\n",
              "      <td>horsepower</td>\n",
              "      <td>-10.82</td>\n",
              "      <td>14.28</td>\n",
              "    </tr>\n",
              "    <tr>\n",
              "      <th>6</th>\n",
              "      <td>city-mpg</td>\n",
              "      <td>308.02</td>\n",
              "      <td>36.30</td>\n",
              "    </tr>\n",
              "    <tr>\n",
              "      <th>7</th>\n",
              "      <td>highway-mpg</td>\n",
              "      <td>-417.02</td>\n",
              "      <td>-124.78</td>\n",
              "    </tr>\n",
              "    <tr>\n",
              "      <th>8</th>\n",
              "      <td>make</td>\n",
              "      <td>-200.10</td>\n",
              "      <td>-167.46</td>\n",
              "    </tr>\n",
              "    <tr>\n",
              "      <th>9</th>\n",
              "      <td>fuel-type</td>\n",
              "      <td>-622.65</td>\n",
              "      <td>-0.00</td>\n",
              "    </tr>\n",
              "    <tr>\n",
              "      <th>10</th>\n",
              "      <td>body-style</td>\n",
              "      <td>-170.24</td>\n",
              "      <td>-405.12</td>\n",
              "    </tr>\n",
              "    <tr>\n",
              "      <th>11</th>\n",
              "      <td>drive-wheels</td>\n",
              "      <td>1868.61</td>\n",
              "      <td>1112.43</td>\n",
              "    </tr>\n",
              "    <tr>\n",
              "      <th>12</th>\n",
              "      <td>engine-location</td>\n",
              "      <td>16413.36</td>\n",
              "      <td>2094.63</td>\n",
              "    </tr>\n",
              "    <tr>\n",
              "      <th>13</th>\n",
              "      <td>engine-type</td>\n",
              "      <td>283.17</td>\n",
              "      <td>305.82</td>\n",
              "    </tr>\n",
              "  </tbody>\n",
              "</table>\n",
              "</div>\n",
              "      <button class=\"colab-df-convert\" onclick=\"convertToInteractive('df-171af6db-6148-4047-a796-284e55c07969')\"\n",
              "              title=\"Convert this dataframe to an interactive table.\"\n",
              "              style=\"display:none;\">\n",
              "        \n",
              "  <svg xmlns=\"http://www.w3.org/2000/svg\" height=\"24px\"viewBox=\"0 0 24 24\"\n",
              "       width=\"24px\">\n",
              "    <path d=\"M0 0h24v24H0V0z\" fill=\"none\"/>\n",
              "    <path d=\"M18.56 5.44l.94 2.06.94-2.06 2.06-.94-2.06-.94-.94-2.06-.94 2.06-2.06.94zm-11 1L8.5 8.5l.94-2.06 2.06-.94-2.06-.94L8.5 2.5l-.94 2.06-2.06.94zm10 10l.94 2.06.94-2.06 2.06-.94-2.06-.94-.94-2.06-.94 2.06-2.06.94z\"/><path d=\"M17.41 7.96l-1.37-1.37c-.4-.4-.92-.59-1.43-.59-.52 0-1.04.2-1.43.59L10.3 9.45l-7.72 7.72c-.78.78-.78 2.05 0 2.83L4 21.41c.39.39.9.59 1.41.59.51 0 1.02-.2 1.41-.59l7.78-7.78 2.81-2.81c.8-.78.8-2.07 0-2.86zM5.41 20L4 18.59l7.72-7.72 1.47 1.35L5.41 20z\"/>\n",
              "  </svg>\n",
              "      </button>\n",
              "      \n",
              "  <style>\n",
              "    .colab-df-container {\n",
              "      display:flex;\n",
              "      flex-wrap:wrap;\n",
              "      gap: 12px;\n",
              "    }\n",
              "\n",
              "    .colab-df-convert {\n",
              "      background-color: #E8F0FE;\n",
              "      border: none;\n",
              "      border-radius: 50%;\n",
              "      cursor: pointer;\n",
              "      display: none;\n",
              "      fill: #1967D2;\n",
              "      height: 32px;\n",
              "      padding: 0 0 0 0;\n",
              "      width: 32px;\n",
              "    }\n",
              "\n",
              "    .colab-df-convert:hover {\n",
              "      background-color: #E2EBFA;\n",
              "      box-shadow: 0px 1px 2px rgba(60, 64, 67, 0.3), 0px 1px 3px 1px rgba(60, 64, 67, 0.15);\n",
              "      fill: #174EA6;\n",
              "    }\n",
              "\n",
              "    [theme=dark] .colab-df-convert {\n",
              "      background-color: #3B4455;\n",
              "      fill: #D2E3FC;\n",
              "    }\n",
              "\n",
              "    [theme=dark] .colab-df-convert:hover {\n",
              "      background-color: #434B5C;\n",
              "      box-shadow: 0px 1px 3px 1px rgba(0, 0, 0, 0.15);\n",
              "      filter: drop-shadow(0px 1px 2px rgba(0, 0, 0, 0.3));\n",
              "      fill: #FFFFFF;\n",
              "    }\n",
              "  </style>\n",
              "\n",
              "      <script>\n",
              "        const buttonEl =\n",
              "          document.querySelector('#df-171af6db-6148-4047-a796-284e55c07969 button.colab-df-convert');\n",
              "        buttonEl.style.display =\n",
              "          google.colab.kernel.accessAllowed ? 'block' : 'none';\n",
              "\n",
              "        async function convertToInteractive(key) {\n",
              "          const element = document.querySelector('#df-171af6db-6148-4047-a796-284e55c07969');\n",
              "          const dataTable =\n",
              "            await google.colab.kernel.invokeFunction('convertToInteractive',\n",
              "                                                     [key], {});\n",
              "          if (!dataTable) return;\n",
              "\n",
              "          const docLinkHtml = 'Like what you see? Visit the ' +\n",
              "            '<a target=\"_blank\" href=https://colab.research.google.com/notebooks/data_table.ipynb>data table notebook</a>'\n",
              "            + ' to learn more about interactive tables.';\n",
              "          element.innerHTML = '';\n",
              "          dataTable['output_type'] = 'display_data';\n",
              "          await google.colab.output.renderOutput(dataTable, element);\n",
              "          const docLink = document.createElement('div');\n",
              "          docLink.innerHTML = docLinkHtml;\n",
              "          element.appendChild(docLink);\n",
              "        }\n",
              "      </script>\n",
              "    </div>\n",
              "  </div>\n",
              "  "
            ]
          },
          "metadata": {},
          "execution_count": 44
        }
      ]
    },
    {
      "cell_type": "code",
      "source": [
        "#check error of training \n",
        "\n",
        "print('training error: ',L1.score(X_train,Y_train))"
      ],
      "metadata": {
        "colab": {
          "base_uri": "https://localhost:8080/"
        },
        "id": "DssdwwVI0qSx",
        "outputId": "599339eb-74de-4fa0-a922-f772ab3e9951"
      },
      "id": "DssdwwVI0qSx",
      "execution_count": null,
      "outputs": [
        {
          "output_type": "stream",
          "name": "stdout",
          "text": [
            "training error:  0.798741697000666\n"
          ]
        }
      ]
    },
    {
      "cell_type": "code",
      "source": [
        "#check error of testing\n",
        "\n",
        "print('testing error: ',L1.score(X_test,Y_test))"
      ],
      "metadata": {
        "colab": {
          "base_uri": "https://localhost:8080/"
        },
        "id": "fc9gjxEd1ZZv",
        "outputId": "0ba1134f-8be7-41ac-c5e7-d1922ab54f6a"
      },
      "id": "fc9gjxEd1ZZv",
      "execution_count": null,
      "outputs": [
        {
          "output_type": "stream",
          "name": "stdout",
          "text": [
            "testing error:  0.8139201358023779\n"
          ]
        }
      ]
    },
    {
      "cell_type": "code",
      "source": [
        "# right method  to select the value of lambda/alpha(Hyper parameter) \n",
        "#in case of Lasso (200-1000)\n",
        "for i in range(200,1001,50):  #start=200  stop=1001-1=1000 step=50\n",
        "    #create the object of Lasso class\n",
        "    L1=Lasso(i) #passing the value of lamda means i=200 , next i=250 then 300...\n",
        "    #train the model with 70% data\n",
        "    L1.fit(X_train,Y_train)\n",
        "    print(\"Value of Lambda : {}\".format(i))\n",
        "    score1=L1.score(X_train,Y_train).round(2)\n",
        "    print(\"training Score : {}\".format(score1))\n",
        "    score2=L1.score(X_test,Y_test).round(2)\n",
        "    print(\"testing Score : {}\".format(score2))\n",
        "    print(\"\\n\")"
      ],
      "metadata": {
        "colab": {
          "base_uri": "https://localhost:8080/"
        },
        "id": "WpNTDKwf1o29",
        "outputId": "a571643d-3936-4080-8201-2cd58bb36153"
      },
      "id": "WpNTDKwf1o29",
      "execution_count": null,
      "outputs": [
        {
          "output_type": "stream",
          "name": "stdout",
          "text": [
            "Value of Lambda : 200\n",
            "training Score : 0.8\n",
            "testing Score : 0.81\n",
            "\n",
            "\n",
            "Value of Lambda : 250\n",
            "training Score : 0.78\n",
            "testing Score : 0.81\n",
            "\n",
            "\n",
            "Value of Lambda : 300\n",
            "training Score : 0.78\n",
            "testing Score : 0.81\n",
            "\n",
            "\n",
            "Value of Lambda : 350\n",
            "training Score : 0.77\n",
            "testing Score : 0.8\n",
            "\n",
            "\n",
            "Value of Lambda : 400\n",
            "training Score : 0.77\n",
            "testing Score : 0.8\n",
            "\n",
            "\n",
            "Value of Lambda : 450\n",
            "training Score : 0.76\n",
            "testing Score : 0.8\n",
            "\n",
            "\n",
            "Value of Lambda : 500\n",
            "training Score : 0.76\n",
            "testing Score : 0.79\n",
            "\n",
            "\n",
            "Value of Lambda : 550\n",
            "training Score : 0.76\n",
            "testing Score : 0.79\n",
            "\n",
            "\n",
            "Value of Lambda : 600\n",
            "training Score : 0.76\n",
            "testing Score : 0.79\n",
            "\n",
            "\n",
            "Value of Lambda : 650\n",
            "training Score : 0.76\n",
            "testing Score : 0.79\n",
            "\n",
            "\n",
            "Value of Lambda : 700\n",
            "training Score : 0.76\n",
            "testing Score : 0.79\n",
            "\n",
            "\n",
            "Value of Lambda : 750\n",
            "training Score : 0.76\n",
            "testing Score : 0.79\n",
            "\n",
            "\n",
            "Value of Lambda : 800\n",
            "training Score : 0.76\n",
            "testing Score : 0.79\n",
            "\n",
            "\n",
            "Value of Lambda : 850\n",
            "training Score : 0.76\n",
            "testing Score : 0.79\n",
            "\n",
            "\n",
            "Value of Lambda : 900\n",
            "training Score : 0.76\n",
            "testing Score : 0.79\n",
            "\n",
            "\n",
            "Value of Lambda : 950\n",
            "training Score : 0.76\n",
            "testing Score : 0.79\n",
            "\n",
            "\n",
            "Value of Lambda : 1000\n",
            "training Score : 0.76\n",
            "testing Score : 0.79\n",
            "\n",
            "\n"
          ]
        }
      ]
    },
    {
      "cell_type": "code",
      "source": [
        "#in Lasso ,score = 0.81 and lambda =200"
      ],
      "metadata": {
        "id": "84OTRNxP46s7"
      },
      "id": "84OTRNxP46s7",
      "execution_count": null,
      "outputs": []
    },
    {
      "cell_type": "code",
      "source": [
        "#Apply Ridge Regularisation ,value of lambda=0-50\n",
        "from sklearn.linear_model import Ridge\n",
        "#RSS+lambda*sum(square(all slope)) in ridge L2\n",
        "#RSS+lambda*sum(absolute(all slope)) in lasso L1"
      ],
      "metadata": {
        "id": "z-5WD60R4XWz"
      },
      "id": "z-5WD60R4XWz",
      "execution_count": null,
      "outputs": []
    },
    {
      "cell_type": "code",
      "source": [
        "#choose right value of lambda in Ridge Regularisation\n",
        "for i in range(0,51,1): #start =0  stop=51-1=50 step=+1\n",
        "    #create the object of Ridge class\n",
        "    L2=Ridge(i) #passing the value of lambda means i=0 next i=1  so on\n",
        "    #train the model with 70% data after add error\n",
        "    L2.fit(X_train,Y_train)\n",
        "    print(\"Value of Lambda : {}\".format(i))\n",
        "    score1=L2.score(X_train,Y_train).round(2)\n",
        "    print(\"training Score : {}\".format(score1))\n",
        "    score2=L2.score(X_test,Y_test).round(2)\n",
        "    print(\"testing Score : {}\".format(score2))\n",
        "    print(\"\\n\")"
      ],
      "metadata": {
        "colab": {
          "base_uri": "https://localhost:8080/"
        },
        "id": "JRwN5bIY6Hv-",
        "outputId": "7c9f47f2-22e6-4c44-8088-304af0be957e"
      },
      "id": "JRwN5bIY6Hv-",
      "execution_count": null,
      "outputs": [
        {
          "output_type": "stream",
          "name": "stdout",
          "text": [
            "Value of Lambda : 0\n",
            "training Score : 0.85\n",
            "testing Score : 0.8\n",
            "\n",
            "\n",
            "Value of Lambda : 1\n",
            "training Score : 0.84\n",
            "testing Score : 0.81\n",
            "\n",
            "\n",
            "Value of Lambda : 2\n",
            "training Score : 0.84\n",
            "testing Score : 0.81\n",
            "\n",
            "\n",
            "Value of Lambda : 3\n",
            "training Score : 0.83\n",
            "testing Score : 0.81\n",
            "\n",
            "\n",
            "Value of Lambda : 4\n",
            "training Score : 0.83\n",
            "testing Score : 0.81\n",
            "\n",
            "\n",
            "Value of Lambda : 5\n",
            "training Score : 0.82\n",
            "testing Score : 0.81\n",
            "\n",
            "\n",
            "Value of Lambda : 6\n",
            "training Score : 0.82\n",
            "testing Score : 0.81\n",
            "\n",
            "\n",
            "Value of Lambda : 7\n",
            "training Score : 0.82\n",
            "testing Score : 0.81\n",
            "\n",
            "\n",
            "Value of Lambda : 8\n",
            "training Score : 0.81\n",
            "testing Score : 0.81\n",
            "\n",
            "\n",
            "Value of Lambda : 9\n",
            "training Score : 0.81\n",
            "testing Score : 0.81\n",
            "\n",
            "\n",
            "Value of Lambda : 10\n",
            "training Score : 0.81\n",
            "testing Score : 0.82\n",
            "\n",
            "\n",
            "Value of Lambda : 11\n",
            "training Score : 0.81\n",
            "testing Score : 0.82\n",
            "\n",
            "\n",
            "Value of Lambda : 12\n",
            "training Score : 0.81\n",
            "testing Score : 0.82\n",
            "\n",
            "\n",
            "Value of Lambda : 13\n",
            "training Score : 0.81\n",
            "testing Score : 0.81\n",
            "\n",
            "\n",
            "Value of Lambda : 14\n",
            "training Score : 0.81\n",
            "testing Score : 0.81\n",
            "\n",
            "\n",
            "Value of Lambda : 15\n",
            "training Score : 0.81\n",
            "testing Score : 0.81\n",
            "\n",
            "\n",
            "Value of Lambda : 16\n",
            "training Score : 0.8\n",
            "testing Score : 0.81\n",
            "\n",
            "\n",
            "Value of Lambda : 17\n",
            "training Score : 0.8\n",
            "testing Score : 0.81\n",
            "\n",
            "\n",
            "Value of Lambda : 18\n",
            "training Score : 0.8\n",
            "testing Score : 0.81\n",
            "\n",
            "\n",
            "Value of Lambda : 19\n",
            "training Score : 0.8\n",
            "testing Score : 0.81\n",
            "\n",
            "\n",
            "Value of Lambda : 20\n",
            "training Score : 0.8\n",
            "testing Score : 0.81\n",
            "\n",
            "\n",
            "Value of Lambda : 21\n",
            "training Score : 0.8\n",
            "testing Score : 0.81\n",
            "\n",
            "\n",
            "Value of Lambda : 22\n",
            "training Score : 0.8\n",
            "testing Score : 0.81\n",
            "\n",
            "\n",
            "Value of Lambda : 23\n",
            "training Score : 0.8\n",
            "testing Score : 0.81\n",
            "\n",
            "\n",
            "Value of Lambda : 24\n",
            "training Score : 0.8\n",
            "testing Score : 0.81\n",
            "\n",
            "\n",
            "Value of Lambda : 25\n",
            "training Score : 0.8\n",
            "testing Score : 0.81\n",
            "\n",
            "\n",
            "Value of Lambda : 26\n",
            "training Score : 0.8\n",
            "testing Score : 0.81\n",
            "\n",
            "\n",
            "Value of Lambda : 27\n",
            "training Score : 0.8\n",
            "testing Score : 0.81\n",
            "\n",
            "\n",
            "Value of Lambda : 28\n",
            "training Score : 0.8\n",
            "testing Score : 0.81\n",
            "\n",
            "\n",
            "Value of Lambda : 29\n",
            "training Score : 0.8\n",
            "testing Score : 0.81\n",
            "\n",
            "\n",
            "Value of Lambda : 30\n",
            "training Score : 0.8\n",
            "testing Score : 0.81\n",
            "\n",
            "\n",
            "Value of Lambda : 31\n",
            "training Score : 0.8\n",
            "testing Score : 0.81\n",
            "\n",
            "\n",
            "Value of Lambda : 32\n",
            "training Score : 0.8\n",
            "testing Score : 0.81\n",
            "\n",
            "\n",
            "Value of Lambda : 33\n",
            "training Score : 0.8\n",
            "testing Score : 0.81\n",
            "\n",
            "\n",
            "Value of Lambda : 34\n",
            "training Score : 0.8\n",
            "testing Score : 0.81\n",
            "\n",
            "\n",
            "Value of Lambda : 35\n",
            "training Score : 0.8\n",
            "testing Score : 0.81\n",
            "\n",
            "\n",
            "Value of Lambda : 36\n",
            "training Score : 0.79\n",
            "testing Score : 0.81\n",
            "\n",
            "\n",
            "Value of Lambda : 37\n",
            "training Score : 0.79\n",
            "testing Score : 0.81\n",
            "\n",
            "\n",
            "Value of Lambda : 38\n",
            "training Score : 0.79\n",
            "testing Score : 0.81\n",
            "\n",
            "\n",
            "Value of Lambda : 39\n",
            "training Score : 0.79\n",
            "testing Score : 0.81\n",
            "\n",
            "\n",
            "Value of Lambda : 40\n",
            "training Score : 0.79\n",
            "testing Score : 0.81\n",
            "\n",
            "\n",
            "Value of Lambda : 41\n",
            "training Score : 0.79\n",
            "testing Score : 0.81\n",
            "\n",
            "\n",
            "Value of Lambda : 42\n",
            "training Score : 0.79\n",
            "testing Score : 0.81\n",
            "\n",
            "\n",
            "Value of Lambda : 43\n",
            "training Score : 0.79\n",
            "testing Score : 0.81\n",
            "\n",
            "\n",
            "Value of Lambda : 44\n",
            "training Score : 0.79\n",
            "testing Score : 0.81\n",
            "\n",
            "\n",
            "Value of Lambda : 45\n",
            "training Score : 0.79\n",
            "testing Score : 0.81\n",
            "\n",
            "\n",
            "Value of Lambda : 46\n",
            "training Score : 0.79\n",
            "testing Score : 0.81\n",
            "\n",
            "\n",
            "Value of Lambda : 47\n",
            "training Score : 0.79\n",
            "testing Score : 0.81\n",
            "\n",
            "\n",
            "Value of Lambda : 48\n",
            "training Score : 0.79\n",
            "testing Score : 0.81\n",
            "\n",
            "\n",
            "Value of Lambda : 49\n",
            "training Score : 0.79\n",
            "testing Score : 0.81\n",
            "\n",
            "\n",
            "Value of Lambda : 50\n",
            "training Score : 0.79\n",
            "testing Score : 0.81\n",
            "\n",
            "\n"
          ]
        }
      ]
    },
    {
      "cell_type": "code",
      "source": [
        "#in ridge , value of lambda=8\n",
        "L2=Ridge(8) #passing the value of Lambda=8\n",
        "#train the model with 70% data after add error\n",
        "L2.fit(X_train,Y_train) "
      ],
      "metadata": {
        "colab": {
          "base_uri": "https://localhost:8080/"
        },
        "id": "I9c__wr-7bZQ",
        "outputId": "f981245e-667d-45c7-8e8d-5c9e8080ef5e"
      },
      "id": "I9c__wr-7bZQ",
      "execution_count": null,
      "outputs": [
        {
          "output_type": "execute_result",
          "data": {
            "text/plain": [
              "Ridge(alpha=8)"
            ]
          },
          "metadata": {},
          "execution_count": 51
        }
      ]
    },
    {
      "cell_type": "code",
      "source": [
        "#check slope/coefficient after add error on trainned time (with Lasso)\n",
        "slope_L2=L2.coef_\n",
        "slope_L2\n",
        "Slope_L2=[np.round(i,2) for i in slope_L2] #list comprehension\n",
        "print(Slope_L2)"
      ],
      "metadata": {
        "colab": {
          "base_uri": "https://localhost:8080/"
        },
        "id": "jAIVJm0E9uyo",
        "outputId": "e7d8624f-693f-46a3-edad-7eb3e179f28d"
      },
      "id": "jAIVJm0E9uyo",
      "execution_count": null,
      "outputs": [
        {
          "output_type": "stream",
          "name": "stdout",
          "text": [
            "[208.7, -0.84, 376.12, 568.79, 103.58, 21.11, 214.99, -278.92, -187.8, -979.1, -623.8, 1646.46, 3075.4, 519.91]\n"
          ]
        }
      ]
    },
    {
      "cell_type": "code",
      "source": [
        "X.columns"
      ],
      "metadata": {
        "colab": {
          "base_uri": "https://localhost:8080/"
        },
        "id": "PNmvPkrR974h",
        "outputId": "5dea6351-4f24-4d7e-b7ee-2b5ab10207f2"
      },
      "id": "PNmvPkrR974h",
      "execution_count": null,
      "outputs": [
        {
          "output_type": "execute_result",
          "data": {
            "text/plain": [
              "Index(['symboling', 'normalized-losses', 'width', 'height', 'engine-size',\n",
              "       'horsepower', 'city-mpg', 'highway-mpg', 'make', 'fuel-type',\n",
              "       'body-style', 'drive-wheels', 'engine-location', 'engine-type'],\n",
              "      dtype='object')"
            ]
          },
          "metadata": {},
          "execution_count": 53
        }
      ]
    },
    {
      "cell_type": "code",
      "source": [
        "#create a dictionary \n",
        "dict={'Input':X.columns,'Slope_before':m1,'Slope_After_Ridge':Slope_L2}\n",
        "#convert to dataframe\n",
        "df1=pd.DataFrame(dict)\n",
        "df1"
      ],
      "metadata": {
        "colab": {
          "base_uri": "https://localhost:8080/",
          "height": 488
        },
        "id": "rr2jBIcm9M4T",
        "outputId": "66d84b3b-6c7f-412c-a460-fc9c570d2371"
      },
      "id": "rr2jBIcm9M4T",
      "execution_count": null,
      "outputs": [
        {
          "output_type": "execute_result",
          "data": {
            "text/plain": [
              "                Input  Slope_before  Slope_After_Ridge\n",
              "0           symboling         45.14             208.70\n",
              "1   normalized-losses          1.53              -0.84\n",
              "2               width        789.45             376.12\n",
              "3              height        362.66             568.79\n",
              "4         engine-size         98.37             103.58\n",
              "5          horsepower        -10.82              21.11\n",
              "6            city-mpg        308.02             214.99\n",
              "7         highway-mpg       -417.02            -278.92\n",
              "8                make       -200.10            -187.80\n",
              "9           fuel-type       -622.65            -979.10\n",
              "10         body-style       -170.24            -623.80\n",
              "11       drive-wheels       1868.61            1646.46\n",
              "12    engine-location      16413.36            3075.40\n",
              "13        engine-type        283.17             519.91"
            ],
            "text/html": [
              "\n",
              "  <div id=\"df-6162d8d3-5a14-4643-a007-6861417f9f20\">\n",
              "    <div class=\"colab-df-container\">\n",
              "      <div>\n",
              "<style scoped>\n",
              "    .dataframe tbody tr th:only-of-type {\n",
              "        vertical-align: middle;\n",
              "    }\n",
              "\n",
              "    .dataframe tbody tr th {\n",
              "        vertical-align: top;\n",
              "    }\n",
              "\n",
              "    .dataframe thead th {\n",
              "        text-align: right;\n",
              "    }\n",
              "</style>\n",
              "<table border=\"1\" class=\"dataframe\">\n",
              "  <thead>\n",
              "    <tr style=\"text-align: right;\">\n",
              "      <th></th>\n",
              "      <th>Input</th>\n",
              "      <th>Slope_before</th>\n",
              "      <th>Slope_After_Ridge</th>\n",
              "    </tr>\n",
              "  </thead>\n",
              "  <tbody>\n",
              "    <tr>\n",
              "      <th>0</th>\n",
              "      <td>symboling</td>\n",
              "      <td>45.14</td>\n",
              "      <td>208.70</td>\n",
              "    </tr>\n",
              "    <tr>\n",
              "      <th>1</th>\n",
              "      <td>normalized-losses</td>\n",
              "      <td>1.53</td>\n",
              "      <td>-0.84</td>\n",
              "    </tr>\n",
              "    <tr>\n",
              "      <th>2</th>\n",
              "      <td>width</td>\n",
              "      <td>789.45</td>\n",
              "      <td>376.12</td>\n",
              "    </tr>\n",
              "    <tr>\n",
              "      <th>3</th>\n",
              "      <td>height</td>\n",
              "      <td>362.66</td>\n",
              "      <td>568.79</td>\n",
              "    </tr>\n",
              "    <tr>\n",
              "      <th>4</th>\n",
              "      <td>engine-size</td>\n",
              "      <td>98.37</td>\n",
              "      <td>103.58</td>\n",
              "    </tr>\n",
              "    <tr>\n",
              "      <th>5</th>\n",
              "      <td>horsepower</td>\n",
              "      <td>-10.82</td>\n",
              "      <td>21.11</td>\n",
              "    </tr>\n",
              "    <tr>\n",
              "      <th>6</th>\n",
              "      <td>city-mpg</td>\n",
              "      <td>308.02</td>\n",
              "      <td>214.99</td>\n",
              "    </tr>\n",
              "    <tr>\n",
              "      <th>7</th>\n",
              "      <td>highway-mpg</td>\n",
              "      <td>-417.02</td>\n",
              "      <td>-278.92</td>\n",
              "    </tr>\n",
              "    <tr>\n",
              "      <th>8</th>\n",
              "      <td>make</td>\n",
              "      <td>-200.10</td>\n",
              "      <td>-187.80</td>\n",
              "    </tr>\n",
              "    <tr>\n",
              "      <th>9</th>\n",
              "      <td>fuel-type</td>\n",
              "      <td>-622.65</td>\n",
              "      <td>-979.10</td>\n",
              "    </tr>\n",
              "    <tr>\n",
              "      <th>10</th>\n",
              "      <td>body-style</td>\n",
              "      <td>-170.24</td>\n",
              "      <td>-623.80</td>\n",
              "    </tr>\n",
              "    <tr>\n",
              "      <th>11</th>\n",
              "      <td>drive-wheels</td>\n",
              "      <td>1868.61</td>\n",
              "      <td>1646.46</td>\n",
              "    </tr>\n",
              "    <tr>\n",
              "      <th>12</th>\n",
              "      <td>engine-location</td>\n",
              "      <td>16413.36</td>\n",
              "      <td>3075.40</td>\n",
              "    </tr>\n",
              "    <tr>\n",
              "      <th>13</th>\n",
              "      <td>engine-type</td>\n",
              "      <td>283.17</td>\n",
              "      <td>519.91</td>\n",
              "    </tr>\n",
              "  </tbody>\n",
              "</table>\n",
              "</div>\n",
              "      <button class=\"colab-df-convert\" onclick=\"convertToInteractive('df-6162d8d3-5a14-4643-a007-6861417f9f20')\"\n",
              "              title=\"Convert this dataframe to an interactive table.\"\n",
              "              style=\"display:none;\">\n",
              "        \n",
              "  <svg xmlns=\"http://www.w3.org/2000/svg\" height=\"24px\"viewBox=\"0 0 24 24\"\n",
              "       width=\"24px\">\n",
              "    <path d=\"M0 0h24v24H0V0z\" fill=\"none\"/>\n",
              "    <path d=\"M18.56 5.44l.94 2.06.94-2.06 2.06-.94-2.06-.94-.94-2.06-.94 2.06-2.06.94zm-11 1L8.5 8.5l.94-2.06 2.06-.94-2.06-.94L8.5 2.5l-.94 2.06-2.06.94zm10 10l.94 2.06.94-2.06 2.06-.94-2.06-.94-.94-2.06-.94 2.06-2.06.94z\"/><path d=\"M17.41 7.96l-1.37-1.37c-.4-.4-.92-.59-1.43-.59-.52 0-1.04.2-1.43.59L10.3 9.45l-7.72 7.72c-.78.78-.78 2.05 0 2.83L4 21.41c.39.39.9.59 1.41.59.51 0 1.02-.2 1.41-.59l7.78-7.78 2.81-2.81c.8-.78.8-2.07 0-2.86zM5.41 20L4 18.59l7.72-7.72 1.47 1.35L5.41 20z\"/>\n",
              "  </svg>\n",
              "      </button>\n",
              "      \n",
              "  <style>\n",
              "    .colab-df-container {\n",
              "      display:flex;\n",
              "      flex-wrap:wrap;\n",
              "      gap: 12px;\n",
              "    }\n",
              "\n",
              "    .colab-df-convert {\n",
              "      background-color: #E8F0FE;\n",
              "      border: none;\n",
              "      border-radius: 50%;\n",
              "      cursor: pointer;\n",
              "      display: none;\n",
              "      fill: #1967D2;\n",
              "      height: 32px;\n",
              "      padding: 0 0 0 0;\n",
              "      width: 32px;\n",
              "    }\n",
              "\n",
              "    .colab-df-convert:hover {\n",
              "      background-color: #E2EBFA;\n",
              "      box-shadow: 0px 1px 2px rgba(60, 64, 67, 0.3), 0px 1px 3px 1px rgba(60, 64, 67, 0.15);\n",
              "      fill: #174EA6;\n",
              "    }\n",
              "\n",
              "    [theme=dark] .colab-df-convert {\n",
              "      background-color: #3B4455;\n",
              "      fill: #D2E3FC;\n",
              "    }\n",
              "\n",
              "    [theme=dark] .colab-df-convert:hover {\n",
              "      background-color: #434B5C;\n",
              "      box-shadow: 0px 1px 3px 1px rgba(0, 0, 0, 0.15);\n",
              "      filter: drop-shadow(0px 1px 2px rgba(0, 0, 0, 0.3));\n",
              "      fill: #FFFFFF;\n",
              "    }\n",
              "  </style>\n",
              "\n",
              "      <script>\n",
              "        const buttonEl =\n",
              "          document.querySelector('#df-6162d8d3-5a14-4643-a007-6861417f9f20 button.colab-df-convert');\n",
              "        buttonEl.style.display =\n",
              "          google.colab.kernel.accessAllowed ? 'block' : 'none';\n",
              "\n",
              "        async function convertToInteractive(key) {\n",
              "          const element = document.querySelector('#df-6162d8d3-5a14-4643-a007-6861417f9f20');\n",
              "          const dataTable =\n",
              "            await google.colab.kernel.invokeFunction('convertToInteractive',\n",
              "                                                     [key], {});\n",
              "          if (!dataTable) return;\n",
              "\n",
              "          const docLinkHtml = 'Like what you see? Visit the ' +\n",
              "            '<a target=\"_blank\" href=https://colab.research.google.com/notebooks/data_table.ipynb>data table notebook</a>'\n",
              "            + ' to learn more about interactive tables.';\n",
              "          element.innerHTML = '';\n",
              "          dataTable['output_type'] = 'display_data';\n",
              "          await google.colab.output.renderOutput(dataTable, element);\n",
              "          const docLink = document.createElement('div');\n",
              "          docLink.innerHTML = docLinkHtml;\n",
              "          element.appendChild(docLink);\n",
              "        }\n",
              "      </script>\n",
              "    </div>\n",
              "  </div>\n",
              "  "
            ]
          },
          "metadata": {},
          "execution_count": 54
        }
      ]
    },
    {
      "cell_type": "code",
      "source": [
        "#In Ridge , Lambda =8 and testing score = 81%\n",
        "#In Lasso , Lambda=200 and Testing score=81%"
      ],
      "metadata": {
        "id": "0Sj66RGA91vB"
      },
      "id": "0Sj66RGA91vB",
      "execution_count": null,
      "outputs": []
    },
    {
      "cell_type": "code",
      "source": [
        "#cross validation\n",
        "from sklearn.model_selection import cross_val_score\n",
        "#cross_val_score inbuilt class for cross_validation \n",
        "#How to decided , Lasso is better or Ridge is better omn this dataset \n",
        "#Apply cross validation\n",
        "#from sklearn.model_selection import cross_val_score \n",
        "#cross_val_score  inbuilt class for cross validation"
      ],
      "metadata": {
        "id": "sm-Cin3j_NsH"
      },
      "id": "sm-Cin3j_NsH",
      "execution_count": null,
      "outputs": []
    },
    {
      "cell_type": "code",
      "source": [
        "#create the object of lasso(apply cross validation in lasso)\n",
        "L1=Lasso(200) #pass the value of lambda=200\n"
      ],
      "metadata": {
        "id": "1egXsiONB72t"
      },
      "id": "1egXsiONB72t",
      "execution_count": null,
      "outputs": []
    },
    {
      "cell_type": "code",
      "source": [
        "#create the object for cross_val_score for lasso(for cross val)\n",
        "cross_L1=cross_val_score(L1,X,Y,cv=4) #diviting data to 4 parts\n",
        "#cross_val_score(object of lasso class,input,output,no. of partition)\n",
        "#here l1 object of Lasso and \n",
        "#X input and Y output and  cv means divided the no. of parts of data=4\n"
      ],
      "metadata": {
        "id": "DY_HxbvYCnty"
      },
      "id": "DY_HxbvYCnty",
      "execution_count": null,
      "outputs": []
    },
    {
      "cell_type": "code",
      "source": [
        "print(cross_L1) #score of each part"
      ],
      "metadata": {
        "colab": {
          "base_uri": "https://localhost:8080/"
        },
        "id": "PJ-ZIJbOC8Mi",
        "outputId": "f2e5db79-1c42-4255-bf8d-e8b72bc9b664"
      },
      "id": "PJ-ZIJbOC8Mi",
      "execution_count": null,
      "outputs": [
        {
          "output_type": "stream",
          "name": "stdout",
          "text": [
            "[0.76560829 0.81872367 0.43344753 0.448364  ]\n"
          ]
        }
      ]
    },
    {
      "cell_type": "code",
      "source": [
        "#to find avrage of score means mean of all score of cross_L1  \n",
        "m1=cross_L1.mean()\n",
        "print(\"Average score in cross validation in Lasso : \",m1)"
      ],
      "metadata": {
        "colab": {
          "base_uri": "https://localhost:8080/"
        },
        "id": "6fR0hIf_DjyH",
        "outputId": "30f3e7b3-4d41-4b7e-f28f-03b28dbe0758"
      },
      "id": "6fR0hIf_DjyH",
      "execution_count": null,
      "outputs": [
        {
          "output_type": "stream",
          "name": "stdout",
          "text": [
            "Average score in cross validation in Lasso :  0.6165358705430691\n"
          ]
        }
      ]
    },
    {
      "cell_type": "code",
      "source": [
        "#create the object of ridge(apply cross validation in ridge)\n",
        "L2=Ridge(8) #pass the value of ridge=8\n"
      ],
      "metadata": {
        "id": "DF9FRuxUD1e4"
      },
      "id": "DF9FRuxUD1e4",
      "execution_count": null,
      "outputs": []
    },
    {
      "cell_type": "code",
      "source": [
        "cross_L2=cross_val_score(L2,X,Y,cv=4) #diviting data to 4 parts"
      ],
      "metadata": {
        "id": "zk25uCx3EECe"
      },
      "id": "zk25uCx3EECe",
      "execution_count": null,
      "outputs": []
    },
    {
      "cell_type": "code",
      "source": [
        "print(cross_L2) #score of each part Ridge"
      ],
      "metadata": {
        "colab": {
          "base_uri": "https://localhost:8080/"
        },
        "id": "tlab3YbdEOw3",
        "outputId": "7db1d1ab-77c4-4de6-aef2-bec34c8a36e9"
      },
      "id": "tlab3YbdEOw3",
      "execution_count": null,
      "outputs": [
        {
          "output_type": "stream",
          "name": "stdout",
          "text": [
            "[0.735549   0.86209293 0.39915737 0.45518733]\n"
          ]
        }
      ]
    },
    {
      "cell_type": "code",
      "source": [
        "#to find avrage of score means mean of all score of cross_L2 Ridge\n",
        "m1=cross_L2.mean()\n",
        "print(\"Average score in cross validation in Ridge : \",m1)"
      ],
      "metadata": {
        "colab": {
          "base_uri": "https://localhost:8080/"
        },
        "id": "HqVTuzwoETG2",
        "outputId": "28f38487-df10-4d91-ab23-07d0514cfcb6"
      },
      "id": "HqVTuzwoETG2",
      "execution_count": null,
      "outputs": [
        {
          "output_type": "stream",
          "name": "stdout",
          "text": [
            "Average score in cross validation in Ridge :  0.6129966564859666\n"
          ]
        }
      ]
    },
    {
      "cell_type": "code",
      "source": [
        "#Mean of Lasso is greater than Ridge so Select Lasso Regularization\n",
        "#in this dataset\n",
        "#mean of lasso regularization : 0.616\n",
        "#mean of Ridge regularization : 0.612\n",
        "#in this dataset automobile_data.csv, Lasso regularisation is best as \n",
        "#compared to Ridge regularisation because average means mean of  of  score\n",
        "#of lasso is greater than ridge regularisation"
      ],
      "metadata": {
        "id": "QvOlU9dOEWQO"
      },
      "id": "QvOlU9dOEWQO",
      "execution_count": null,
      "outputs": []
    },
    {
      "cell_type": "code",
      "source": [],
      "metadata": {
        "id": "tTcRt-UUFIHU"
      },
      "id": "tTcRt-UUFIHU",
      "execution_count": null,
      "outputs": []
    }
  ],
  "metadata": {
    "kernelspec": {
      "display_name": "Python 3",
      "language": "python",
      "name": "python3"
    },
    "language_info": {
      "codemirror_mode": {
        "name": "ipython",
        "version": 3
      },
      "file_extension": ".py",
      "mimetype": "text/x-python",
      "name": "python",
      "nbconvert_exporter": "python",
      "pygments_lexer": "ipython3",
      "version": "3.8.10"
    },
    "colab": {
      "provenance": []
    }
  },
  "nbformat": 4,
  "nbformat_minor": 5
}