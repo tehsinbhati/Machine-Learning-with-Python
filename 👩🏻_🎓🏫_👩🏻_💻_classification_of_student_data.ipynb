{
  "cells": [
    {
      "cell_type": "markdown",
      "metadata": {
        "id": "xekNOYpaeyty"
      },
      "source": [
        "# How to get into graduate school ?"
      ]
    },
    {
      "cell_type": "code",
      "execution_count": null,
      "metadata": {
        "id": "_Q_kkgcL5k_s"
      },
      "outputs": [],
      "source": [
        "import numpy as np\n",
        "import pandas as pd\n",
        "import matplotlib.pyplot as plt\n",
        "import seaborn as sns\n",
        "import warnings\n",
        "warnings.filterwarnings(\"ignore\")"
      ]
    },
    {
      "cell_type": "markdown",
      "metadata": {
        "id": "Gjwbco36eyt3"
      },
      "source": [
        "# Graduate Admissions Dataset\n",
        "To estimate chances of graduate admission from an Indian perspective. Our analysis will help us in understand what factors are important in graduate admissions and how these factors are interrelated among themselves. It will also help predict one's chances of admission given the rest of the variables.\n",
        "Lets load the dataset and take a look at it"
      ]
    },
    {
      "cell_type": "code",
      "execution_count": null,
      "metadata": {
        "colab": {
          "base_uri": "https://localhost:8080/",
          "height": 206
        },
        "id": "ME9BRQ-45tve",
        "outputId": "0d1db241-81e2-49b8-8964-7d0b8bc758db"
      },
      "outputs": [
        {
          "output_type": "execute_result",
          "data": {
            "text/plain": [
              "   Serial No.  GRE Score  TOEFL Score  University Rating  SOP  LOR   CGPA  \\\n",
              "0           1        337          118                  4  4.5   4.5  9.65   \n",
              "1           2        324          107                  4  4.0   4.5  8.87   \n",
              "2           3        316          104                  3  3.0   3.5  8.00   \n",
              "3           4        322          110                  3  3.5   2.5  8.67   \n",
              "4           5        314          103                  2  2.0   3.0  8.21   \n",
              "\n",
              "   Research  Chance of Admit   \n",
              "0         1              0.92  \n",
              "1         1              0.76  \n",
              "2         1              0.72  \n",
              "3         1              0.80  \n",
              "4         0              0.65  "
            ],
            "text/html": [
              "\n",
              "  <div id=\"df-944398f7-1d34-42a1-87ac-2866d7460581\">\n",
              "    <div class=\"colab-df-container\">\n",
              "      <div>\n",
              "<style scoped>\n",
              "    .dataframe tbody tr th:only-of-type {\n",
              "        vertical-align: middle;\n",
              "    }\n",
              "\n",
              "    .dataframe tbody tr th {\n",
              "        vertical-align: top;\n",
              "    }\n",
              "\n",
              "    .dataframe thead th {\n",
              "        text-align: right;\n",
              "    }\n",
              "</style>\n",
              "<table border=\"1\" class=\"dataframe\">\n",
              "  <thead>\n",
              "    <tr style=\"text-align: right;\">\n",
              "      <th></th>\n",
              "      <th>Serial No.</th>\n",
              "      <th>GRE Score</th>\n",
              "      <th>TOEFL Score</th>\n",
              "      <th>University Rating</th>\n",
              "      <th>SOP</th>\n",
              "      <th>LOR</th>\n",
              "      <th>CGPA</th>\n",
              "      <th>Research</th>\n",
              "      <th>Chance of Admit</th>\n",
              "    </tr>\n",
              "  </thead>\n",
              "  <tbody>\n",
              "    <tr>\n",
              "      <th>0</th>\n",
              "      <td>1</td>\n",
              "      <td>337</td>\n",
              "      <td>118</td>\n",
              "      <td>4</td>\n",
              "      <td>4.5</td>\n",
              "      <td>4.5</td>\n",
              "      <td>9.65</td>\n",
              "      <td>1</td>\n",
              "      <td>0.92</td>\n",
              "    </tr>\n",
              "    <tr>\n",
              "      <th>1</th>\n",
              "      <td>2</td>\n",
              "      <td>324</td>\n",
              "      <td>107</td>\n",
              "      <td>4</td>\n",
              "      <td>4.0</td>\n",
              "      <td>4.5</td>\n",
              "      <td>8.87</td>\n",
              "      <td>1</td>\n",
              "      <td>0.76</td>\n",
              "    </tr>\n",
              "    <tr>\n",
              "      <th>2</th>\n",
              "      <td>3</td>\n",
              "      <td>316</td>\n",
              "      <td>104</td>\n",
              "      <td>3</td>\n",
              "      <td>3.0</td>\n",
              "      <td>3.5</td>\n",
              "      <td>8.00</td>\n",
              "      <td>1</td>\n",
              "      <td>0.72</td>\n",
              "    </tr>\n",
              "    <tr>\n",
              "      <th>3</th>\n",
              "      <td>4</td>\n",
              "      <td>322</td>\n",
              "      <td>110</td>\n",
              "      <td>3</td>\n",
              "      <td>3.5</td>\n",
              "      <td>2.5</td>\n",
              "      <td>8.67</td>\n",
              "      <td>1</td>\n",
              "      <td>0.80</td>\n",
              "    </tr>\n",
              "    <tr>\n",
              "      <th>4</th>\n",
              "      <td>5</td>\n",
              "      <td>314</td>\n",
              "      <td>103</td>\n",
              "      <td>2</td>\n",
              "      <td>2.0</td>\n",
              "      <td>3.0</td>\n",
              "      <td>8.21</td>\n",
              "      <td>0</td>\n",
              "      <td>0.65</td>\n",
              "    </tr>\n",
              "  </tbody>\n",
              "</table>\n",
              "</div>\n",
              "      <button class=\"colab-df-convert\" onclick=\"convertToInteractive('df-944398f7-1d34-42a1-87ac-2866d7460581')\"\n",
              "              title=\"Convert this dataframe to an interactive table.\"\n",
              "              style=\"display:none;\">\n",
              "        \n",
              "  <svg xmlns=\"http://www.w3.org/2000/svg\" height=\"24px\"viewBox=\"0 0 24 24\"\n",
              "       width=\"24px\">\n",
              "    <path d=\"M0 0h24v24H0V0z\" fill=\"none\"/>\n",
              "    <path d=\"M18.56 5.44l.94 2.06.94-2.06 2.06-.94-2.06-.94-.94-2.06-.94 2.06-2.06.94zm-11 1L8.5 8.5l.94-2.06 2.06-.94-2.06-.94L8.5 2.5l-.94 2.06-2.06.94zm10 10l.94 2.06.94-2.06 2.06-.94-2.06-.94-.94-2.06-.94 2.06-2.06.94z\"/><path d=\"M17.41 7.96l-1.37-1.37c-.4-.4-.92-.59-1.43-.59-.52 0-1.04.2-1.43.59L10.3 9.45l-7.72 7.72c-.78.78-.78 2.05 0 2.83L4 21.41c.39.39.9.59 1.41.59.51 0 1.02-.2 1.41-.59l7.78-7.78 2.81-2.81c.8-.78.8-2.07 0-2.86zM5.41 20L4 18.59l7.72-7.72 1.47 1.35L5.41 20z\"/>\n",
              "  </svg>\n",
              "      </button>\n",
              "      \n",
              "  <style>\n",
              "    .colab-df-container {\n",
              "      display:flex;\n",
              "      flex-wrap:wrap;\n",
              "      gap: 12px;\n",
              "    }\n",
              "\n",
              "    .colab-df-convert {\n",
              "      background-color: #E8F0FE;\n",
              "      border: none;\n",
              "      border-radius: 50%;\n",
              "      cursor: pointer;\n",
              "      display: none;\n",
              "      fill: #1967D2;\n",
              "      height: 32px;\n",
              "      padding: 0 0 0 0;\n",
              "      width: 32px;\n",
              "    }\n",
              "\n",
              "    .colab-df-convert:hover {\n",
              "      background-color: #E2EBFA;\n",
              "      box-shadow: 0px 1px 2px rgba(60, 64, 67, 0.3), 0px 1px 3px 1px rgba(60, 64, 67, 0.15);\n",
              "      fill: #174EA6;\n",
              "    }\n",
              "\n",
              "    [theme=dark] .colab-df-convert {\n",
              "      background-color: #3B4455;\n",
              "      fill: #D2E3FC;\n",
              "    }\n",
              "\n",
              "    [theme=dark] .colab-df-convert:hover {\n",
              "      background-color: #434B5C;\n",
              "      box-shadow: 0px 1px 3px 1px rgba(0, 0, 0, 0.15);\n",
              "      filter: drop-shadow(0px 1px 2px rgba(0, 0, 0, 0.3));\n",
              "      fill: #FFFFFF;\n",
              "    }\n",
              "  </style>\n",
              "\n",
              "      <script>\n",
              "        const buttonEl =\n",
              "          document.querySelector('#df-944398f7-1d34-42a1-87ac-2866d7460581 button.colab-df-convert');\n",
              "        buttonEl.style.display =\n",
              "          google.colab.kernel.accessAllowed ? 'block' : 'none';\n",
              "\n",
              "        async function convertToInteractive(key) {\n",
              "          const element = document.querySelector('#df-944398f7-1d34-42a1-87ac-2866d7460581');\n",
              "          const dataTable =\n",
              "            await google.colab.kernel.invokeFunction('convertToInteractive',\n",
              "                                                     [key], {});\n",
              "          if (!dataTable) return;\n",
              "\n",
              "          const docLinkHtml = 'Like what you see? Visit the ' +\n",
              "            '<a target=\"_blank\" href=https://colab.research.google.com/notebooks/data_table.ipynb>data table notebook</a>'\n",
              "            + ' to learn more about interactive tables.';\n",
              "          element.innerHTML = '';\n",
              "          dataTable['output_type'] = 'display_data';\n",
              "          await google.colab.output.renderOutput(dataTable, element);\n",
              "          const docLink = document.createElement('div');\n",
              "          docLink.innerHTML = docLinkHtml;\n",
              "          element.appendChild(docLink);\n",
              "        }\n",
              "      </script>\n",
              "    </div>\n",
              "  </div>\n",
              "  "
            ]
          },
          "metadata": {},
          "execution_count": 2
        }
      ],
      "source": [
        "#To load the dataset\n",
        "\n",
        "df=pd.read_csv(\"/content/drive/MyDrive/ItVedantPythonAWPClasswork/csv datasets/Admission_Predict.csv\")\n",
        "df.head()"
      ]
    },
    {
      "cell_type": "markdown",
      "metadata": {
        "id": "VWiXRXjHeyt5"
      },
      "source": [
        "# About this Dataset\n",
        "This dataset is created for prediction of Graduate Admissions from an Indian perspective.\n",
        "Content: The dataset contains several parameters which are considered important during the application for Masters Programs.\n",
        "\n",
        "The parameters included are :\n",
        "\n",
        "1.GRE Scores ( out of 340 )\n",
        "2.TOEFL Scores ( out of 120 )\n",
        "3.University Rating ( out of 5 )\n",
        "4.Statement of Purpose and Letter of Recommendation Strength ( out of 5 )\n",
        "5.Undergraduate GPA ( out of 10 )\n",
        "6.Research Experience ( either 0 or 1 )\n",
        "7.Chance of Admit ( ranging from 0 to 1 )"
      ]
    },
    {
      "cell_type": "code",
      "source": [
        "from google.colab import drive\n",
        "drive.mount('/content/drive')"
      ],
      "metadata": {
        "colab": {
          "base_uri": "https://localhost:8080/"
        },
        "id": "NeBW_jNGfA86",
        "outputId": "e6e9167c-83e5-4da7-e77a-802ddabe9fb8"
      },
      "execution_count": null,
      "outputs": [
        {
          "output_type": "stream",
          "name": "stdout",
          "text": [
            "Drive already mounted at /content/drive; to attempt to forcibly remount, call drive.mount(\"/content/drive\", force_remount=True).\n"
          ]
        }
      ]
    },
    {
      "cell_type": "markdown",
      "metadata": {
        "id": "toxgUJONeyt6"
      },
      "source": [
        "# Inspiration :\n",
        "This dataset was built with the purpose of helping students in shortlisting universities with their profiles. \n",
        "The predicted output gives them a fair idea about their chances for a particular university."
      ]
    },
    {
      "cell_type": "code",
      "execution_count": null,
      "metadata": {
        "colab": {
          "base_uri": "https://localhost:8080/"
        },
        "id": "Vv7uGZo353Yc",
        "outputId": "8d4717a7-d321-498e-df45-555cb80bded0"
      },
      "outputs": [
        {
          "output_type": "execute_result",
          "data": {
            "text/plain": [
              "Index(['Serial No.', 'GRE Score', 'TOEFL Score', 'University Rating', 'SOP',\n",
              "       'LOR ', 'CGPA', 'Research', 'Chance of Admit '],\n",
              "      dtype='object')"
            ]
          },
          "metadata": {},
          "execution_count": 4
        }
      ],
      "source": [
        "df.columns"
      ]
    },
    {
      "cell_type": "code",
      "execution_count": null,
      "metadata": {
        "colab": {
          "base_uri": "https://localhost:8080/"
        },
        "id": "_wl877TI6Flg",
        "outputId": "86ebe51b-b03c-4c8c-9f5a-20745647b86f"
      },
      "outputs": [
        {
          "output_type": "execute_result",
          "data": {
            "text/plain": [
              "array([0.92, 0.76, 0.72, 0.8 , 0.65, 0.9 , 0.75, 0.68, 0.5 , 0.45, 0.52,\n",
              "       0.84, 0.78, 0.62, 0.61, 0.54, 0.66, 0.63, 0.64, 0.7 , 0.94, 0.95,\n",
              "       0.97, 0.44, 0.46, 0.74, 0.91, 0.88, 0.58, 0.48, 0.49, 0.53, 0.87,\n",
              "       0.86, 0.89, 0.82, 0.56, 0.36, 0.42, 0.47, 0.55, 0.57, 0.96, 0.93,\n",
              "       0.38, 0.34, 0.79, 0.71, 0.69, 0.59, 0.85, 0.77, 0.81, 0.83, 0.67,\n",
              "       0.73, 0.6 , 0.43, 0.51, 0.39])"
            ]
          },
          "metadata": {},
          "execution_count": 5
        }
      ],
      "source": [
        "df['Chance of Admit '].unique()"
      ]
    },
    {
      "cell_type": "code",
      "execution_count": null,
      "metadata": {
        "id": "qngCQiMP7BTg"
      },
      "outputs": [],
      "source": [
        "df['Target']=np.where(df['Chance of Admit ']>=.50,1,0)"
      ]
    },
    {
      "cell_type": "code",
      "execution_count": null,
      "metadata": {
        "colab": {
          "base_uri": "https://localhost:8080/",
          "height": 206
        },
        "id": "FFHy662Q-AYh",
        "outputId": "7a14d77d-b226-4780-fb49-ec8c5f1dcea4"
      },
      "outputs": [
        {
          "output_type": "execute_result",
          "data": {
            "text/plain": [
              "   Serial No.  GRE Score  TOEFL Score  University Rating  SOP  LOR   CGPA  \\\n",
              "0           1        337          118                  4  4.5   4.5  9.65   \n",
              "1           2        324          107                  4  4.0   4.5  8.87   \n",
              "2           3        316          104                  3  3.0   3.5  8.00   \n",
              "3           4        322          110                  3  3.5   2.5  8.67   \n",
              "4           5        314          103                  2  2.0   3.0  8.21   \n",
              "\n",
              "   Research  Chance of Admit   Target  \n",
              "0         1              0.92       1  \n",
              "1         1              0.76       1  \n",
              "2         1              0.72       1  \n",
              "3         1              0.80       1  \n",
              "4         0              0.65       1  "
            ],
            "text/html": [
              "\n",
              "  <div id=\"df-871b21a1-d1a8-4259-bd37-0ce1c099ad65\">\n",
              "    <div class=\"colab-df-container\">\n",
              "      <div>\n",
              "<style scoped>\n",
              "    .dataframe tbody tr th:only-of-type {\n",
              "        vertical-align: middle;\n",
              "    }\n",
              "\n",
              "    .dataframe tbody tr th {\n",
              "        vertical-align: top;\n",
              "    }\n",
              "\n",
              "    .dataframe thead th {\n",
              "        text-align: right;\n",
              "    }\n",
              "</style>\n",
              "<table border=\"1\" class=\"dataframe\">\n",
              "  <thead>\n",
              "    <tr style=\"text-align: right;\">\n",
              "      <th></th>\n",
              "      <th>Serial No.</th>\n",
              "      <th>GRE Score</th>\n",
              "      <th>TOEFL Score</th>\n",
              "      <th>University Rating</th>\n",
              "      <th>SOP</th>\n",
              "      <th>LOR</th>\n",
              "      <th>CGPA</th>\n",
              "      <th>Research</th>\n",
              "      <th>Chance of Admit</th>\n",
              "      <th>Target</th>\n",
              "    </tr>\n",
              "  </thead>\n",
              "  <tbody>\n",
              "    <tr>\n",
              "      <th>0</th>\n",
              "      <td>1</td>\n",
              "      <td>337</td>\n",
              "      <td>118</td>\n",
              "      <td>4</td>\n",
              "      <td>4.5</td>\n",
              "      <td>4.5</td>\n",
              "      <td>9.65</td>\n",
              "      <td>1</td>\n",
              "      <td>0.92</td>\n",
              "      <td>1</td>\n",
              "    </tr>\n",
              "    <tr>\n",
              "      <th>1</th>\n",
              "      <td>2</td>\n",
              "      <td>324</td>\n",
              "      <td>107</td>\n",
              "      <td>4</td>\n",
              "      <td>4.0</td>\n",
              "      <td>4.5</td>\n",
              "      <td>8.87</td>\n",
              "      <td>1</td>\n",
              "      <td>0.76</td>\n",
              "      <td>1</td>\n",
              "    </tr>\n",
              "    <tr>\n",
              "      <th>2</th>\n",
              "      <td>3</td>\n",
              "      <td>316</td>\n",
              "      <td>104</td>\n",
              "      <td>3</td>\n",
              "      <td>3.0</td>\n",
              "      <td>3.5</td>\n",
              "      <td>8.00</td>\n",
              "      <td>1</td>\n",
              "      <td>0.72</td>\n",
              "      <td>1</td>\n",
              "    </tr>\n",
              "    <tr>\n",
              "      <th>3</th>\n",
              "      <td>4</td>\n",
              "      <td>322</td>\n",
              "      <td>110</td>\n",
              "      <td>3</td>\n",
              "      <td>3.5</td>\n",
              "      <td>2.5</td>\n",
              "      <td>8.67</td>\n",
              "      <td>1</td>\n",
              "      <td>0.80</td>\n",
              "      <td>1</td>\n",
              "    </tr>\n",
              "    <tr>\n",
              "      <th>4</th>\n",
              "      <td>5</td>\n",
              "      <td>314</td>\n",
              "      <td>103</td>\n",
              "      <td>2</td>\n",
              "      <td>2.0</td>\n",
              "      <td>3.0</td>\n",
              "      <td>8.21</td>\n",
              "      <td>0</td>\n",
              "      <td>0.65</td>\n",
              "      <td>1</td>\n",
              "    </tr>\n",
              "  </tbody>\n",
              "</table>\n",
              "</div>\n",
              "      <button class=\"colab-df-convert\" onclick=\"convertToInteractive('df-871b21a1-d1a8-4259-bd37-0ce1c099ad65')\"\n",
              "              title=\"Convert this dataframe to an interactive table.\"\n",
              "              style=\"display:none;\">\n",
              "        \n",
              "  <svg xmlns=\"http://www.w3.org/2000/svg\" height=\"24px\"viewBox=\"0 0 24 24\"\n",
              "       width=\"24px\">\n",
              "    <path d=\"M0 0h24v24H0V0z\" fill=\"none\"/>\n",
              "    <path d=\"M18.56 5.44l.94 2.06.94-2.06 2.06-.94-2.06-.94-.94-2.06-.94 2.06-2.06.94zm-11 1L8.5 8.5l.94-2.06 2.06-.94-2.06-.94L8.5 2.5l-.94 2.06-2.06.94zm10 10l.94 2.06.94-2.06 2.06-.94-2.06-.94-.94-2.06-.94 2.06-2.06.94z\"/><path d=\"M17.41 7.96l-1.37-1.37c-.4-.4-.92-.59-1.43-.59-.52 0-1.04.2-1.43.59L10.3 9.45l-7.72 7.72c-.78.78-.78 2.05 0 2.83L4 21.41c.39.39.9.59 1.41.59.51 0 1.02-.2 1.41-.59l7.78-7.78 2.81-2.81c.8-.78.8-2.07 0-2.86zM5.41 20L4 18.59l7.72-7.72 1.47 1.35L5.41 20z\"/>\n",
              "  </svg>\n",
              "      </button>\n",
              "      \n",
              "  <style>\n",
              "    .colab-df-container {\n",
              "      display:flex;\n",
              "      flex-wrap:wrap;\n",
              "      gap: 12px;\n",
              "    }\n",
              "\n",
              "    .colab-df-convert {\n",
              "      background-color: #E8F0FE;\n",
              "      border: none;\n",
              "      border-radius: 50%;\n",
              "      cursor: pointer;\n",
              "      display: none;\n",
              "      fill: #1967D2;\n",
              "      height: 32px;\n",
              "      padding: 0 0 0 0;\n",
              "      width: 32px;\n",
              "    }\n",
              "\n",
              "    .colab-df-convert:hover {\n",
              "      background-color: #E2EBFA;\n",
              "      box-shadow: 0px 1px 2px rgba(60, 64, 67, 0.3), 0px 1px 3px 1px rgba(60, 64, 67, 0.15);\n",
              "      fill: #174EA6;\n",
              "    }\n",
              "\n",
              "    [theme=dark] .colab-df-convert {\n",
              "      background-color: #3B4455;\n",
              "      fill: #D2E3FC;\n",
              "    }\n",
              "\n",
              "    [theme=dark] .colab-df-convert:hover {\n",
              "      background-color: #434B5C;\n",
              "      box-shadow: 0px 1px 3px 1px rgba(0, 0, 0, 0.15);\n",
              "      filter: drop-shadow(0px 1px 2px rgba(0, 0, 0, 0.3));\n",
              "      fill: #FFFFFF;\n",
              "    }\n",
              "  </style>\n",
              "\n",
              "      <script>\n",
              "        const buttonEl =\n",
              "          document.querySelector('#df-871b21a1-d1a8-4259-bd37-0ce1c099ad65 button.colab-df-convert');\n",
              "        buttonEl.style.display =\n",
              "          google.colab.kernel.accessAllowed ? 'block' : 'none';\n",
              "\n",
              "        async function convertToInteractive(key) {\n",
              "          const element = document.querySelector('#df-871b21a1-d1a8-4259-bd37-0ce1c099ad65');\n",
              "          const dataTable =\n",
              "            await google.colab.kernel.invokeFunction('convertToInteractive',\n",
              "                                                     [key], {});\n",
              "          if (!dataTable) return;\n",
              "\n",
              "          const docLinkHtml = 'Like what you see? Visit the ' +\n",
              "            '<a target=\"_blank\" href=https://colab.research.google.com/notebooks/data_table.ipynb>data table notebook</a>'\n",
              "            + ' to learn more about interactive tables.';\n",
              "          element.innerHTML = '';\n",
              "          dataTable['output_type'] = 'display_data';\n",
              "          await google.colab.output.renderOutput(dataTable, element);\n",
              "          const docLink = document.createElement('div');\n",
              "          docLink.innerHTML = docLinkHtml;\n",
              "          element.appendChild(docLink);\n",
              "        }\n",
              "      </script>\n",
              "    </div>\n",
              "  </div>\n",
              "  "
            ]
          },
          "metadata": {},
          "execution_count": 7
        }
      ],
      "source": [
        "df.head()"
      ]
    },
    {
      "cell_type": "code",
      "execution_count": null,
      "metadata": {
        "colab": {
          "base_uri": "https://localhost:8080/"
        },
        "id": "g8ng90c7ETY-",
        "outputId": "2dc7b928-1ddd-45e1-8875-04e89cc5cf5e"
      },
      "outputs": [
        {
          "output_type": "execute_result",
          "data": {
            "text/plain": [
              "Index(['Serial No.', 'GRE Score', 'TOEFL Score', 'University Rating', 'SOP',\n",
              "       'LOR ', 'CGPA', 'Research', 'Target'],\n",
              "      dtype='object')"
            ]
          },
          "metadata": {},
          "execution_count": 8
        }
      ],
      "source": [
        "# Drop column Cabin as it null values more than 50%\n",
        "df.drop('Chance of Admit ',inplace=True,axis=1)\n",
        "df.columns"
      ]
    },
    {
      "cell_type": "code",
      "execution_count": null,
      "metadata": {
        "colab": {
          "base_uri": "https://localhost:8080/",
          "height": 206
        },
        "id": "4bP01MHSLCMX",
        "outputId": "aad2a5dc-1a10-48d2-98cc-51fe3e9d803c"
      },
      "outputs": [
        {
          "output_type": "execute_result",
          "data": {
            "text/plain": [
              "   Serial No.  GRE Score  TOEFL Score  University Rating  SOP  LOR   CGPA  \\\n",
              "0           1        337          118                  4  4.5   4.5  9.65   \n",
              "1           2        324          107                  4  4.0   4.5  8.87   \n",
              "2           3        316          104                  3  3.0   3.5  8.00   \n",
              "3           4        322          110                  3  3.5   2.5  8.67   \n",
              "4           5        314          103                  2  2.0   3.0  8.21   \n",
              "\n",
              "   Research  Target  \n",
              "0         1       1  \n",
              "1         1       1  \n",
              "2         1       1  \n",
              "3         1       1  \n",
              "4         0       1  "
            ],
            "text/html": [
              "\n",
              "  <div id=\"df-254d7710-c393-4258-b8c0-d3439b101d03\">\n",
              "    <div class=\"colab-df-container\">\n",
              "      <div>\n",
              "<style scoped>\n",
              "    .dataframe tbody tr th:only-of-type {\n",
              "        vertical-align: middle;\n",
              "    }\n",
              "\n",
              "    .dataframe tbody tr th {\n",
              "        vertical-align: top;\n",
              "    }\n",
              "\n",
              "    .dataframe thead th {\n",
              "        text-align: right;\n",
              "    }\n",
              "</style>\n",
              "<table border=\"1\" class=\"dataframe\">\n",
              "  <thead>\n",
              "    <tr style=\"text-align: right;\">\n",
              "      <th></th>\n",
              "      <th>Serial No.</th>\n",
              "      <th>GRE Score</th>\n",
              "      <th>TOEFL Score</th>\n",
              "      <th>University Rating</th>\n",
              "      <th>SOP</th>\n",
              "      <th>LOR</th>\n",
              "      <th>CGPA</th>\n",
              "      <th>Research</th>\n",
              "      <th>Target</th>\n",
              "    </tr>\n",
              "  </thead>\n",
              "  <tbody>\n",
              "    <tr>\n",
              "      <th>0</th>\n",
              "      <td>1</td>\n",
              "      <td>337</td>\n",
              "      <td>118</td>\n",
              "      <td>4</td>\n",
              "      <td>4.5</td>\n",
              "      <td>4.5</td>\n",
              "      <td>9.65</td>\n",
              "      <td>1</td>\n",
              "      <td>1</td>\n",
              "    </tr>\n",
              "    <tr>\n",
              "      <th>1</th>\n",
              "      <td>2</td>\n",
              "      <td>324</td>\n",
              "      <td>107</td>\n",
              "      <td>4</td>\n",
              "      <td>4.0</td>\n",
              "      <td>4.5</td>\n",
              "      <td>8.87</td>\n",
              "      <td>1</td>\n",
              "      <td>1</td>\n",
              "    </tr>\n",
              "    <tr>\n",
              "      <th>2</th>\n",
              "      <td>3</td>\n",
              "      <td>316</td>\n",
              "      <td>104</td>\n",
              "      <td>3</td>\n",
              "      <td>3.0</td>\n",
              "      <td>3.5</td>\n",
              "      <td>8.00</td>\n",
              "      <td>1</td>\n",
              "      <td>1</td>\n",
              "    </tr>\n",
              "    <tr>\n",
              "      <th>3</th>\n",
              "      <td>4</td>\n",
              "      <td>322</td>\n",
              "      <td>110</td>\n",
              "      <td>3</td>\n",
              "      <td>3.5</td>\n",
              "      <td>2.5</td>\n",
              "      <td>8.67</td>\n",
              "      <td>1</td>\n",
              "      <td>1</td>\n",
              "    </tr>\n",
              "    <tr>\n",
              "      <th>4</th>\n",
              "      <td>5</td>\n",
              "      <td>314</td>\n",
              "      <td>103</td>\n",
              "      <td>2</td>\n",
              "      <td>2.0</td>\n",
              "      <td>3.0</td>\n",
              "      <td>8.21</td>\n",
              "      <td>0</td>\n",
              "      <td>1</td>\n",
              "    </tr>\n",
              "  </tbody>\n",
              "</table>\n",
              "</div>\n",
              "      <button class=\"colab-df-convert\" onclick=\"convertToInteractive('df-254d7710-c393-4258-b8c0-d3439b101d03')\"\n",
              "              title=\"Convert this dataframe to an interactive table.\"\n",
              "              style=\"display:none;\">\n",
              "        \n",
              "  <svg xmlns=\"http://www.w3.org/2000/svg\" height=\"24px\"viewBox=\"0 0 24 24\"\n",
              "       width=\"24px\">\n",
              "    <path d=\"M0 0h24v24H0V0z\" fill=\"none\"/>\n",
              "    <path d=\"M18.56 5.44l.94 2.06.94-2.06 2.06-.94-2.06-.94-.94-2.06-.94 2.06-2.06.94zm-11 1L8.5 8.5l.94-2.06 2.06-.94-2.06-.94L8.5 2.5l-.94 2.06-2.06.94zm10 10l.94 2.06.94-2.06 2.06-.94-2.06-.94-.94-2.06-.94 2.06-2.06.94z\"/><path d=\"M17.41 7.96l-1.37-1.37c-.4-.4-.92-.59-1.43-.59-.52 0-1.04.2-1.43.59L10.3 9.45l-7.72 7.72c-.78.78-.78 2.05 0 2.83L4 21.41c.39.39.9.59 1.41.59.51 0 1.02-.2 1.41-.59l7.78-7.78 2.81-2.81c.8-.78.8-2.07 0-2.86zM5.41 20L4 18.59l7.72-7.72 1.47 1.35L5.41 20z\"/>\n",
              "  </svg>\n",
              "      </button>\n",
              "      \n",
              "  <style>\n",
              "    .colab-df-container {\n",
              "      display:flex;\n",
              "      flex-wrap:wrap;\n",
              "      gap: 12px;\n",
              "    }\n",
              "\n",
              "    .colab-df-convert {\n",
              "      background-color: #E8F0FE;\n",
              "      border: none;\n",
              "      border-radius: 50%;\n",
              "      cursor: pointer;\n",
              "      display: none;\n",
              "      fill: #1967D2;\n",
              "      height: 32px;\n",
              "      padding: 0 0 0 0;\n",
              "      width: 32px;\n",
              "    }\n",
              "\n",
              "    .colab-df-convert:hover {\n",
              "      background-color: #E2EBFA;\n",
              "      box-shadow: 0px 1px 2px rgba(60, 64, 67, 0.3), 0px 1px 3px 1px rgba(60, 64, 67, 0.15);\n",
              "      fill: #174EA6;\n",
              "    }\n",
              "\n",
              "    [theme=dark] .colab-df-convert {\n",
              "      background-color: #3B4455;\n",
              "      fill: #D2E3FC;\n",
              "    }\n",
              "\n",
              "    [theme=dark] .colab-df-convert:hover {\n",
              "      background-color: #434B5C;\n",
              "      box-shadow: 0px 1px 3px 1px rgba(0, 0, 0, 0.15);\n",
              "      filter: drop-shadow(0px 1px 2px rgba(0, 0, 0, 0.3));\n",
              "      fill: #FFFFFF;\n",
              "    }\n",
              "  </style>\n",
              "\n",
              "      <script>\n",
              "        const buttonEl =\n",
              "          document.querySelector('#df-254d7710-c393-4258-b8c0-d3439b101d03 button.colab-df-convert');\n",
              "        buttonEl.style.display =\n",
              "          google.colab.kernel.accessAllowed ? 'block' : 'none';\n",
              "\n",
              "        async function convertToInteractive(key) {\n",
              "          const element = document.querySelector('#df-254d7710-c393-4258-b8c0-d3439b101d03');\n",
              "          const dataTable =\n",
              "            await google.colab.kernel.invokeFunction('convertToInteractive',\n",
              "                                                     [key], {});\n",
              "          if (!dataTable) return;\n",
              "\n",
              "          const docLinkHtml = 'Like what you see? Visit the ' +\n",
              "            '<a target=\"_blank\" href=https://colab.research.google.com/notebooks/data_table.ipynb>data table notebook</a>'\n",
              "            + ' to learn more about interactive tables.';\n",
              "          element.innerHTML = '';\n",
              "          dataTable['output_type'] = 'display_data';\n",
              "          await google.colab.output.renderOutput(dataTable, element);\n",
              "          const docLink = document.createElement('div');\n",
              "          docLink.innerHTML = docLinkHtml;\n",
              "          element.appendChild(docLink);\n",
              "        }\n",
              "      </script>\n",
              "    </div>\n",
              "  </div>\n",
              "  "
            ]
          },
          "metadata": {},
          "execution_count": 9
        }
      ],
      "source": [
        "df.head()"
      ]
    },
    {
      "cell_type": "code",
      "execution_count": null,
      "metadata": {
        "colab": {
          "base_uri": "https://localhost:8080/"
        },
        "id": "dTSDRvJQPDKr",
        "outputId": "f4c374c2-060c-4989-c907-240bdcbd5643"
      },
      "outputs": [
        {
          "output_type": "execute_result",
          "data": {
            "text/plain": [
              "array([1, 0])"
            ]
          },
          "metadata": {},
          "execution_count": 10
        }
      ],
      "source": [
        "df['Target'].unique()"
      ]
    },
    {
      "cell_type": "code",
      "execution_count": null,
      "metadata": {
        "colab": {
          "base_uri": "https://localhost:8080/"
        },
        "id": "qtNIhmm8PYrh",
        "outputId": "b698cab0-bea0-4235-ca1c-9d7d2e726d9c"
      },
      "outputs": [
        {
          "output_type": "execute_result",
          "data": {
            "text/plain": [
              "1    367\n",
              "0     33\n",
              "Name: Target, dtype: int64"
            ]
          },
          "metadata": {},
          "execution_count": 11
        }
      ],
      "source": [
        "df['Target'].value_counts()"
      ]
    },
    {
      "cell_type": "code",
      "execution_count": null,
      "metadata": {
        "colab": {
          "base_uri": "https://localhost:8080/"
        },
        "id": "7dfn6xRgLEBM",
        "outputId": "0036db1e-59f0-414d-f702-a427b9d5cc0c"
      },
      "outputs": [
        {
          "output_type": "execute_result",
          "data": {
            "text/plain": [
              "Serial No.           0\n",
              "GRE Score            0\n",
              "TOEFL Score          0\n",
              "University Rating    0\n",
              "SOP                  0\n",
              "LOR                  0\n",
              "CGPA                 0\n",
              "Research             0\n",
              "Target               0\n",
              "dtype: int64"
            ]
          },
          "metadata": {},
          "execution_count": 12
        }
      ],
      "source": [
        "df.isnull().sum()"
      ]
    },
    {
      "cell_type": "code",
      "execution_count": null,
      "metadata": {
        "colab": {
          "base_uri": "https://localhost:8080/"
        },
        "id": "BaQ81CRhOxQJ",
        "outputId": "3a1ba1fd-d468-45a5-c5c2-4b0584867566"
      },
      "outputs": [
        {
          "output_type": "execute_result",
          "data": {
            "text/plain": [
              "0"
            ]
          },
          "metadata": {},
          "execution_count": 13
        }
      ],
      "source": [
        "df.duplicated().sum()"
      ]
    },
    {
      "cell_type": "code",
      "execution_count": null,
      "metadata": {
        "colab": {
          "base_uri": "https://localhost:8080/",
          "height": 206
        },
        "id": "ZiRiJiu2O0Nv",
        "outputId": "af9bd13e-0a58-496f-e93a-d263caf10783"
      },
      "outputs": [
        {
          "output_type": "execute_result",
          "data": {
            "text/plain": [
              "   Serial No.  GRE Score  TOEFL Score  University Rating  SOP  LOR   CGPA  \\\n",
              "0           1        337          118                  4  4.5   4.5  9.65   \n",
              "1           2        324          107                  4  4.0   4.5  8.87   \n",
              "2           3        316          104                  3  3.0   3.5  8.00   \n",
              "3           4        322          110                  3  3.5   2.5  8.67   \n",
              "4           5        314          103                  2  2.0   3.0  8.21   \n",
              "\n",
              "   Research  Target  \n",
              "0         1       1  \n",
              "1         1       1  \n",
              "2         1       1  \n",
              "3         1       1  \n",
              "4         0       1  "
            ],
            "text/html": [
              "\n",
              "  <div id=\"df-1fa6017d-a9b4-46d4-9888-6ddee8648afa\">\n",
              "    <div class=\"colab-df-container\">\n",
              "      <div>\n",
              "<style scoped>\n",
              "    .dataframe tbody tr th:only-of-type {\n",
              "        vertical-align: middle;\n",
              "    }\n",
              "\n",
              "    .dataframe tbody tr th {\n",
              "        vertical-align: top;\n",
              "    }\n",
              "\n",
              "    .dataframe thead th {\n",
              "        text-align: right;\n",
              "    }\n",
              "</style>\n",
              "<table border=\"1\" class=\"dataframe\">\n",
              "  <thead>\n",
              "    <tr style=\"text-align: right;\">\n",
              "      <th></th>\n",
              "      <th>Serial No.</th>\n",
              "      <th>GRE Score</th>\n",
              "      <th>TOEFL Score</th>\n",
              "      <th>University Rating</th>\n",
              "      <th>SOP</th>\n",
              "      <th>LOR</th>\n",
              "      <th>CGPA</th>\n",
              "      <th>Research</th>\n",
              "      <th>Target</th>\n",
              "    </tr>\n",
              "  </thead>\n",
              "  <tbody>\n",
              "    <tr>\n",
              "      <th>0</th>\n",
              "      <td>1</td>\n",
              "      <td>337</td>\n",
              "      <td>118</td>\n",
              "      <td>4</td>\n",
              "      <td>4.5</td>\n",
              "      <td>4.5</td>\n",
              "      <td>9.65</td>\n",
              "      <td>1</td>\n",
              "      <td>1</td>\n",
              "    </tr>\n",
              "    <tr>\n",
              "      <th>1</th>\n",
              "      <td>2</td>\n",
              "      <td>324</td>\n",
              "      <td>107</td>\n",
              "      <td>4</td>\n",
              "      <td>4.0</td>\n",
              "      <td>4.5</td>\n",
              "      <td>8.87</td>\n",
              "      <td>1</td>\n",
              "      <td>1</td>\n",
              "    </tr>\n",
              "    <tr>\n",
              "      <th>2</th>\n",
              "      <td>3</td>\n",
              "      <td>316</td>\n",
              "      <td>104</td>\n",
              "      <td>3</td>\n",
              "      <td>3.0</td>\n",
              "      <td>3.5</td>\n",
              "      <td>8.00</td>\n",
              "      <td>1</td>\n",
              "      <td>1</td>\n",
              "    </tr>\n",
              "    <tr>\n",
              "      <th>3</th>\n",
              "      <td>4</td>\n",
              "      <td>322</td>\n",
              "      <td>110</td>\n",
              "      <td>3</td>\n",
              "      <td>3.5</td>\n",
              "      <td>2.5</td>\n",
              "      <td>8.67</td>\n",
              "      <td>1</td>\n",
              "      <td>1</td>\n",
              "    </tr>\n",
              "    <tr>\n",
              "      <th>4</th>\n",
              "      <td>5</td>\n",
              "      <td>314</td>\n",
              "      <td>103</td>\n",
              "      <td>2</td>\n",
              "      <td>2.0</td>\n",
              "      <td>3.0</td>\n",
              "      <td>8.21</td>\n",
              "      <td>0</td>\n",
              "      <td>1</td>\n",
              "    </tr>\n",
              "  </tbody>\n",
              "</table>\n",
              "</div>\n",
              "      <button class=\"colab-df-convert\" onclick=\"convertToInteractive('df-1fa6017d-a9b4-46d4-9888-6ddee8648afa')\"\n",
              "              title=\"Convert this dataframe to an interactive table.\"\n",
              "              style=\"display:none;\">\n",
              "        \n",
              "  <svg xmlns=\"http://www.w3.org/2000/svg\" height=\"24px\"viewBox=\"0 0 24 24\"\n",
              "       width=\"24px\">\n",
              "    <path d=\"M0 0h24v24H0V0z\" fill=\"none\"/>\n",
              "    <path d=\"M18.56 5.44l.94 2.06.94-2.06 2.06-.94-2.06-.94-.94-2.06-.94 2.06-2.06.94zm-11 1L8.5 8.5l.94-2.06 2.06-.94-2.06-.94L8.5 2.5l-.94 2.06-2.06.94zm10 10l.94 2.06.94-2.06 2.06-.94-2.06-.94-.94-2.06-.94 2.06-2.06.94z\"/><path d=\"M17.41 7.96l-1.37-1.37c-.4-.4-.92-.59-1.43-.59-.52 0-1.04.2-1.43.59L10.3 9.45l-7.72 7.72c-.78.78-.78 2.05 0 2.83L4 21.41c.39.39.9.59 1.41.59.51 0 1.02-.2 1.41-.59l7.78-7.78 2.81-2.81c.8-.78.8-2.07 0-2.86zM5.41 20L4 18.59l7.72-7.72 1.47 1.35L5.41 20z\"/>\n",
              "  </svg>\n",
              "      </button>\n",
              "      \n",
              "  <style>\n",
              "    .colab-df-container {\n",
              "      display:flex;\n",
              "      flex-wrap:wrap;\n",
              "      gap: 12px;\n",
              "    }\n",
              "\n",
              "    .colab-df-convert {\n",
              "      background-color: #E8F0FE;\n",
              "      border: none;\n",
              "      border-radius: 50%;\n",
              "      cursor: pointer;\n",
              "      display: none;\n",
              "      fill: #1967D2;\n",
              "      height: 32px;\n",
              "      padding: 0 0 0 0;\n",
              "      width: 32px;\n",
              "    }\n",
              "\n",
              "    .colab-df-convert:hover {\n",
              "      background-color: #E2EBFA;\n",
              "      box-shadow: 0px 1px 2px rgba(60, 64, 67, 0.3), 0px 1px 3px 1px rgba(60, 64, 67, 0.15);\n",
              "      fill: #174EA6;\n",
              "    }\n",
              "\n",
              "    [theme=dark] .colab-df-convert {\n",
              "      background-color: #3B4455;\n",
              "      fill: #D2E3FC;\n",
              "    }\n",
              "\n",
              "    [theme=dark] .colab-df-convert:hover {\n",
              "      background-color: #434B5C;\n",
              "      box-shadow: 0px 1px 3px 1px rgba(0, 0, 0, 0.15);\n",
              "      filter: drop-shadow(0px 1px 2px rgba(0, 0, 0, 0.3));\n",
              "      fill: #FFFFFF;\n",
              "    }\n",
              "  </style>\n",
              "\n",
              "      <script>\n",
              "        const buttonEl =\n",
              "          document.querySelector('#df-1fa6017d-a9b4-46d4-9888-6ddee8648afa button.colab-df-convert');\n",
              "        buttonEl.style.display =\n",
              "          google.colab.kernel.accessAllowed ? 'block' : 'none';\n",
              "\n",
              "        async function convertToInteractive(key) {\n",
              "          const element = document.querySelector('#df-1fa6017d-a9b4-46d4-9888-6ddee8648afa');\n",
              "          const dataTable =\n",
              "            await google.colab.kernel.invokeFunction('convertToInteractive',\n",
              "                                                     [key], {});\n",
              "          if (!dataTable) return;\n",
              "\n",
              "          const docLinkHtml = 'Like what you see? Visit the ' +\n",
              "            '<a target=\"_blank\" href=https://colab.research.google.com/notebooks/data_table.ipynb>data table notebook</a>'\n",
              "            + ' to learn more about interactive tables.';\n",
              "          element.innerHTML = '';\n",
              "          dataTable['output_type'] = 'display_data';\n",
              "          await google.colab.output.renderOutput(dataTable, element);\n",
              "          const docLink = document.createElement('div');\n",
              "          docLink.innerHTML = docLinkHtml;\n",
              "          element.appendChild(docLink);\n",
              "        }\n",
              "      </script>\n",
              "    </div>\n",
              "  </div>\n",
              "  "
            ]
          },
          "metadata": {},
          "execution_count": 14
        }
      ],
      "source": [
        "df.head()"
      ]
    },
    {
      "cell_type": "code",
      "execution_count": null,
      "metadata": {
        "id": "htSSxd5beyuE"
      },
      "outputs": [],
      "source": [
        "#select input and output\n",
        "X=df.drop('Target',axis=1) #input\n",
        "Y=df['Target'] #output"
      ]
    },
    {
      "cell_type": "code",
      "execution_count": null,
      "metadata": {
        "colab": {
          "base_uri": "https://localhost:8080/",
          "height": 206
        },
        "id": "Uc_wJKC0eyuF",
        "outputId": "9e360c7e-262b-448c-fa10-3b26c95e1762"
      },
      "outputs": [
        {
          "output_type": "execute_result",
          "data": {
            "text/plain": [
              "   Serial No.  GRE Score  TOEFL Score  University Rating  SOP  LOR   CGPA  \\\n",
              "0           1        337          118                  4  4.5   4.5  9.65   \n",
              "1           2        324          107                  4  4.0   4.5  8.87   \n",
              "2           3        316          104                  3  3.0   3.5  8.00   \n",
              "3           4        322          110                  3  3.5   2.5  8.67   \n",
              "4           5        314          103                  2  2.0   3.0  8.21   \n",
              "\n",
              "   Research  \n",
              "0         1  \n",
              "1         1  \n",
              "2         1  \n",
              "3         1  \n",
              "4         0  "
            ],
            "text/html": [
              "\n",
              "  <div id=\"df-dcabf5bf-16d1-44a0-96f8-e54bb2979735\">\n",
              "    <div class=\"colab-df-container\">\n",
              "      <div>\n",
              "<style scoped>\n",
              "    .dataframe tbody tr th:only-of-type {\n",
              "        vertical-align: middle;\n",
              "    }\n",
              "\n",
              "    .dataframe tbody tr th {\n",
              "        vertical-align: top;\n",
              "    }\n",
              "\n",
              "    .dataframe thead th {\n",
              "        text-align: right;\n",
              "    }\n",
              "</style>\n",
              "<table border=\"1\" class=\"dataframe\">\n",
              "  <thead>\n",
              "    <tr style=\"text-align: right;\">\n",
              "      <th></th>\n",
              "      <th>Serial No.</th>\n",
              "      <th>GRE Score</th>\n",
              "      <th>TOEFL Score</th>\n",
              "      <th>University Rating</th>\n",
              "      <th>SOP</th>\n",
              "      <th>LOR</th>\n",
              "      <th>CGPA</th>\n",
              "      <th>Research</th>\n",
              "    </tr>\n",
              "  </thead>\n",
              "  <tbody>\n",
              "    <tr>\n",
              "      <th>0</th>\n",
              "      <td>1</td>\n",
              "      <td>337</td>\n",
              "      <td>118</td>\n",
              "      <td>4</td>\n",
              "      <td>4.5</td>\n",
              "      <td>4.5</td>\n",
              "      <td>9.65</td>\n",
              "      <td>1</td>\n",
              "    </tr>\n",
              "    <tr>\n",
              "      <th>1</th>\n",
              "      <td>2</td>\n",
              "      <td>324</td>\n",
              "      <td>107</td>\n",
              "      <td>4</td>\n",
              "      <td>4.0</td>\n",
              "      <td>4.5</td>\n",
              "      <td>8.87</td>\n",
              "      <td>1</td>\n",
              "    </tr>\n",
              "    <tr>\n",
              "      <th>2</th>\n",
              "      <td>3</td>\n",
              "      <td>316</td>\n",
              "      <td>104</td>\n",
              "      <td>3</td>\n",
              "      <td>3.0</td>\n",
              "      <td>3.5</td>\n",
              "      <td>8.00</td>\n",
              "      <td>1</td>\n",
              "    </tr>\n",
              "    <tr>\n",
              "      <th>3</th>\n",
              "      <td>4</td>\n",
              "      <td>322</td>\n",
              "      <td>110</td>\n",
              "      <td>3</td>\n",
              "      <td>3.5</td>\n",
              "      <td>2.5</td>\n",
              "      <td>8.67</td>\n",
              "      <td>1</td>\n",
              "    </tr>\n",
              "    <tr>\n",
              "      <th>4</th>\n",
              "      <td>5</td>\n",
              "      <td>314</td>\n",
              "      <td>103</td>\n",
              "      <td>2</td>\n",
              "      <td>2.0</td>\n",
              "      <td>3.0</td>\n",
              "      <td>8.21</td>\n",
              "      <td>0</td>\n",
              "    </tr>\n",
              "  </tbody>\n",
              "</table>\n",
              "</div>\n",
              "      <button class=\"colab-df-convert\" onclick=\"convertToInteractive('df-dcabf5bf-16d1-44a0-96f8-e54bb2979735')\"\n",
              "              title=\"Convert this dataframe to an interactive table.\"\n",
              "              style=\"display:none;\">\n",
              "        \n",
              "  <svg xmlns=\"http://www.w3.org/2000/svg\" height=\"24px\"viewBox=\"0 0 24 24\"\n",
              "       width=\"24px\">\n",
              "    <path d=\"M0 0h24v24H0V0z\" fill=\"none\"/>\n",
              "    <path d=\"M18.56 5.44l.94 2.06.94-2.06 2.06-.94-2.06-.94-.94-2.06-.94 2.06-2.06.94zm-11 1L8.5 8.5l.94-2.06 2.06-.94-2.06-.94L8.5 2.5l-.94 2.06-2.06.94zm10 10l.94 2.06.94-2.06 2.06-.94-2.06-.94-.94-2.06-.94 2.06-2.06.94z\"/><path d=\"M17.41 7.96l-1.37-1.37c-.4-.4-.92-.59-1.43-.59-.52 0-1.04.2-1.43.59L10.3 9.45l-7.72 7.72c-.78.78-.78 2.05 0 2.83L4 21.41c.39.39.9.59 1.41.59.51 0 1.02-.2 1.41-.59l7.78-7.78 2.81-2.81c.8-.78.8-2.07 0-2.86zM5.41 20L4 18.59l7.72-7.72 1.47 1.35L5.41 20z\"/>\n",
              "  </svg>\n",
              "      </button>\n",
              "      \n",
              "  <style>\n",
              "    .colab-df-container {\n",
              "      display:flex;\n",
              "      flex-wrap:wrap;\n",
              "      gap: 12px;\n",
              "    }\n",
              "\n",
              "    .colab-df-convert {\n",
              "      background-color: #E8F0FE;\n",
              "      border: none;\n",
              "      border-radius: 50%;\n",
              "      cursor: pointer;\n",
              "      display: none;\n",
              "      fill: #1967D2;\n",
              "      height: 32px;\n",
              "      padding: 0 0 0 0;\n",
              "      width: 32px;\n",
              "    }\n",
              "\n",
              "    .colab-df-convert:hover {\n",
              "      background-color: #E2EBFA;\n",
              "      box-shadow: 0px 1px 2px rgba(60, 64, 67, 0.3), 0px 1px 3px 1px rgba(60, 64, 67, 0.15);\n",
              "      fill: #174EA6;\n",
              "    }\n",
              "\n",
              "    [theme=dark] .colab-df-convert {\n",
              "      background-color: #3B4455;\n",
              "      fill: #D2E3FC;\n",
              "    }\n",
              "\n",
              "    [theme=dark] .colab-df-convert:hover {\n",
              "      background-color: #434B5C;\n",
              "      box-shadow: 0px 1px 3px 1px rgba(0, 0, 0, 0.15);\n",
              "      filter: drop-shadow(0px 1px 2px rgba(0, 0, 0, 0.3));\n",
              "      fill: #FFFFFF;\n",
              "    }\n",
              "  </style>\n",
              "\n",
              "      <script>\n",
              "        const buttonEl =\n",
              "          document.querySelector('#df-dcabf5bf-16d1-44a0-96f8-e54bb2979735 button.colab-df-convert');\n",
              "        buttonEl.style.display =\n",
              "          google.colab.kernel.accessAllowed ? 'block' : 'none';\n",
              "\n",
              "        async function convertToInteractive(key) {\n",
              "          const element = document.querySelector('#df-dcabf5bf-16d1-44a0-96f8-e54bb2979735');\n",
              "          const dataTable =\n",
              "            await google.colab.kernel.invokeFunction('convertToInteractive',\n",
              "                                                     [key], {});\n",
              "          if (!dataTable) return;\n",
              "\n",
              "          const docLinkHtml = 'Like what you see? Visit the ' +\n",
              "            '<a target=\"_blank\" href=https://colab.research.google.com/notebooks/data_table.ipynb>data table notebook</a>'\n",
              "            + ' to learn more about interactive tables.';\n",
              "          element.innerHTML = '';\n",
              "          dataTable['output_type'] = 'display_data';\n",
              "          await google.colab.output.renderOutput(dataTable, element);\n",
              "          const docLink = document.createElement('div');\n",
              "          docLink.innerHTML = docLinkHtml;\n",
              "          element.appendChild(docLink);\n",
              "        }\n",
              "      </script>\n",
              "    </div>\n",
              "  </div>\n",
              "  "
            ]
          },
          "metadata": {},
          "execution_count": 16
        }
      ],
      "source": [
        "X.head()"
      ]
    },
    {
      "cell_type": "code",
      "execution_count": null,
      "metadata": {
        "colab": {
          "base_uri": "https://localhost:8080/"
        },
        "id": "_XFuSMpjeyuF",
        "outputId": "e39e0dbe-559d-4e07-b87c-424c6877fbf6"
      },
      "outputs": [
        {
          "output_type": "execute_result",
          "data": {
            "text/plain": [
              "0    1\n",
              "1    1\n",
              "2    1\n",
              "3    1\n",
              "4    1\n",
              "Name: Target, dtype: int64"
            ]
          },
          "metadata": {},
          "execution_count": 17
        }
      ],
      "source": [
        "Y.head()"
      ]
    },
    {
      "cell_type": "code",
      "execution_count": null,
      "metadata": {
        "id": "BLSIeyr0eyuG"
      },
      "outputs": [],
      "source": [
        "#split train test\n",
        "from sklearn.model_selection import train_test_split\n",
        "X_train,X_test,Y_train,Y_test=train_test_split(X,Y,test_size=0.3,random_state=1)"
      ]
    },
    {
      "cell_type": "code",
      "execution_count": null,
      "metadata": {
        "id": "vCWaPqg1eyuG"
      },
      "outputs": [],
      "source": [
        "#standard scaller on inputdata\n",
        "#X train and  X_test\n",
        "from sklearn.preprocessing import StandardScaler\n",
        "ss=StandardScaler()\n",
        "X_train=ss.fit_transform(X_train)\n",
        "X_test=ss.transform(X_test)"
      ]
    },
    {
      "cell_type": "markdown",
      "metadata": {
        "id": "l4bmnj9UeyuH"
      },
      "source": [
        "# logistic regression \n",
        "#create a model with logistics  regression why?\n",
        "#because we want to  predict the value of yes / no  means we have"
      ]
    },
    {
      "cell_type": "code",
      "execution_count": null,
      "metadata": {
        "id": "FgKE0vTHeyuH"
      },
      "outputs": [],
      "source": [
        "#logistic regression \n",
        "#create a model with logistics  regression why?\n",
        "#because we want to  predict the value of yes / no  means we have\n",
        "#classification dataset\n",
        "#call inbuilt class logiscit regression\n",
        "from sklearn.linear_model import LogisticRegression"
      ]
    },
    {
      "cell_type": "code",
      "execution_count": null,
      "metadata": {
        "id": "7-iQTAmLeyuH"
      },
      "outputs": [],
      "source": [
        "#create the dataset of logisticregression\n",
        "lr=LogisticRegression()"
      ]
    },
    {
      "cell_type": "code",
      "execution_count": null,
      "metadata": {
        "colab": {
          "base_uri": "https://localhost:8080/"
        },
        "id": "bAPdR6LPeyuI",
        "outputId": "82ece644-ba3a-40fe-c0d1-5513ff31ec29"
      },
      "outputs": [
        {
          "output_type": "execute_result",
          "data": {
            "text/plain": [
              "LogisticRegression()"
            ]
          },
          "metadata": {},
          "execution_count": 22
        }
      ],
      "source": [
        "#scaling is importent\n",
        "#train the model with 70% data, use fit() inbuilt method\n",
        "lr.fit(X_train,Y_train)"
      ]
    },
    {
      "cell_type": "code",
      "execution_count": null,
      "metadata": {
        "colab": {
          "base_uri": "https://localhost:8080/"
        },
        "id": "01ltd4rceyuI",
        "outputId": "523d4a5f-86bf-45b4-cdb1-5170600af906"
      },
      "outputs": [
        {
          "output_type": "execute_result",
          "data": {
            "text/plain": [
              "array([1, 1, 1, 1, 1, 1, 1, 1, 0, 1, 1, 1, 1, 1, 1, 1, 1, 1, 0, 1, 1, 1,\n",
              "       1, 1, 1, 1, 1, 1, 1, 1, 1, 1, 1, 1, 1, 1, 0, 1, 1, 1, 1, 1, 1, 1,\n",
              "       1, 1, 1, 1, 1, 1, 1, 1, 1, 1, 1, 1, 0, 0, 1, 1, 1, 1, 1, 1, 1, 1,\n",
              "       1, 1, 1, 1, 1, 1, 1, 1, 1, 0, 1, 1, 1, 1, 1, 1, 1, 1, 1, 1, 1, 1,\n",
              "       1, 1, 1, 1, 1, 1, 1, 1, 1, 1, 1, 1, 1, 1, 1, 1, 1, 1, 1, 1, 1, 1,\n",
              "       1, 1, 1, 1, 1, 0, 1, 1, 1, 1])"
            ]
          },
          "metadata": {},
          "execution_count": 23
        }
      ],
      "source": [
        "#Test the model with 30% data, use inbuilt method predict() \n",
        "Y_pred=lr.predict(X_test) #Y_pred=1/(1+np.exp(-x))\n",
        "Y_pred"
      ]
    },
    {
      "cell_type": "code",
      "execution_count": null,
      "metadata": {
        "colab": {
          "base_uri": "https://localhost:8080/",
          "height": 206
        },
        "id": "1Lo_D6S-eyuI",
        "outputId": "a6abd55f-6ed2-4d22-e649-4f16d16205ea"
      },
      "outputs": [
        {
          "output_type": "execute_result",
          "data": {
            "text/plain": [
              "     Actual output  Predicted output\n",
              "398              1                 1\n",
              "125              1                 1\n",
              "328              1                 1\n",
              "339              1                 1\n",
              "172              1                 1"
            ],
            "text/html": [
              "\n",
              "  <div id=\"df-fe387bc1-6eb0-496f-9359-b916b4156271\">\n",
              "    <div class=\"colab-df-container\">\n",
              "      <div>\n",
              "<style scoped>\n",
              "    .dataframe tbody tr th:only-of-type {\n",
              "        vertical-align: middle;\n",
              "    }\n",
              "\n",
              "    .dataframe tbody tr th {\n",
              "        vertical-align: top;\n",
              "    }\n",
              "\n",
              "    .dataframe thead th {\n",
              "        text-align: right;\n",
              "    }\n",
              "</style>\n",
              "<table border=\"1\" class=\"dataframe\">\n",
              "  <thead>\n",
              "    <tr style=\"text-align: right;\">\n",
              "      <th></th>\n",
              "      <th>Actual output</th>\n",
              "      <th>Predicted output</th>\n",
              "    </tr>\n",
              "  </thead>\n",
              "  <tbody>\n",
              "    <tr>\n",
              "      <th>398</th>\n",
              "      <td>1</td>\n",
              "      <td>1</td>\n",
              "    </tr>\n",
              "    <tr>\n",
              "      <th>125</th>\n",
              "      <td>1</td>\n",
              "      <td>1</td>\n",
              "    </tr>\n",
              "    <tr>\n",
              "      <th>328</th>\n",
              "      <td>1</td>\n",
              "      <td>1</td>\n",
              "    </tr>\n",
              "    <tr>\n",
              "      <th>339</th>\n",
              "      <td>1</td>\n",
              "      <td>1</td>\n",
              "    </tr>\n",
              "    <tr>\n",
              "      <th>172</th>\n",
              "      <td>1</td>\n",
              "      <td>1</td>\n",
              "    </tr>\n",
              "  </tbody>\n",
              "</table>\n",
              "</div>\n",
              "      <button class=\"colab-df-convert\" onclick=\"convertToInteractive('df-fe387bc1-6eb0-496f-9359-b916b4156271')\"\n",
              "              title=\"Convert this dataframe to an interactive table.\"\n",
              "              style=\"display:none;\">\n",
              "        \n",
              "  <svg xmlns=\"http://www.w3.org/2000/svg\" height=\"24px\"viewBox=\"0 0 24 24\"\n",
              "       width=\"24px\">\n",
              "    <path d=\"M0 0h24v24H0V0z\" fill=\"none\"/>\n",
              "    <path d=\"M18.56 5.44l.94 2.06.94-2.06 2.06-.94-2.06-.94-.94-2.06-.94 2.06-2.06.94zm-11 1L8.5 8.5l.94-2.06 2.06-.94-2.06-.94L8.5 2.5l-.94 2.06-2.06.94zm10 10l.94 2.06.94-2.06 2.06-.94-2.06-.94-.94-2.06-.94 2.06-2.06.94z\"/><path d=\"M17.41 7.96l-1.37-1.37c-.4-.4-.92-.59-1.43-.59-.52 0-1.04.2-1.43.59L10.3 9.45l-7.72 7.72c-.78.78-.78 2.05 0 2.83L4 21.41c.39.39.9.59 1.41.59.51 0 1.02-.2 1.41-.59l7.78-7.78 2.81-2.81c.8-.78.8-2.07 0-2.86zM5.41 20L4 18.59l7.72-7.72 1.47 1.35L5.41 20z\"/>\n",
              "  </svg>\n",
              "      </button>\n",
              "      \n",
              "  <style>\n",
              "    .colab-df-container {\n",
              "      display:flex;\n",
              "      flex-wrap:wrap;\n",
              "      gap: 12px;\n",
              "    }\n",
              "\n",
              "    .colab-df-convert {\n",
              "      background-color: #E8F0FE;\n",
              "      border: none;\n",
              "      border-radius: 50%;\n",
              "      cursor: pointer;\n",
              "      display: none;\n",
              "      fill: #1967D2;\n",
              "      height: 32px;\n",
              "      padding: 0 0 0 0;\n",
              "      width: 32px;\n",
              "    }\n",
              "\n",
              "    .colab-df-convert:hover {\n",
              "      background-color: #E2EBFA;\n",
              "      box-shadow: 0px 1px 2px rgba(60, 64, 67, 0.3), 0px 1px 3px 1px rgba(60, 64, 67, 0.15);\n",
              "      fill: #174EA6;\n",
              "    }\n",
              "\n",
              "    [theme=dark] .colab-df-convert {\n",
              "      background-color: #3B4455;\n",
              "      fill: #D2E3FC;\n",
              "    }\n",
              "\n",
              "    [theme=dark] .colab-df-convert:hover {\n",
              "      background-color: #434B5C;\n",
              "      box-shadow: 0px 1px 3px 1px rgba(0, 0, 0, 0.15);\n",
              "      filter: drop-shadow(0px 1px 2px rgba(0, 0, 0, 0.3));\n",
              "      fill: #FFFFFF;\n",
              "    }\n",
              "  </style>\n",
              "\n",
              "      <script>\n",
              "        const buttonEl =\n",
              "          document.querySelector('#df-fe387bc1-6eb0-496f-9359-b916b4156271 button.colab-df-convert');\n",
              "        buttonEl.style.display =\n",
              "          google.colab.kernel.accessAllowed ? 'block' : 'none';\n",
              "\n",
              "        async function convertToInteractive(key) {\n",
              "          const element = document.querySelector('#df-fe387bc1-6eb0-496f-9359-b916b4156271');\n",
              "          const dataTable =\n",
              "            await google.colab.kernel.invokeFunction('convertToInteractive',\n",
              "                                                     [key], {});\n",
              "          if (!dataTable) return;\n",
              "\n",
              "          const docLinkHtml = 'Like what you see? Visit the ' +\n",
              "            '<a target=\"_blank\" href=https://colab.research.google.com/notebooks/data_table.ipynb>data table notebook</a>'\n",
              "            + ' to learn more about interactive tables.';\n",
              "          element.innerHTML = '';\n",
              "          dataTable['output_type'] = 'display_data';\n",
              "          await google.colab.output.renderOutput(dataTable, element);\n",
              "          const docLink = document.createElement('div');\n",
              "          docLink.innerHTML = docLinkHtml;\n",
              "          element.appendChild(docLink);\n",
              "        }\n",
              "      </script>\n",
              "    </div>\n",
              "  </div>\n",
              "  "
            ]
          },
          "metadata": {},
          "execution_count": 24
        }
      ],
      "source": [
        "#create a dict \n",
        "dict={'Actual output':Y_test,'Predicted output':Y_pred}\n",
        "df2=pd.DataFrame(dict)\n",
        "df2.head()  "
      ]
    },
    {
      "cell_type": "code",
      "execution_count": null,
      "metadata": {
        "colab": {
          "base_uri": "https://localhost:8080/"
        },
        "id": "EGNqRhXXeyuJ",
        "outputId": "76fa1da3-f972-4b89-a9ed-db5b650bf94b"
      },
      "outputs": [
        {
          "output_type": "execute_result",
          "data": {
            "text/plain": [
              "0.9333333333333333"
            ]
          },
          "metadata": {},
          "execution_count": 25
        }
      ],
      "source": [
        "#check the accuracy of model, we use inbuilt method score() of logisticregression\n",
        "lr.score(X_test,Y_test) #score is always between 0 to 1,,, near 1 is considered as good \n",
        "#near 0 is considered as bad , near 0.5 is okay"
      ]
    },
    {
      "cell_type": "code",
      "execution_count": null,
      "metadata": {
        "id": "m4Hr_oy2eyuJ"
      },
      "outputs": [],
      "source": [
        "#generate classification report\n",
        "from sklearn.metrics import classification_report\n",
        "from sklearn.metrics import confusion_matrix\n"
      ]
    },
    {
      "cell_type": "code",
      "execution_count": null,
      "metadata": {
        "colab": {
          "base_uri": "https://localhost:8080/"
        },
        "id": "QqRqn4_HeyuK",
        "outputId": "e28a3ee6-dcd5-4a9a-ac37-d2007d94a11b"
      },
      "outputs": [
        {
          "output_type": "stream",
          "name": "stdout",
          "text": [
            "              precision    recall  f1-score   support\n",
            "\n",
            "           0       0.86      0.46      0.60        13\n",
            "           1       0.94      0.99      0.96       107\n",
            "\n",
            "    accuracy                           0.93       120\n",
            "   macro avg       0.90      0.73      0.78       120\n",
            "weighted avg       0.93      0.93      0.92       120\n",
            "\n"
          ]
        }
      ],
      "source": [
        "print(classification_report(Y_test,Y_pred))\n",
        "#recall of 1 \n",
        "#lr.score = f1-score"
      ]
    },
    {
      "cell_type": "code",
      "execution_count": null,
      "metadata": {
        "colab": {
          "base_uri": "https://localhost:8080/",
          "height": 72
        },
        "id": "abMmY8gqeyuK",
        "outputId": "b3a54936-f4ef-4e66-9cf0-9418c3527b71"
      },
      "outputs": [
        {
          "output_type": "stream",
          "name": "stdout",
          "text": [
            "[[  6   7]\n",
            " [  1 106]]\n"
          ]
        },
        {
          "output_type": "execute_result",
          "data": {
            "text/plain": [
              "' \\n[TP FP\\n FN TN]\\n'"
            ],
            "application/vnd.google.colaboratory.intrinsic+json": {
              "type": "string"
            }
          },
          "metadata": {},
          "execution_count": 28
        }
      ],
      "source": [
        "print(confusion_matrix(Y_test,Y_pred))\n",
        "''' \n",
        "[TP FP\n",
        " FN TN]\n",
        "'''"
      ]
    },
    {
      "cell_type": "markdown",
      "metadata": {
        "id": "DV0PFjKlO-_P"
      },
      "source": [
        "# report\n",
        "#this model is not accurate as the value of 0 is only 46%\n",
        "\n",
        "#Clearly Data is imbalance\n",
        "#here, there are 2 classes : first class : 0 means Chance of Admit is <=50\n",
        "#and second class : 1 means Chance of Admit >=50\n",
        "#here majority class : 1(367 samples) and minority class : 0(33 samples)\n",
        "#Here we have to balance of both classes\n",
        "#means here we have to use sampling technique for baqlance of 2 classes\n",
        "#There are 2 types of sampling technique :-\n",
        "#1. RandomOverSampling :  in this sampling , converts minority class into\n",
        "#majority class\n",
        "#2. RandonUnderSampling : in this sampling , converts majority class into\n",
        "#minority class"
      ]
    },
    {
      "cell_type": "markdown",
      "metadata": {
        "id": "4rQdHe0BRyX3"
      },
      "source": [
        "# First install inbuilt package imblearn  \n",
        "#!pip install imblearn"
      ]
    },
    {
      "cell_type": "code",
      "execution_count": null,
      "metadata": {
        "id": "5UrR7IfxSbWq"
      },
      "outputs": [],
      "source": [
        "#RandomOverSampler : inbuilt class : to increase means create duplicate \n",
        "#records of minority class which equal to majority class\n",
        "from imblearn.over_sampling import RandomOverSampler"
      ]
    },
    {
      "cell_type": "code",
      "execution_count": null,
      "metadata": {
        "id": "ByxTdmX0SeAx",
        "colab": {
          "base_uri": "https://localhost:8080/"
        },
        "outputId": "6e727d14-5d95-4860-9610-610d2711c630"
      },
      "outputs": [
        {
          "output_type": "execute_result",
          "data": {
            "text/plain": [
              "1    260\n",
              "0     20\n",
              "Name: Target, dtype: int64"
            ]
          },
          "metadata": {},
          "execution_count": 30
        }
      ],
      "source": [
        "#how many samples of 0 and 1 class in Y_train\n",
        "Y_train.value_counts()\n"
      ]
    },
    {
      "cell_type": "code",
      "execution_count": null,
      "metadata": {
        "colab": {
          "base_uri": "https://localhost:8080/",
          "height": 297
        },
        "id": "pjDK5NHieyuM",
        "outputId": "6e89e6f8-81bc-43b4-eed1-49410135f44b"
      },
      "outputs": [
        {
          "output_type": "execute_result",
          "data": {
            "text/plain": [
              "<matplotlib.axes._subplots.AxesSubplot at 0x7f97f3156050>"
            ]
          },
          "metadata": {},
          "execution_count": 31
        },
        {
          "output_type": "display_data",
          "data": {
            "text/plain": [
              "<Figure size 432x288 with 1 Axes>"
            ],
            "image/png": "[encoded data removed]"
          },
          "metadata": {
            "needs_background": "light"
          }
        }
      ],
      "source": [
        "import seaborn as sns\n",
        "sns.countplot(x = \"Target\", data = df)"
      ]
    },
    {
      "cell_type": "code",
      "execution_count": null,
      "metadata": {
        "id": "EVz-TWEpeyuM"
      },
      "outputs": [],
      "source": [
        "#Apply RandomOverSampler\n",
        "#create object of RandomOverSampler class\n",
        "ros=RandomOverSampler(random_state=1) #random state is used as the data dont get shuffeled again and again\n"
      ]
    },
    {
      "cell_type": "code",
      "execution_count": null,
      "metadata": {
        "id": "PzgoS2saeyuN"
      },
      "outputs": [],
      "source": [
        "#use inbuilt method fit_resample() of RandomOverSampler class\n",
        "X_train_ros,Y_train_ros=ros.fit_resample(X_train,Y_train) #we dont overwrite the train coz\n",
        "#we might use  deleting the mijority data to make it minority data\n",
        "\n"
      ]
    },
    {
      "cell_type": "code",
      "execution_count": null,
      "metadata": {
        "colab": {
          "base_uri": "https://localhost:8080/"
        },
        "id": "Ib7jbxRveyuO",
        "outputId": "681b8b9b-2f35-4fe6-ccb1-48ea7807ff8a"
      },
      "outputs": [
        {
          "output_type": "execute_result",
          "data": {
            "text/plain": [
              "0    260\n",
              "1    260\n",
              "Name: Target, dtype: int64"
            ]
          },
          "metadata": {},
          "execution_count": 34
        }
      ],
      "source": [
        "#check \n",
        "Y_train_ros.value_counts()"
      ]
    },
    {
      "cell_type": "code",
      "execution_count": null,
      "metadata": {
        "colab": {
          "base_uri": "https://localhost:8080/"
        },
        "id": "d6QTp2-PeyuP",
        "outputId": "3dbc8669-1abd-44d2-fccd-61298a73ba69"
      },
      "outputs": [
        {
          "output_type": "execute_result",
          "data": {
            "text/plain": [
              "1    107\n",
              "0     13\n",
              "Name: Target, dtype: int64"
            ]
          },
          "metadata": {},
          "execution_count": 35
        }
      ],
      "source": [
        "#testing data , but first check \n",
        "Y_test.value_counts()"
      ]
    },
    {
      "cell_type": "code",
      "execution_count": null,
      "metadata": {
        "id": "ESPYr-IKeyuP"
      },
      "outputs": [],
      "source": [
        "#apply randomoversampler on testing data\n",
        "X_test_ros,Y_test_ros=ros.fit_resample(X_test,Y_test)"
      ]
    },
    {
      "cell_type": "code",
      "execution_count": null,
      "metadata": {
        "colab": {
          "base_uri": "https://localhost:8080/"
        },
        "id": "E_48TPXeeyuQ",
        "outputId": "e4fb0cdc-a803-4153-fd25-61669432a2a9"
      },
      "outputs": [
        {
          "output_type": "execute_result",
          "data": {
            "text/plain": [
              "1    107\n",
              "0    107\n",
              "Name: Target, dtype: int64"
            ]
          },
          "metadata": {},
          "execution_count": 37
        }
      ],
      "source": [
        "#check count\n",
        "Y_test_ros.value_counts()"
      ]
    },
    {
      "cell_type": "code",
      "execution_count": null,
      "metadata": {
        "id": "cg5VC2gkeyuQ"
      },
      "outputs": [],
      "source": [
        "#create a function\n",
        "def create_model(model):\n",
        "  model.fit(X_train_ros,Y_train_ros) #train the model with 70%data\n",
        "  y_pred=model.predict(X_test_ros) #test the model with 30% data\n",
        "  print(classification_report(Y_test_ros,y_pred)) #generate report\n",
        "  print(confusion_matrix(Y_test_ros,y_pred))\n",
        "  return model"
      ]
    },
    {
      "cell_type": "markdown",
      "metadata": {
        "id": "_5nXI20oeyuR"
      },
      "source": [
        "# Use baseline model LogisticRegression"
      ]
    },
    {
      "cell_type": "code",
      "execution_count": null,
      "metadata": {
        "id": "VHw3tQfzeyuR"
      },
      "outputs": [],
      "source": [
        "#model perform with Logistic regression class\n",
        "from sklearn.linear_model import LogisticRegression"
      ]
    },
    {
      "cell_type": "code",
      "execution_count": null,
      "metadata": {
        "id": "VvzdQ3ZveyuS"
      },
      "outputs": [],
      "source": [
        "#create an object of LogisticRegression class\n",
        "lr=LogisticRegression()"
      ]
    },
    {
      "cell_type": "code",
      "execution_count": null,
      "metadata": {
        "colab": {
          "base_uri": "https://localhost:8080/"
        },
        "id": "0C_CzNTbeyuS",
        "outputId": "5ad57eef-f320-4464-b188-2a9e128532a4"
      },
      "outputs": [
        {
          "output_type": "stream",
          "name": "stdout",
          "text": [
            "              precision    recall  f1-score   support\n",
            "\n",
            "           0       0.88      0.87      0.87       107\n",
            "           1       0.87      0.88      0.87       107\n",
            "\n",
            "    accuracy                           0.87       214\n",
            "   macro avg       0.87      0.87      0.87       214\n",
            "weighted avg       0.87      0.87      0.87       214\n",
            "\n",
            "[[93 14]\n",
            " [13 94]]\n"
          ]
        }
      ],
      "source": [
        "#call function\n",
        "lr=create_model(lr)"
      ]
    },
    {
      "cell_type": "markdown",
      "metadata": {
        "id": "vFZ_mxBpeyuT"
      },
      "source": [
        "# Now doing with Decisiom Tree for better accuracy"
      ]
    },
    {
      "cell_type": "code",
      "execution_count": null,
      "metadata": {
        "id": "vlhwkeDUeyuT"
      },
      "outputs": [],
      "source": [
        "#Next  apply DecisionTreeClassifier class \n",
        "#perform dataset with the help of DecisionTreeClassifier \n",
        "#call DecisionTreeClassifier class\n",
        "from sklearn.tree import DecisionTreeClassifier\n",
        "\n",
        "#create the object of DecisionTreeClassifier class\n",
        "dt=DecisionTreeClassifier(random_state=1) #by default Gini index \n",
        "#means find loss : 1-P*2-Q*2"
      ]
    },
    {
      "cell_type": "code",
      "execution_count": null,
      "metadata": {
        "colab": {
          "base_uri": "https://localhost:8080/"
        },
        "id": "S1YqSiC0eyuU",
        "outputId": "a8c6a36c-2f81-4337-ae06-50f30c00c85f"
      },
      "outputs": [
        {
          "output_type": "stream",
          "name": "stdout",
          "text": [
            "              precision    recall  f1-score   support\n",
            "\n",
            "           0       0.90      0.34      0.49       107\n",
            "           1       0.59      0.96      0.73       107\n",
            "\n",
            "    accuracy                           0.65       214\n",
            "   macro avg       0.75      0.65      0.61       214\n",
            "weighted avg       0.75      0.65      0.61       214\n",
            "\n",
            "[[ 36  71]\n",
            " [  4 103]]\n"
          ]
        }
      ],
      "source": [
        "#call function\n",
        "dt=create_model(dt)\n"
      ]
    },
    {
      "cell_type": "code",
      "execution_count": null,
      "metadata": {
        "colab": {
          "base_uri": "https://localhost:8080/"
        },
        "id": "0212em29eyuU",
        "outputId": "91b7a83a-92be-46cc-d9a6-54b8409e6839"
      },
      "outputs": [
        {
          "output_type": "stream",
          "name": "stdout",
          "text": [
            "information Gain : [0.08184126 0.07501828 0.         0.01432834 0.09380452 0.05978247\n",
            " 0.67522513 0.        ]\n"
          ]
        }
      ],
      "source": [
        "#show the information gain of allinpit feature\n",
        "IG=dt.feature_importances_ #featuee importance inbuilt method of Decisiom Tre classfifer\n",
        "\n",
        "print('information Gain :',IG)"
      ]
    },
    {
      "cell_type": "code",
      "execution_count": null,
      "metadata": {
        "colab": {
          "base_uri": "https://localhost:8080/"
        },
        "id": "u2wc1gBEeyuV",
        "outputId": "1b2ea38c-be0f-49ea-bfad-c131c8553662"
      },
      "outputs": [
        {
          "output_type": "execute_result",
          "data": {
            "text/plain": [
              "Index(['Serial No.', 'GRE Score', 'TOEFL Score', 'University Rating', 'SOP',\n",
              "       'LOR ', 'CGPA', 'Research'],\n",
              "      dtype='object')"
            ]
          },
          "metadata": {},
          "execution_count": 45
        }
      ],
      "source": [
        "X.columns"
      ]
    },
    {
      "cell_type": "code",
      "execution_count": null,
      "metadata": {
        "colab": {
          "base_uri": "https://localhost:8080/",
          "height": 300
        },
        "id": "NhUGD4FFeyuV",
        "outputId": "6be31e05-3c62-47c0-ed85-c4c5b4311d38"
      },
      "outputs": [
        {
          "output_type": "execute_result",
          "data": {
            "text/plain": [
              "               input        IG\n",
              "6               CGPA  0.675225\n",
              "4                SOP  0.093805\n",
              "0         Serial No.  0.081841\n",
              "1          GRE Score  0.075018\n",
              "5               LOR   0.059782\n",
              "3  University Rating  0.014328\n",
              "2        TOEFL Score  0.000000\n",
              "7           Research  0.000000"
            ],
            "text/html": [
              "\n",
              "  <div id=\"df-c4872869-313c-4817-974d-98af850327d8\">\n",
              "    <div class=\"colab-df-container\">\n",
              "      <div>\n",
              "<style scoped>\n",
              "    .dataframe tbody tr th:only-of-type {\n",
              "        vertical-align: middle;\n",
              "    }\n",
              "\n",
              "    .dataframe tbody tr th {\n",
              "        vertical-align: top;\n",
              "    }\n",
              "\n",
              "    .dataframe thead th {\n",
              "        text-align: right;\n",
              "    }\n",
              "</style>\n",
              "<table border=\"1\" class=\"dataframe\">\n",
              "  <thead>\n",
              "    <tr style=\"text-align: right;\">\n",
              "      <th></th>\n",
              "      <th>input</th>\n",
              "      <th>IG</th>\n",
              "    </tr>\n",
              "  </thead>\n",
              "  <tbody>\n",
              "    <tr>\n",
              "      <th>6</th>\n",
              "      <td>CGPA</td>\n",
              "      <td>0.675225</td>\n",
              "    </tr>\n",
              "    <tr>\n",
              "      <th>4</th>\n",
              "      <td>SOP</td>\n",
              "      <td>0.093805</td>\n",
              "    </tr>\n",
              "    <tr>\n",
              "      <th>0</th>\n",
              "      <td>Serial No.</td>\n",
              "      <td>0.081841</td>\n",
              "    </tr>\n",
              "    <tr>\n",
              "      <th>1</th>\n",
              "      <td>GRE Score</td>\n",
              "      <td>0.075018</td>\n",
              "    </tr>\n",
              "    <tr>\n",
              "      <th>5</th>\n",
              "      <td>LOR</td>\n",
              "      <td>0.059782</td>\n",
              "    </tr>\n",
              "    <tr>\n",
              "      <th>3</th>\n",
              "      <td>University Rating</td>\n",
              "      <td>0.014328</td>\n",
              "    </tr>\n",
              "    <tr>\n",
              "      <th>2</th>\n",
              "      <td>TOEFL Score</td>\n",
              "      <td>0.000000</td>\n",
              "    </tr>\n",
              "    <tr>\n",
              "      <th>7</th>\n",
              "      <td>Research</td>\n",
              "      <td>0.000000</td>\n",
              "    </tr>\n",
              "  </tbody>\n",
              "</table>\n",
              "</div>\n",
              "      <button class=\"colab-df-convert\" onclick=\"convertToInteractive('df-c4872869-313c-4817-974d-98af850327d8')\"\n",
              "              title=\"Convert this dataframe to an interactive table.\"\n",
              "              style=\"display:none;\">\n",
              "        \n",
              "  <svg xmlns=\"http://www.w3.org/2000/svg\" height=\"24px\"viewBox=\"0 0 24 24\"\n",
              "       width=\"24px\">\n",
              "    <path d=\"M0 0h24v24H0V0z\" fill=\"none\"/>\n",
              "    <path d=\"M18.56 5.44l.94 2.06.94-2.06 2.06-.94-2.06-.94-.94-2.06-.94 2.06-2.06.94zm-11 1L8.5 8.5l.94-2.06 2.06-.94-2.06-.94L8.5 2.5l-.94 2.06-2.06.94zm10 10l.94 2.06.94-2.06 2.06-.94-2.06-.94-.94-2.06-.94 2.06-2.06.94z\"/><path d=\"M17.41 7.96l-1.37-1.37c-.4-.4-.92-.59-1.43-.59-.52 0-1.04.2-1.43.59L10.3 9.45l-7.72 7.72c-.78.78-.78 2.05 0 2.83L4 21.41c.39.39.9.59 1.41.59.51 0 1.02-.2 1.41-.59l7.78-7.78 2.81-2.81c.8-.78.8-2.07 0-2.86zM5.41 20L4 18.59l7.72-7.72 1.47 1.35L5.41 20z\"/>\n",
              "  </svg>\n",
              "      </button>\n",
              "      \n",
              "  <style>\n",
              "    .colab-df-container {\n",
              "      display:flex;\n",
              "      flex-wrap:wrap;\n",
              "      gap: 12px;\n",
              "    }\n",
              "\n",
              "    .colab-df-convert {\n",
              "      background-color: #E8F0FE;\n",
              "      border: none;\n",
              "      border-radius: 50%;\n",
              "      cursor: pointer;\n",
              "      display: none;\n",
              "      fill: #1967D2;\n",
              "      height: 32px;\n",
              "      padding: 0 0 0 0;\n",
              "      width: 32px;\n",
              "    }\n",
              "\n",
              "    .colab-df-convert:hover {\n",
              "      background-color: #E2EBFA;\n",
              "      box-shadow: 0px 1px 2px rgba(60, 64, 67, 0.3), 0px 1px 3px 1px rgba(60, 64, 67, 0.15);\n",
              "      fill: #174EA6;\n",
              "    }\n",
              "\n",
              "    [theme=dark] .colab-df-convert {\n",
              "      background-color: #3B4455;\n",
              "      fill: #D2E3FC;\n",
              "    }\n",
              "\n",
              "    [theme=dark] .colab-df-convert:hover {\n",
              "      background-color: #434B5C;\n",
              "      box-shadow: 0px 1px 3px 1px rgba(0, 0, 0, 0.15);\n",
              "      filter: drop-shadow(0px 1px 2px rgba(0, 0, 0, 0.3));\n",
              "      fill: #FFFFFF;\n",
              "    }\n",
              "  </style>\n",
              "\n",
              "      <script>\n",
              "        const buttonEl =\n",
              "          document.querySelector('#df-c4872869-313c-4817-974d-98af850327d8 button.colab-df-convert');\n",
              "        buttonEl.style.display =\n",
              "          google.colab.kernel.accessAllowed ? 'block' : 'none';\n",
              "\n",
              "        async function convertToInteractive(key) {\n",
              "          const element = document.querySelector('#df-c4872869-313c-4817-974d-98af850327d8');\n",
              "          const dataTable =\n",
              "            await google.colab.kernel.invokeFunction('convertToInteractive',\n",
              "                                                     [key], {});\n",
              "          if (!dataTable) return;\n",
              "\n",
              "          const docLinkHtml = 'Like what you see? Visit the ' +\n",
              "            '<a target=\"_blank\" href=https://colab.research.google.com/notebooks/data_table.ipynb>data table notebook</a>'\n",
              "            + ' to learn more about interactive tables.';\n",
              "          element.innerHTML = '';\n",
              "          dataTable['output_type'] = 'display_data';\n",
              "          await google.colab.output.renderOutput(dataTable, element);\n",
              "          const docLink = document.createElement('div');\n",
              "          docLink.innerHTML = docLinkHtml;\n",
              "          element.appendChild(docLink);\n",
              "        }\n",
              "      </script>\n",
              "    </div>\n",
              "  </div>\n",
              "  "
            ]
          },
          "metadata": {},
          "execution_count": 46
        }
      ],
      "source": [
        "#create dictionary\n",
        "dict={'input':X.columns,'IG':IG}\n",
        "df1=pd.DataFrame(dict)\n",
        "df1\n",
        "df1.sort_values('IG',ascending=False )#descending order according to iG"
      ]
    },
    {
      "cell_type": "code",
      "execution_count": null,
      "metadata": {
        "colab": {
          "base_uri": "https://localhost:8080/",
          "height": 1000
        },
        "id": "V4FkpO1NeyuW",
        "outputId": "7d59501c-e87b-47e9-a87c-a10c60b1027a"
      },
      "outputs": [
        {
          "output_type": "display_data",
          "data": {
            "text/plain": [
              "<Figure size 2160x2160 with 1 Axes>"
            ],
            "image/png": "[encoded data removed]"
          },
          "metadata": {
            "needs_background": "light"
          }
        }
      ],
      "source": [
        "#create the tree \n",
        "from sklearn import tree\n",
        "features=X.columns #input features\n",
        "fig=plt.figure(figsize=(30,30))\n",
        "_=tree.plot_tree(dt,feature_names=features,filled=True)"
      ]
    },
    {
      "cell_type": "markdown",
      "metadata": {
        "id": "e_oxmPD0eyuW"
      },
      "source": [
        "# pruning technique\n",
        "#max depth(reduce overfitting)\n",
        "#pruning technique\n",
        "#max_depth : - #Note : max_depth can not more than 8\n",
        "#1. max_depth parameter \n",
        "##create object of DecisionTreeClassifier class and passing the parameter\n",
        "#max_depth"
      ]
    },
    {
      "cell_type": "code",
      "execution_count": null,
      "metadata": {
        "id": "stBLpO7aeyuW"
      },
      "outputs": [],
      "source": [
        "#create objet of Decisiom TREE classifier class and passing the parameter\n",
        "#maxdepth\n",
        "\n",
        "dt1=DecisionTreeClassifier(random_state=1,max_depth=3)"
      ]
    },
    {
      "cell_type": "code",
      "execution_count": null,
      "metadata": {
        "colab": {
          "base_uri": "https://localhost:8080/"
        },
        "id": "8ywuJ2ZxeyuX",
        "outputId": "c1af7f0e-03e8-4ee2-c4d0-d1bac277fa5d"
      },
      "outputs": [
        {
          "output_type": "stream",
          "name": "stdout",
          "text": [
            "              precision    recall  f1-score   support\n",
            "\n",
            "           0       0.84      0.60      0.70       107\n",
            "           1       0.69      0.89      0.78       107\n",
            "\n",
            "    accuracy                           0.74       214\n",
            "   macro avg       0.77      0.74      0.74       214\n",
            "weighted avg       0.77      0.74      0.74       214\n",
            "\n",
            "[[64 43]\n",
            " [12 95]]\n"
          ]
        }
      ],
      "source": [
        "#call the function\n",
        "dt1=create_model(dt1)"
      ]
    },
    {
      "cell_type": "code",
      "execution_count": null,
      "metadata": {
        "id": "BCbCz0nKeyuX"
      },
      "outputs": [],
      "source": [
        "#create objet of Decisiom TREE classifier class and passing the parameter\n",
        "#maxdepth\n",
        "\n",
        "dt2=DecisionTreeClassifier(random_state=1,max_depth=6)"
      ]
    },
    {
      "cell_type": "code",
      "execution_count": null,
      "metadata": {
        "colab": {
          "base_uri": "https://localhost:8080/"
        },
        "id": "W-rXgbYXeyuX",
        "outputId": "3c3e920b-7fcd-4a3f-8803-0a86aedd1f78"
      },
      "outputs": [
        {
          "output_type": "stream",
          "name": "stdout",
          "text": [
            "              precision    recall  f1-score   support\n",
            "\n",
            "           0       0.82      0.34      0.48       107\n",
            "           1       0.58      0.93      0.71       107\n",
            "\n",
            "    accuracy                           0.63       214\n",
            "   macro avg       0.70      0.63      0.60       214\n",
            "weighted avg       0.70      0.63      0.60       214\n",
            "\n",
            "[[36 71]\n",
            " [ 8 99]]\n"
          ]
        }
      ],
      "source": [
        "#call the function\n",
        "dt2=create_model(dt2)"
      ]
    },
    {
      "cell_type": "code",
      "execution_count": null,
      "metadata": {
        "colab": {
          "base_uri": "https://localhost:8080/",
          "height": 1000
        },
        "id": "fJv32n_zeyuY",
        "outputId": "94b5da29-351c-413e-f53e-94c98fd64d7c"
      },
      "outputs": [
        {
          "output_type": "display_data",
          "data": {
            "text/plain": [
              "<Figure size 2160x2160 with 1 Axes>"
            ],
            "image/png": "[encoded data removed]"
          },
          "metadata": {
            "needs_background": "light"
          }
        }
      ],
      "source": [
        "#create the tree \n",
        "from sklearn import tree\n",
        "features=X.columns #input features\n",
        "fig=plt.figure(figsize=(30,30))\n",
        "_=tree.plot_tree(dt1,feature_names=features,filled=True)"
      ]
    },
    {
      "cell_type": "code",
      "execution_count": null,
      "metadata": {
        "colab": {
          "base_uri": "https://localhost:8080/",
          "height": 206
        },
        "id": "oZl_Qr3teyuY",
        "outputId": "0d3bd77f-de6a-403e-db9f-c0f204c5a0f8"
      },
      "outputs": [
        {
          "output_type": "execute_result",
          "data": {
            "text/plain": [
              "               Input        IG\n",
              "0         Serial No.  0.072514\n",
              "1          GRE Score  0.086709\n",
              "2        TOEFL Score  0.000000\n",
              "3  University Rating  0.000000\n",
              "4                SOP  0.000000"
            ],
            "text/html": [
              "\n",
              "  <div id=\"df-adf46e4a-72df-4dc9-9cd1-63defdc5faf9\">\n",
              "    <div class=\"colab-df-container\">\n",
              "      <div>\n",
              "<style scoped>\n",
              "    .dataframe tbody tr th:only-of-type {\n",
              "        vertical-align: middle;\n",
              "    }\n",
              "\n",
              "    .dataframe tbody tr th {\n",
              "        vertical-align: top;\n",
              "    }\n",
              "\n",
              "    .dataframe thead th {\n",
              "        text-align: right;\n",
              "    }\n",
              "</style>\n",
              "<table border=\"1\" class=\"dataframe\">\n",
              "  <thead>\n",
              "    <tr style=\"text-align: right;\">\n",
              "      <th></th>\n",
              "      <th>Input</th>\n",
              "      <th>IG</th>\n",
              "    </tr>\n",
              "  </thead>\n",
              "  <tbody>\n",
              "    <tr>\n",
              "      <th>0</th>\n",
              "      <td>Serial No.</td>\n",
              "      <td>0.072514</td>\n",
              "    </tr>\n",
              "    <tr>\n",
              "      <th>1</th>\n",
              "      <td>GRE Score</td>\n",
              "      <td>0.086709</td>\n",
              "    </tr>\n",
              "    <tr>\n",
              "      <th>2</th>\n",
              "      <td>TOEFL Score</td>\n",
              "      <td>0.000000</td>\n",
              "    </tr>\n",
              "    <tr>\n",
              "      <th>3</th>\n",
              "      <td>University Rating</td>\n",
              "      <td>0.000000</td>\n",
              "    </tr>\n",
              "    <tr>\n",
              "      <th>4</th>\n",
              "      <td>SOP</td>\n",
              "      <td>0.000000</td>\n",
              "    </tr>\n",
              "  </tbody>\n",
              "</table>\n",
              "</div>\n",
              "      <button class=\"colab-df-convert\" onclick=\"convertToInteractive('df-adf46e4a-72df-4dc9-9cd1-63defdc5faf9')\"\n",
              "              title=\"Convert this dataframe to an interactive table.\"\n",
              "              style=\"display:none;\">\n",
              "        \n",
              "  <svg xmlns=\"http://www.w3.org/2000/svg\" height=\"24px\"viewBox=\"0 0 24 24\"\n",
              "       width=\"24px\">\n",
              "    <path d=\"M0 0h24v24H0V0z\" fill=\"none\"/>\n",
              "    <path d=\"M18.56 5.44l.94 2.06.94-2.06 2.06-.94-2.06-.94-.94-2.06-.94 2.06-2.06.94zm-11 1L8.5 8.5l.94-2.06 2.06-.94-2.06-.94L8.5 2.5l-.94 2.06-2.06.94zm10 10l.94 2.06.94-2.06 2.06-.94-2.06-.94-.94-2.06-.94 2.06-2.06.94z\"/><path d=\"M17.41 7.96l-1.37-1.37c-.4-.4-.92-.59-1.43-.59-.52 0-1.04.2-1.43.59L10.3 9.45l-7.72 7.72c-.78.78-.78 2.05 0 2.83L4 21.41c.39.39.9.59 1.41.59.51 0 1.02-.2 1.41-.59l7.78-7.78 2.81-2.81c.8-.78.8-2.07 0-2.86zM5.41 20L4 18.59l7.72-7.72 1.47 1.35L5.41 20z\"/>\n",
              "  </svg>\n",
              "      </button>\n",
              "      \n",
              "  <style>\n",
              "    .colab-df-container {\n",
              "      display:flex;\n",
              "      flex-wrap:wrap;\n",
              "      gap: 12px;\n",
              "    }\n",
              "\n",
              "    .colab-df-convert {\n",
              "      background-color: #E8F0FE;\n",
              "      border: none;\n",
              "      border-radius: 50%;\n",
              "      cursor: pointer;\n",
              "      display: none;\n",
              "      fill: #1967D2;\n",
              "      height: 32px;\n",
              "      padding: 0 0 0 0;\n",
              "      width: 32px;\n",
              "    }\n",
              "\n",
              "    .colab-df-convert:hover {\n",
              "      background-color: #E2EBFA;\n",
              "      box-shadow: 0px 1px 2px rgba(60, 64, 67, 0.3), 0px 1px 3px 1px rgba(60, 64, 67, 0.15);\n",
              "      fill: #174EA6;\n",
              "    }\n",
              "\n",
              "    [theme=dark] .colab-df-convert {\n",
              "      background-color: #3B4455;\n",
              "      fill: #D2E3FC;\n",
              "    }\n",
              "\n",
              "    [theme=dark] .colab-df-convert:hover {\n",
              "      background-color: #434B5C;\n",
              "      box-shadow: 0px 1px 3px 1px rgba(0, 0, 0, 0.15);\n",
              "      filter: drop-shadow(0px 1px 2px rgba(0, 0, 0, 0.3));\n",
              "      fill: #FFFFFF;\n",
              "    }\n",
              "  </style>\n",
              "\n",
              "      <script>\n",
              "        const buttonEl =\n",
              "          document.querySelector('#df-adf46e4a-72df-4dc9-9cd1-63defdc5faf9 button.colab-df-convert');\n",
              "        buttonEl.style.display =\n",
              "          google.colab.kernel.accessAllowed ? 'block' : 'none';\n",
              "\n",
              "        async function convertToInteractive(key) {\n",
              "          const element = document.querySelector('#df-adf46e4a-72df-4dc9-9cd1-63defdc5faf9');\n",
              "          const dataTable =\n",
              "            await google.colab.kernel.invokeFunction('convertToInteractive',\n",
              "                                                     [key], {});\n",
              "          if (!dataTable) return;\n",
              "\n",
              "          const docLinkHtml = 'Like what you see? Visit the ' +\n",
              "            '<a target=\"_blank\" href=https://colab.research.google.com/notebooks/data_table.ipynb>data table notebook</a>'\n",
              "            + ' to learn more about interactive tables.';\n",
              "          element.innerHTML = '';\n",
              "          dataTable['output_type'] = 'display_data';\n",
              "          await google.colab.output.renderOutput(dataTable, element);\n",
              "          const docLink = document.createElement('div');\n",
              "          docLink.innerHTML = docLinkHtml;\n",
              "          element.appendChild(docLink);\n",
              "        }\n",
              "      </script>\n",
              "    </div>\n",
              "  </div>\n",
              "  "
            ]
          },
          "metadata": {},
          "execution_count": 53
        }
      ],
      "source": [
        "#create a dictrony IG information gain \n",
        "IG=dt1.feature_importances_\n",
        "dict={'Input':X.columns,'IG':IG} \n",
        "df1=pd.DataFrame(dict)\n",
        "df1.sort_values('IG',ascending=False) #decending order according to IG\n",
        "df1.head()"
      ]
    },
    {
      "cell_type": "markdown",
      "metadata": {
        "id": "oFEF25RreyuY"
      },
      "source": [
        "# 2nd purning technique : min_samples_leaf\n",
        "#min_samples_leaf =45 or more means not less than=45 and max=100\n",
        "##create object of DecisionTreeClassifier class\n",
        "#leaf node means no child"
      ]
    },
    {
      "cell_type": "code",
      "execution_count": null,
      "metadata": {
        "colab": {
          "base_uri": "https://localhost:8080/",
          "height": 54
        },
        "id": "wSAeILyLeyuZ",
        "outputId": "f174b34b-c8fb-4d1d-ee6e-147326f617c0"
      },
      "outputs": [
        {
          "output_type": "execute_result",
          "data": {
            "text/plain": [
              "\"\\nfor i in range(45,100,5):\\n  print('Min Sample Leaf:-',i)\\n  dt2=DecisionTreeClassifier(random_state=1,min_samples_leaf=i) #by default gini\\n  #call function\\n  dt2=create_model(dt2)\\n\""
            ],
            "application/vnd.google.colaboratory.intrinsic+json": {
              "type": "string"
            }
          },
          "metadata": {},
          "execution_count": 55
        }
      ],
      "source": [
        "'''\n",
        "for i in range(45,100,5):\n",
        "  print('Min Sample Leaf:-',i)\n",
        "  dt2=DecisionTreeClassifier(random_state=1,min_samples_leaf=i) #by default gini\n",
        "  #call function\n",
        "  dt2=create_model(dt2)\n",
        "'''"
      ]
    },
    {
      "cell_type": "code",
      "execution_count": null,
      "metadata": {
        "colab": {
          "base_uri": "https://localhost:8080/"
        },
        "id": "RBA-4emceyuZ",
        "outputId": "c50e3c89-7442-4514-d8e1-68119053380d"
      },
      "outputs": [
        {
          "output_type": "stream",
          "name": "stdout",
          "text": [
            "              precision    recall  f1-score   support\n",
            "\n",
            "           0       0.84      0.73      0.78       107\n",
            "           1       0.76      0.86      0.81       107\n",
            "\n",
            "    accuracy                           0.79       214\n",
            "   macro avg       0.80      0.79      0.79       214\n",
            "weighted avg       0.80      0.79      0.79       214\n",
            "\n",
            "[[78 29]\n",
            " [15 92]]\n"
          ]
        }
      ],
      "source": [
        "dt2=DecisionTreeClassifier(random_state=1,min_samples_leaf=45) #by default gini\n",
        "#call function\n",
        "dt2=create_model(dt2)"
      ]
    },
    {
      "cell_type": "code",
      "execution_count": null,
      "metadata": {
        "colab": {
          "base_uri": "https://localhost:8080/",
          "height": 54
        },
        "id": "cX58anZ2eyuZ",
        "outputId": "a441d023-6203-4905-f7c7-15e80c7f608b"
      },
      "outputs": [
        {
          "output_type": "execute_result",
          "data": {
            "text/plain": [
              "\"for i in range(45,100,5):\\n  print('Min Sample Leaf:-',i)\\n  dt2=DecisionTreeClassifier(random_state=1,min_samples_leaf=i,criterion='entropy') \\n  #change to entropy\\n  #call function\\n  dt2=create_model(dt2)\\n\""
            ],
            "application/vnd.google.colaboratory.intrinsic+json": {
              "type": "string"
            }
          },
          "metadata": {},
          "execution_count": 57
        }
      ],
      "source": [
        "'''for i in range(45,100,5):\n",
        "  print('Min Sample Leaf:-',i)\n",
        "  dt2=DecisionTreeClassifier(random_state=1,min_samples_leaf=i,criterion='entropy') \n",
        "  #change to entropy\n",
        "  #call function\n",
        "  dt2=create_model(dt2)\n",
        "'''"
      ]
    },
    {
      "cell_type": "code",
      "execution_count": null,
      "metadata": {
        "colab": {
          "base_uri": "https://localhost:8080/"
        },
        "id": "2lcjzejkeyua",
        "outputId": "1af9cb72-bef5-4ec1-b571-1bd2cfcf4e88"
      },
      "outputs": [
        {
          "output_type": "stream",
          "name": "stdout",
          "text": [
            "              precision    recall  f1-score   support\n",
            "\n",
            "           0       0.84      0.73      0.78       107\n",
            "           1       0.76      0.86      0.81       107\n",
            "\n",
            "    accuracy                           0.79       214\n",
            "   macro avg       0.80      0.79      0.79       214\n",
            "weighted avg       0.80      0.79      0.79       214\n",
            "\n",
            "[[78 29]\n",
            " [15 92]]\n"
          ]
        }
      ],
      "source": [
        "dt2=DecisionTreeClassifier(random_state=1,min_samples_leaf=70,criterion='entropy') \n",
        "#change to entropy\n",
        "#call function\n",
        "dt2=create_model(dt2)"
      ]
    },
    {
      "cell_type": "markdown",
      "metadata": {
        "id": "IoDLZZDreyua"
      },
      "source": [
        "# use Ensembling Technique \n",
        "#RandomForestTree\n",
        "'''\n",
        "Train the dataset on multiple decisiontreeclassifier \n",
        "algorithm \n",
        "'''\n",
        "#Random Forest Tree \n",
        "#call Random Forest Tree from package\n",
        "\n",
        "#ensemble means to train the same dataset from\n",
        "#multiple algorithm"
      ]
    },
    {
      "cell_type": "markdown",
      "metadata": {
        "id": "-je20sLXeyua"
      },
      "source": [
        "# RandomForestTree"
      ]
    },
    {
      "cell_type": "code",
      "execution_count": null,
      "metadata": {
        "id": "CishyxRAeyub"
      },
      "outputs": [],
      "source": [
        "from sklearn.ensemble import RandomForestClassifier"
      ]
    },
    {
      "cell_type": "code",
      "execution_count": null,
      "metadata": {
        "colab": {
          "base_uri": "https://localhost:8080/"
        },
        "id": "JsQ0mOz_eyub",
        "outputId": "b8d81752-3aa5-45bf-a9e6-7b33fb207347"
      },
      "outputs": [
        {
          "output_type": "execute_result",
          "data": {
            "text/plain": [
              "(400, 8)"
            ]
          },
          "metadata": {},
          "execution_count": 60
        }
      ],
      "source": [
        "X.shape"
      ]
    },
    {
      "cell_type": "code",
      "execution_count": null,
      "metadata": {
        "colab": {
          "base_uri": "https://localhost:8080/",
          "height": 72
        },
        "id": "-4R3mc1oeyub",
        "outputId": "be975c0a-fd65-4003-8229-6053edd0493e"
      },
      "outputs": [
        {
          "output_type": "execute_result",
          "data": {
            "text/plain": [
              "\"for i in range(10,101):\\n  rfc=RandomForestClassifier(n_estimators=i,random_state=1)\\n  #here n_estimators means take how many no. of decisiontree 10 to 100\\n  #max_features means take how many input\\n  #bydefault gini\\n  #call function\\n  \\n  print('no n_estimators :-',i)\\n  rfc=create_model(rfc)\\n  #odd no. means hard voting\\n  #even means soft voting\\n\""
            ],
            "application/vnd.google.colaboratory.intrinsic+json": {
              "type": "string"
            }
          },
          "metadata": {},
          "execution_count": 63
        }
      ],
      "source": [
        "#create object of RandomForestClassifier tree\n",
        "#decision tree is understood by RandomForestClassifier by default algo\n",
        "'''for i in range(10,101):\n",
        "  rfc=RandomForestClassifier(n_estimators=i,random_state=1)\n",
        "  #here n_estimators means take how many no. of decisiontree 10 to 100\n",
        "  #max_features means take how many input\n",
        "  #bydefault gini\n",
        "  #call function\n",
        "  \n",
        "  print('no n_estimators :-',i)\n",
        "  rfc=create_model(rfc)\n",
        "  #odd no. means hard voting\n",
        "  #even means soft voting\n",
        "'''"
      ]
    },
    {
      "cell_type": "code",
      "execution_count": null,
      "metadata": {
        "colab": {
          "base_uri": "https://localhost:8080/"
        },
        "id": "5cnis-g_eyuc",
        "outputId": "05504e88-2bff-43be-89cd-e7ee10fe93fd"
      },
      "outputs": [
        {
          "output_type": "stream",
          "name": "stdout",
          "text": [
            "              precision    recall  f1-score   support\n",
            "\n",
            "           0       0.90      0.40      0.55       107\n",
            "           1       0.61      0.95      0.75       107\n",
            "\n",
            "    accuracy                           0.68       214\n",
            "   macro avg       0.76      0.68      0.65       214\n",
            "weighted avg       0.76      0.68      0.65       214\n",
            "\n",
            "[[ 43  64]\n",
            " [  5 102]]\n"
          ]
        }
      ],
      "source": [
        "rfc=RandomForestClassifier(n_estimators=11,max_features=5,random_state=1)\n",
        "rfc=create_model(rfc)"
      ]
    },
    {
      "cell_type": "code",
      "execution_count": null,
      "metadata": {
        "colab": {
          "base_uri": "https://localhost:8080/"
        },
        "id": "rsyTm4MVeyuc",
        "outputId": "3ab9f364-b7b8-476a-f771-24281e49e757"
      },
      "outputs": [
        {
          "output_type": "stream",
          "name": "stdout",
          "text": [
            "              precision    recall  f1-score   support\n",
            "\n",
            "           0       0.89      0.52      0.66       107\n",
            "           1       0.66      0.93      0.78       107\n",
            "\n",
            "    accuracy                           0.73       214\n",
            "   macro avg       0.78      0.73      0.72       214\n",
            "weighted avg       0.78      0.73      0.72       214\n",
            "\n",
            "[[ 56  51]\n",
            " [  7 100]]\n"
          ]
        }
      ],
      "source": [
        "rfc=RandomForestClassifier(n_estimators=11,max_features=5,random_state=1,criterion='entropy')\n",
        "rfc=create_model(rfc)"
      ]
    },
    {
      "cell_type": "markdown",
      "metadata": {
        "id": "WUGyY2JUeyud"
      },
      "source": [
        "# Boosting Tech = 1. Gradient Boost technuique"
      ]
    },
    {
      "cell_type": "code",
      "execution_count": null,
      "metadata": {
        "id": "xB-zTs7Peyud"
      },
      "outputs": [],
      "source": [
        "#Boosting Technique  : it is also Ensembling tech .\n",
        "#1. gradient Boost technuique : second tech. of Boosting Ensembling technique \n",
        "# GB  : - its create a fully grown tree.this algorithm is focus on short comings \n",
        "#short comings means error"
      ]
    },
    {
      "cell_type": "code",
      "execution_count": null,
      "metadata": {
        "id": "1opzKMmreyud"
      },
      "outputs": [],
      "source": [
        "# Call GradientBoostingClassifier class from following package.\n",
        "from sklearn.ensemble import GradientBoostingClassifier"
      ]
    },
    {
      "cell_type": "code",
      "execution_count": null,
      "metadata": {
        "colab": {
          "base_uri": "https://localhost:8080/"
        },
        "id": "fQtaE8Cieyuf",
        "outputId": "62e63fb8-1906-4dfe-92b0-cbd16cb2a242"
      },
      "outputs": [
        {
          "output_type": "stream",
          "name": "stdout",
          "text": [
            "No of Decision Tree :  1\n",
            "              precision    recall  f1-score   support\n",
            "\n",
            "           0       0.84      0.60      0.70       107\n",
            "           1       0.69      0.89      0.78       107\n",
            "\n",
            "    accuracy                           0.74       214\n",
            "   macro avg       0.77      0.74      0.74       214\n",
            "weighted avg       0.77      0.74      0.74       214\n",
            "\n",
            "[[64 43]\n",
            " [12 95]]\n",
            "No of Decision Tree :  2\n",
            "              precision    recall  f1-score   support\n",
            "\n",
            "           0       0.83      0.41      0.55       107\n",
            "           1       0.61      0.92      0.73       107\n",
            "\n",
            "    accuracy                           0.66       214\n",
            "   macro avg       0.72      0.66      0.64       214\n",
            "weighted avg       0.72      0.66      0.64       214\n",
            "\n",
            "[[44 63]\n",
            " [ 9 98]]\n",
            "No of Decision Tree :  3\n",
            "              precision    recall  f1-score   support\n",
            "\n",
            "           0       0.86      0.66      0.75       107\n",
            "           1       0.73      0.89      0.80       107\n",
            "\n",
            "    accuracy                           0.78       214\n",
            "   macro avg       0.79      0.78      0.77       214\n",
            "weighted avg       0.79      0.78      0.77       214\n",
            "\n",
            "[[71 36]\n",
            " [12 95]]\n",
            "No of Decision Tree :  4\n",
            "              precision    recall  f1-score   support\n",
            "\n",
            "           0       0.87      0.66      0.75       107\n",
            "           1       0.73      0.90      0.80       107\n",
            "\n",
            "    accuracy                           0.78       214\n",
            "   macro avg       0.80      0.78      0.78       214\n",
            "weighted avg       0.80      0.78      0.78       214\n",
            "\n",
            "[[71 36]\n",
            " [11 96]]\n",
            "No of Decision Tree :  5\n",
            "              precision    recall  f1-score   support\n",
            "\n",
            "           0       0.86      0.66      0.75       107\n",
            "           1       0.73      0.89      0.80       107\n",
            "\n",
            "    accuracy                           0.78       214\n",
            "   macro avg       0.79      0.78      0.77       214\n",
            "weighted avg       0.79      0.78      0.77       214\n",
            "\n",
            "[[71 36]\n",
            " [12 95]]\n",
            "No of Decision Tree :  6\n",
            "              precision    recall  f1-score   support\n",
            "\n",
            "           0       0.86      0.66      0.75       107\n",
            "           1       0.73      0.89      0.80       107\n",
            "\n",
            "    accuracy                           0.78       214\n",
            "   macro avg       0.79      0.78      0.77       214\n",
            "weighted avg       0.79      0.78      0.77       214\n",
            "\n",
            "[[71 36]\n",
            " [12 95]]\n",
            "No of Decision Tree :  7\n",
            "              precision    recall  f1-score   support\n",
            "\n",
            "           0       0.86      0.66      0.75       107\n",
            "           1       0.73      0.89      0.80       107\n",
            "\n",
            "    accuracy                           0.78       214\n",
            "   macro avg       0.79      0.78      0.77       214\n",
            "weighted avg       0.79      0.78      0.77       214\n",
            "\n",
            "[[71 36]\n",
            " [12 95]]\n",
            "No of Decision Tree :  8\n",
            "              precision    recall  f1-score   support\n",
            "\n",
            "           0       0.86      0.66      0.75       107\n",
            "           1       0.73      0.89      0.80       107\n",
            "\n",
            "    accuracy                           0.78       214\n",
            "   macro avg       0.79      0.78      0.77       214\n",
            "weighted avg       0.79      0.78      0.77       214\n",
            "\n",
            "[[71 36]\n",
            " [12 95]]\n",
            "No of Decision Tree :  9\n",
            "              precision    recall  f1-score   support\n",
            "\n",
            "           0       0.86      0.66      0.75       107\n",
            "           1       0.73      0.89      0.80       107\n",
            "\n",
            "    accuracy                           0.78       214\n",
            "   macro avg       0.79      0.78      0.77       214\n",
            "weighted avg       0.79      0.78      0.77       214\n",
            "\n",
            "[[71 36]\n",
            " [12 95]]\n",
            "No of Decision Tree :  10\n",
            "              precision    recall  f1-score   support\n",
            "\n",
            "           0       0.87      0.66      0.75       107\n",
            "           1       0.73      0.90      0.80       107\n",
            "\n",
            "    accuracy                           0.78       214\n",
            "   macro avg       0.80      0.78      0.78       214\n",
            "weighted avg       0.80      0.78      0.78       214\n",
            "\n",
            "[[71 36]\n",
            " [11 96]]\n",
            "No of Decision Tree :  11\n",
            "              precision    recall  f1-score   support\n",
            "\n",
            "           0       0.87      0.66      0.75       107\n",
            "           1       0.73      0.90      0.80       107\n",
            "\n",
            "    accuracy                           0.78       214\n",
            "   macro avg       0.80      0.78      0.78       214\n",
            "weighted avg       0.80      0.78      0.78       214\n",
            "\n",
            "[[71 36]\n",
            " [11 96]]\n",
            "No of Decision Tree :  12\n",
            "              precision    recall  f1-score   support\n",
            "\n",
            "           0       0.87      0.66      0.75       107\n",
            "           1       0.73      0.90      0.80       107\n",
            "\n",
            "    accuracy                           0.78       214\n",
            "   macro avg       0.80      0.78      0.78       214\n",
            "weighted avg       0.80      0.78      0.78       214\n",
            "\n",
            "[[71 36]\n",
            " [11 96]]\n",
            "No of Decision Tree :  13\n",
            "              precision    recall  f1-score   support\n",
            "\n",
            "           0       0.90      0.74      0.81       107\n",
            "           1       0.78      0.92      0.84       107\n",
            "\n",
            "    accuracy                           0.83       214\n",
            "   macro avg       0.84      0.83      0.83       214\n",
            "weighted avg       0.84      0.83      0.83       214\n",
            "\n",
            "[[79 28]\n",
            " [ 9 98]]\n",
            "No of Decision Tree :  14\n",
            "              precision    recall  f1-score   support\n",
            "\n",
            "           0       0.91      0.74      0.81       107\n",
            "           1       0.78      0.93      0.85       107\n",
            "\n",
            "    accuracy                           0.83       214\n",
            "   macro avg       0.84      0.83      0.83       214\n",
            "weighted avg       0.84      0.83      0.83       214\n",
            "\n",
            "[[79 28]\n",
            " [ 8 99]]\n",
            "No of Decision Tree :  15\n",
            "              precision    recall  f1-score   support\n",
            "\n",
            "           0       0.90      0.74      0.81       107\n",
            "           1       0.78      0.92      0.84       107\n",
            "\n",
            "    accuracy                           0.83       214\n",
            "   macro avg       0.84      0.83      0.83       214\n",
            "weighted avg       0.84      0.83      0.83       214\n",
            "\n",
            "[[79 28]\n",
            " [ 9 98]]\n",
            "No of Decision Tree :  16\n",
            "              precision    recall  f1-score   support\n",
            "\n",
            "           0       0.90      0.74      0.81       107\n",
            "           1       0.78      0.92      0.84       107\n",
            "\n",
            "    accuracy                           0.83       214\n",
            "   macro avg       0.84      0.83      0.83       214\n",
            "weighted avg       0.84      0.83      0.83       214\n",
            "\n",
            "[[79 28]\n",
            " [ 9 98]]\n",
            "No of Decision Tree :  17\n",
            "              precision    recall  f1-score   support\n",
            "\n",
            "           0       0.90      0.74      0.81       107\n",
            "           1       0.78      0.92      0.84       107\n",
            "\n",
            "    accuracy                           0.83       214\n",
            "   macro avg       0.84      0.83      0.83       214\n",
            "weighted avg       0.84      0.83      0.83       214\n",
            "\n",
            "[[79 28]\n",
            " [ 9 98]]\n",
            "No of Decision Tree :  18\n",
            "              precision    recall  f1-score   support\n",
            "\n",
            "           0       0.90      0.74      0.81       107\n",
            "           1       0.78      0.92      0.84       107\n",
            "\n",
            "    accuracy                           0.83       214\n",
            "   macro avg       0.84      0.83      0.83       214\n",
            "weighted avg       0.84      0.83      0.83       214\n",
            "\n",
            "[[79 28]\n",
            " [ 9 98]]\n",
            "No of Decision Tree :  19\n",
            "              precision    recall  f1-score   support\n",
            "\n",
            "           0       0.90      0.74      0.81       107\n",
            "           1       0.78      0.92      0.84       107\n",
            "\n",
            "    accuracy                           0.83       214\n",
            "   macro avg       0.84      0.83      0.83       214\n",
            "weighted avg       0.84      0.83      0.83       214\n",
            "\n",
            "[[79 28]\n",
            " [ 9 98]]\n",
            "No of Decision Tree :  20\n",
            "              precision    recall  f1-score   support\n",
            "\n",
            "           0       0.90      0.74      0.81       107\n",
            "           1       0.78      0.92      0.84       107\n",
            "\n",
            "    accuracy                           0.83       214\n",
            "   macro avg       0.84      0.83      0.83       214\n",
            "weighted avg       0.84      0.83      0.83       214\n",
            "\n",
            "[[79 28]\n",
            " [ 9 98]]\n",
            "No of Decision Tree :  21\n",
            "              precision    recall  f1-score   support\n",
            "\n",
            "           0       0.90      0.74      0.81       107\n",
            "           1       0.78      0.92      0.84       107\n",
            "\n",
            "    accuracy                           0.83       214\n",
            "   macro avg       0.84      0.83      0.83       214\n",
            "weighted avg       0.84      0.83      0.83       214\n",
            "\n",
            "[[79 28]\n",
            " [ 9 98]]\n",
            "No of Decision Tree :  22\n",
            "              precision    recall  f1-score   support\n",
            "\n",
            "           0       0.90      0.74      0.81       107\n",
            "           1       0.78      0.92      0.84       107\n",
            "\n",
            "    accuracy                           0.83       214\n",
            "   macro avg       0.84      0.83      0.83       214\n",
            "weighted avg       0.84      0.83      0.83       214\n",
            "\n",
            "[[79 28]\n",
            " [ 9 98]]\n",
            "No of Decision Tree :  23\n",
            "              precision    recall  f1-score   support\n",
            "\n",
            "           0       0.90      0.74      0.81       107\n",
            "           1       0.78      0.92      0.84       107\n",
            "\n",
            "    accuracy                           0.83       214\n",
            "   macro avg       0.84      0.83      0.83       214\n",
            "weighted avg       0.84      0.83      0.83       214\n",
            "\n",
            "[[79 28]\n",
            " [ 9 98]]\n",
            "No of Decision Tree :  24\n",
            "              precision    recall  f1-score   support\n",
            "\n",
            "           0       0.91      0.74      0.81       107\n",
            "           1       0.78      0.93      0.85       107\n",
            "\n",
            "    accuracy                           0.83       214\n",
            "   macro avg       0.84      0.83      0.83       214\n",
            "weighted avg       0.84      0.83      0.83       214\n",
            "\n",
            "[[79 28]\n",
            " [ 8 99]]\n",
            "No of Decision Tree :  25\n",
            "              precision    recall  f1-score   support\n",
            "\n",
            "           0       0.91      0.74      0.81       107\n",
            "           1       0.78      0.93      0.85       107\n",
            "\n",
            "    accuracy                           0.83       214\n",
            "   macro avg       0.84      0.83      0.83       214\n",
            "weighted avg       0.84      0.83      0.83       214\n",
            "\n",
            "[[79 28]\n",
            " [ 8 99]]\n",
            "No of Decision Tree :  26\n",
            "              precision    recall  f1-score   support\n",
            "\n",
            "           0       0.90      0.68      0.78       107\n",
            "           1       0.74      0.93      0.83       107\n",
            "\n",
            "    accuracy                           0.80       214\n",
            "   macro avg       0.82      0.80      0.80       214\n",
            "weighted avg       0.82      0.80      0.80       214\n",
            "\n",
            "[[73 34]\n",
            " [ 8 99]]\n",
            "No of Decision Tree :  27\n",
            "              precision    recall  f1-score   support\n",
            "\n",
            "           0       0.89      0.61      0.72       107\n",
            "           1       0.70      0.93      0.80       107\n",
            "\n",
            "    accuracy                           0.77       214\n",
            "   macro avg       0.80      0.77      0.76       214\n",
            "weighted avg       0.80      0.77      0.76       214\n",
            "\n",
            "[[65 42]\n",
            " [ 8 99]]\n",
            "No of Decision Tree :  28\n",
            "              precision    recall  f1-score   support\n",
            "\n",
            "           0       0.89      0.61      0.72       107\n",
            "           1       0.70      0.93      0.80       107\n",
            "\n",
            "    accuracy                           0.77       214\n",
            "   macro avg       0.80      0.77      0.76       214\n",
            "weighted avg       0.80      0.77      0.76       214\n",
            "\n",
            "[[65 42]\n",
            " [ 8 99]]\n",
            "No of Decision Tree :  29\n",
            "              precision    recall  f1-score   support\n",
            "\n",
            "           0       0.89      0.62      0.73       107\n",
            "           1       0.71      0.93      0.80       107\n",
            "\n",
            "    accuracy                           0.77       214\n",
            "   macro avg       0.80      0.77      0.77       214\n",
            "weighted avg       0.80      0.77      0.77       214\n",
            "\n",
            "[[66 41]\n",
            " [ 8 99]]\n",
            "No of Decision Tree :  30\n",
            "              precision    recall  f1-score   support\n",
            "\n",
            "           0       0.88      0.54      0.67       107\n",
            "           1       0.67      0.93      0.78       107\n",
            "\n",
            "    accuracy                           0.73       214\n",
            "   macro avg       0.77      0.73      0.72       214\n",
            "weighted avg       0.77      0.73      0.72       214\n",
            "\n",
            "[[58 49]\n",
            " [ 8 99]]\n",
            "No of Decision Tree :  31\n",
            "              precision    recall  f1-score   support\n",
            "\n",
            "           0       0.86      0.47      0.61       107\n",
            "           1       0.63      0.93      0.75       107\n",
            "\n",
            "    accuracy                           0.70       214\n",
            "   macro avg       0.75      0.70      0.68       214\n",
            "weighted avg       0.75      0.70      0.68       214\n",
            "\n",
            "[[50 57]\n",
            " [ 8 99]]\n",
            "No of Decision Tree :  32\n",
            "              precision    recall  f1-score   support\n",
            "\n",
            "           0       0.88      0.54      0.67       107\n",
            "           1       0.67      0.93      0.78       107\n",
            "\n",
            "    accuracy                           0.73       214\n",
            "   macro avg       0.77      0.73      0.72       214\n",
            "weighted avg       0.77      0.73      0.72       214\n",
            "\n",
            "[[58 49]\n",
            " [ 8 99]]\n",
            "No of Decision Tree :  33\n",
            "              precision    recall  f1-score   support\n",
            "\n",
            "           0       0.86      0.47      0.61       107\n",
            "           1       0.63      0.93      0.75       107\n",
            "\n",
            "    accuracy                           0.70       214\n",
            "   macro avg       0.75      0.70      0.68       214\n",
            "weighted avg       0.75      0.70      0.68       214\n",
            "\n",
            "[[50 57]\n",
            " [ 8 99]]\n",
            "No of Decision Tree :  34\n",
            "              precision    recall  f1-score   support\n",
            "\n",
            "           0       0.89      0.53      0.67       107\n",
            "           1       0.67      0.93      0.78       107\n",
            "\n",
            "    accuracy                           0.73       214\n",
            "   macro avg       0.78      0.73      0.72       214\n",
            "weighted avg       0.78      0.73      0.72       214\n",
            "\n",
            "[[ 57  50]\n",
            " [  7 100]]\n",
            "No of Decision Tree :  35\n",
            "              precision    recall  f1-score   support\n",
            "\n",
            "           0       0.89      0.53      0.67       107\n",
            "           1       0.67      0.93      0.78       107\n",
            "\n",
            "    accuracy                           0.73       214\n",
            "   macro avg       0.78      0.73      0.72       214\n",
            "weighted avg       0.78      0.73      0.72       214\n",
            "\n",
            "[[ 57  50]\n",
            " [  7 100]]\n",
            "No of Decision Tree :  36\n",
            "              precision    recall  f1-score   support\n",
            "\n",
            "           0       0.89      0.53      0.67       107\n",
            "           1       0.67      0.93      0.78       107\n",
            "\n",
            "    accuracy                           0.73       214\n",
            "   macro avg       0.78      0.73      0.72       214\n",
            "weighted avg       0.78      0.73      0.72       214\n",
            "\n",
            "[[ 57  50]\n",
            " [  7 100]]\n",
            "No of Decision Tree :  37\n",
            "              precision    recall  f1-score   support\n",
            "\n",
            "           0       0.90      0.61      0.73       107\n",
            "           1       0.70      0.93      0.80       107\n",
            "\n",
            "    accuracy                           0.77       214\n",
            "   macro avg       0.80      0.77      0.76       214\n",
            "weighted avg       0.80      0.77      0.76       214\n",
            "\n",
            "[[ 65  42]\n",
            " [  7 100]]\n",
            "No of Decision Tree :  38\n",
            "              precision    recall  f1-score   support\n",
            "\n",
            "           0       0.90      0.61      0.73       107\n",
            "           1       0.70      0.93      0.80       107\n",
            "\n",
            "    accuracy                           0.77       214\n",
            "   macro avg       0.80      0.77      0.76       214\n",
            "weighted avg       0.80      0.77      0.76       214\n",
            "\n",
            "[[ 65  42]\n",
            " [  7 100]]\n",
            "No of Decision Tree :  39\n",
            "              precision    recall  f1-score   support\n",
            "\n",
            "           0       0.90      0.61      0.73       107\n",
            "           1       0.70      0.93      0.80       107\n",
            "\n",
            "    accuracy                           0.77       214\n",
            "   macro avg       0.80      0.77      0.76       214\n",
            "weighted avg       0.80      0.77      0.76       214\n",
            "\n",
            "[[ 65  42]\n",
            " [  7 100]]\n",
            "No of Decision Tree :  40\n",
            "              precision    recall  f1-score   support\n",
            "\n",
            "           0       0.89      0.53      0.67       107\n",
            "           1       0.67      0.93      0.78       107\n",
            "\n",
            "    accuracy                           0.73       214\n",
            "   macro avg       0.78      0.73      0.72       214\n",
            "weighted avg       0.78      0.73      0.72       214\n",
            "\n",
            "[[ 57  50]\n",
            " [  7 100]]\n",
            "No of Decision Tree :  41\n",
            "              precision    recall  f1-score   support\n",
            "\n",
            "           0       0.89      0.53      0.67       107\n",
            "           1       0.67      0.93      0.78       107\n",
            "\n",
            "    accuracy                           0.73       214\n",
            "   macro avg       0.78      0.73      0.72       214\n",
            "weighted avg       0.78      0.73      0.72       214\n",
            "\n",
            "[[ 57  50]\n",
            " [  7 100]]\n",
            "No of Decision Tree :  42\n",
            "              precision    recall  f1-score   support\n",
            "\n",
            "           0       0.90      0.61      0.73       107\n",
            "           1       0.70      0.93      0.80       107\n",
            "\n",
            "    accuracy                           0.77       214\n",
            "   macro avg       0.80      0.77      0.76       214\n",
            "weighted avg       0.80      0.77      0.76       214\n",
            "\n",
            "[[ 65  42]\n",
            " [  7 100]]\n",
            "No of Decision Tree :  43\n",
            "              precision    recall  f1-score   support\n",
            "\n",
            "           0       0.90      0.61      0.73       107\n",
            "           1       0.70      0.93      0.80       107\n",
            "\n",
            "    accuracy                           0.77       214\n",
            "   macro avg       0.80      0.77      0.76       214\n",
            "weighted avg       0.80      0.77      0.76       214\n",
            "\n",
            "[[ 65  42]\n",
            " [  7 100]]\n",
            "No of Decision Tree :  44\n",
            "              precision    recall  f1-score   support\n",
            "\n",
            "           0       0.90      0.61      0.73       107\n",
            "           1       0.70      0.93      0.80       107\n",
            "\n",
            "    accuracy                           0.77       214\n",
            "   macro avg       0.80      0.77      0.76       214\n",
            "weighted avg       0.80      0.77      0.76       214\n",
            "\n",
            "[[ 65  42]\n",
            " [  7 100]]\n",
            "No of Decision Tree :  45\n",
            "              precision    recall  f1-score   support\n",
            "\n",
            "           0       0.90      0.61      0.73       107\n",
            "           1       0.70      0.93      0.80       107\n",
            "\n",
            "    accuracy                           0.77       214\n",
            "   macro avg       0.80      0.77      0.76       214\n",
            "weighted avg       0.80      0.77      0.76       214\n",
            "\n",
            "[[ 65  42]\n",
            " [  7 100]]\n",
            "No of Decision Tree :  46\n",
            "              precision    recall  f1-score   support\n",
            "\n",
            "           0       0.90      0.61      0.73       107\n",
            "           1       0.70      0.93      0.80       107\n",
            "\n",
            "    accuracy                           0.77       214\n",
            "   macro avg       0.80      0.77      0.76       214\n",
            "weighted avg       0.80      0.77      0.76       214\n",
            "\n",
            "[[ 65  42]\n",
            " [  7 100]]\n",
            "No of Decision Tree :  47\n",
            "              precision    recall  f1-score   support\n",
            "\n",
            "           0       0.90      0.61      0.73       107\n",
            "           1       0.70      0.93      0.80       107\n",
            "\n",
            "    accuracy                           0.77       214\n",
            "   macro avg       0.80      0.77      0.76       214\n",
            "weighted avg       0.80      0.77      0.76       214\n",
            "\n",
            "[[ 65  42]\n",
            " [  7 100]]\n",
            "No of Decision Tree :  48\n",
            "              precision    recall  f1-score   support\n",
            "\n",
            "           0       0.90      0.61      0.73       107\n",
            "           1       0.70      0.93      0.80       107\n",
            "\n",
            "    accuracy                           0.77       214\n",
            "   macro avg       0.80      0.77      0.76       214\n",
            "weighted avg       0.80      0.77      0.76       214\n",
            "\n",
            "[[ 65  42]\n",
            " [  7 100]]\n",
            "No of Decision Tree :  49\n",
            "              precision    recall  f1-score   support\n",
            "\n",
            "           0       0.90      0.61      0.73       107\n",
            "           1       0.70      0.93      0.80       107\n",
            "\n",
            "    accuracy                           0.77       214\n",
            "   macro avg       0.80      0.77      0.76       214\n",
            "weighted avg       0.80      0.77      0.76       214\n",
            "\n",
            "[[ 65  42]\n",
            " [  7 100]]\n",
            "No of Decision Tree :  50\n",
            "              precision    recall  f1-score   support\n",
            "\n",
            "           0       0.90      0.61      0.73       107\n",
            "           1       0.70      0.93      0.80       107\n",
            "\n",
            "    accuracy                           0.77       214\n",
            "   macro avg       0.80      0.77      0.76       214\n",
            "weighted avg       0.80      0.77      0.76       214\n",
            "\n",
            "[[ 65  42]\n",
            " [  7 100]]\n",
            "No of Decision Tree :  51\n",
            "              precision    recall  f1-score   support\n",
            "\n",
            "           0       0.92      0.61      0.73       107\n",
            "           1       0.71      0.94      0.81       107\n",
            "\n",
            "    accuracy                           0.78       214\n",
            "   macro avg       0.81      0.78      0.77       214\n",
            "weighted avg       0.81      0.78      0.77       214\n",
            "\n",
            "[[ 65  42]\n",
            " [  6 101]]\n",
            "No of Decision Tree :  52\n",
            "              precision    recall  f1-score   support\n",
            "\n",
            "           0       0.92      0.61      0.73       107\n",
            "           1       0.71      0.94      0.81       107\n",
            "\n",
            "    accuracy                           0.78       214\n",
            "   macro avg       0.81      0.78      0.77       214\n",
            "weighted avg       0.81      0.78      0.77       214\n",
            "\n",
            "[[ 65  42]\n",
            " [  6 101]]\n",
            "No of Decision Tree :  53\n",
            "              precision    recall  f1-score   support\n",
            "\n",
            "           0       0.93      0.61      0.73       107\n",
            "           1       0.71      0.95      0.81       107\n",
            "\n",
            "    accuracy                           0.78       214\n",
            "   macro avg       0.82      0.78      0.77       214\n",
            "weighted avg       0.82      0.78      0.77       214\n",
            "\n",
            "[[ 65  42]\n",
            " [  5 102]]\n",
            "No of Decision Tree :  54\n",
            "              precision    recall  f1-score   support\n",
            "\n",
            "           0       0.93      0.61      0.73       107\n",
            "           1       0.71      0.95      0.81       107\n",
            "\n",
            "    accuracy                           0.78       214\n",
            "   macro avg       0.82      0.78      0.77       214\n",
            "weighted avg       0.82      0.78      0.77       214\n",
            "\n",
            "[[ 65  42]\n",
            " [  5 102]]\n",
            "No of Decision Tree :  55\n",
            "              precision    recall  f1-score   support\n",
            "\n",
            "           0       0.93      0.61      0.73       107\n",
            "           1       0.71      0.95      0.81       107\n",
            "\n",
            "    accuracy                           0.78       214\n",
            "   macro avg       0.82      0.78      0.77       214\n",
            "weighted avg       0.82      0.78      0.77       214\n",
            "\n",
            "[[ 65  42]\n",
            " [  5 102]]\n",
            "No of Decision Tree :  56\n",
            "              precision    recall  f1-score   support\n",
            "\n",
            "           0       0.93      0.61      0.73       107\n",
            "           1       0.71      0.95      0.81       107\n",
            "\n",
            "    accuracy                           0.78       214\n",
            "   macro avg       0.82      0.78      0.77       214\n",
            "weighted avg       0.82      0.78      0.77       214\n",
            "\n",
            "[[ 65  42]\n",
            " [  5 102]]\n",
            "No of Decision Tree :  57\n",
            "              precision    recall  f1-score   support\n",
            "\n",
            "           0       0.93      0.61      0.73       107\n",
            "           1       0.71      0.95      0.81       107\n",
            "\n",
            "    accuracy                           0.78       214\n",
            "   macro avg       0.82      0.78      0.77       214\n",
            "weighted avg       0.82      0.78      0.77       214\n",
            "\n",
            "[[ 65  42]\n",
            " [  5 102]]\n",
            "No of Decision Tree :  58\n",
            "              precision    recall  f1-score   support\n",
            "\n",
            "           0       0.93      0.61      0.73       107\n",
            "           1       0.71      0.95      0.81       107\n",
            "\n",
            "    accuracy                           0.78       214\n",
            "   macro avg       0.82      0.78      0.77       214\n",
            "weighted avg       0.82      0.78      0.77       214\n",
            "\n",
            "[[ 65  42]\n",
            " [  5 102]]\n",
            "No of Decision Tree :  59\n",
            "              precision    recall  f1-score   support\n",
            "\n",
            "           0       0.93      0.61      0.73       107\n",
            "           1       0.71      0.95      0.81       107\n",
            "\n",
            "    accuracy                           0.78       214\n",
            "   macro avg       0.82      0.78      0.77       214\n",
            "weighted avg       0.82      0.78      0.77       214\n",
            "\n",
            "[[ 65  42]\n",
            " [  5 102]]\n",
            "No of Decision Tree :  60\n",
            "              precision    recall  f1-score   support\n",
            "\n",
            "           0       0.92      0.61      0.73       107\n",
            "           1       0.71      0.94      0.81       107\n",
            "\n",
            "    accuracy                           0.78       214\n",
            "   macro avg       0.81      0.78      0.77       214\n",
            "weighted avg       0.81      0.78      0.77       214\n",
            "\n",
            "[[ 65  42]\n",
            " [  6 101]]\n",
            "No of Decision Tree :  61\n",
            "              precision    recall  f1-score   support\n",
            "\n",
            "           0       0.94      0.61      0.74       107\n",
            "           1       0.71      0.96      0.82       107\n",
            "\n",
            "    accuracy                           0.79       214\n",
            "   macro avg       0.83      0.79      0.78       214\n",
            "weighted avg       0.83      0.79      0.78       214\n",
            "\n",
            "[[ 65  42]\n",
            " [  4 103]]\n",
            "No of Decision Tree :  62\n",
            "              precision    recall  f1-score   support\n",
            "\n",
            "           0       0.93      0.61      0.73       107\n",
            "           1       0.71      0.95      0.81       107\n",
            "\n",
            "    accuracy                           0.78       214\n",
            "   macro avg       0.82      0.78      0.77       214\n",
            "weighted avg       0.82      0.78      0.77       214\n",
            "\n",
            "[[ 65  42]\n",
            " [  5 102]]\n",
            "No of Decision Tree :  63\n",
            "              precision    recall  f1-score   support\n",
            "\n",
            "           0       0.93      0.61      0.73       107\n",
            "           1       0.71      0.95      0.81       107\n",
            "\n",
            "    accuracy                           0.78       214\n",
            "   macro avg       0.82      0.78      0.77       214\n",
            "weighted avg       0.82      0.78      0.77       214\n",
            "\n",
            "[[ 65  42]\n",
            " [  5 102]]\n",
            "No of Decision Tree :  64\n",
            "              precision    recall  f1-score   support\n",
            "\n",
            "           0       0.93      0.61      0.73       107\n",
            "           1       0.71      0.95      0.81       107\n",
            "\n",
            "    accuracy                           0.78       214\n",
            "   macro avg       0.82      0.78      0.77       214\n",
            "weighted avg       0.82      0.78      0.77       214\n",
            "\n",
            "[[ 65  42]\n",
            " [  5 102]]\n",
            "No of Decision Tree :  65\n",
            "              precision    recall  f1-score   support\n",
            "\n",
            "           0       0.94      0.61      0.74       107\n",
            "           1       0.71      0.96      0.82       107\n",
            "\n",
            "    accuracy                           0.79       214\n",
            "   macro avg       0.83      0.79      0.78       214\n",
            "weighted avg       0.83      0.79      0.78       214\n",
            "\n",
            "[[ 65  42]\n",
            " [  4 103]]\n",
            "No of Decision Tree :  66\n",
            "              precision    recall  f1-score   support\n",
            "\n",
            "           0       0.94      0.61      0.74       107\n",
            "           1       0.71      0.96      0.82       107\n",
            "\n",
            "    accuracy                           0.79       214\n",
            "   macro avg       0.83      0.79      0.78       214\n",
            "weighted avg       0.83      0.79      0.78       214\n",
            "\n",
            "[[ 65  42]\n",
            " [  4 103]]\n",
            "No of Decision Tree :  67\n",
            "              precision    recall  f1-score   support\n",
            "\n",
            "           0       0.93      0.61      0.73       107\n",
            "           1       0.71      0.95      0.81       107\n",
            "\n",
            "    accuracy                           0.78       214\n",
            "   macro avg       0.82      0.78      0.77       214\n",
            "weighted avg       0.82      0.78      0.77       214\n",
            "\n",
            "[[ 65  42]\n",
            " [  5 102]]\n",
            "No of Decision Tree :  68\n",
            "              precision    recall  f1-score   support\n",
            "\n",
            "           0       0.93      0.61      0.73       107\n",
            "           1       0.71      0.95      0.81       107\n",
            "\n",
            "    accuracy                           0.78       214\n",
            "   macro avg       0.82      0.78      0.77       214\n",
            "weighted avg       0.82      0.78      0.77       214\n",
            "\n",
            "[[ 65  42]\n",
            " [  5 102]]\n",
            "No of Decision Tree :  69\n",
            "              precision    recall  f1-score   support\n",
            "\n",
            "           0       0.93      0.61      0.73       107\n",
            "           1       0.71      0.95      0.81       107\n",
            "\n",
            "    accuracy                           0.78       214\n",
            "   macro avg       0.82      0.78      0.77       214\n",
            "weighted avg       0.82      0.78      0.77       214\n",
            "\n",
            "[[ 65  42]\n",
            " [  5 102]]\n",
            "No of Decision Tree :  70\n",
            "              precision    recall  f1-score   support\n",
            "\n",
            "           0       0.94      0.61      0.74       107\n",
            "           1       0.71      0.96      0.82       107\n",
            "\n",
            "    accuracy                           0.79       214\n",
            "   macro avg       0.83      0.79      0.78       214\n",
            "weighted avg       0.83      0.79      0.78       214\n",
            "\n",
            "[[ 65  42]\n",
            " [  4 103]]\n",
            "No of Decision Tree :  71\n",
            "              precision    recall  f1-score   support\n",
            "\n",
            "           0       0.94      0.61      0.74       107\n",
            "           1       0.71      0.96      0.82       107\n",
            "\n",
            "    accuracy                           0.79       214\n",
            "   macro avg       0.83      0.79      0.78       214\n",
            "weighted avg       0.83      0.79      0.78       214\n",
            "\n",
            "[[ 65  42]\n",
            " [  4 103]]\n",
            "No of Decision Tree :  72\n",
            "              precision    recall  f1-score   support\n",
            "\n",
            "           0       0.94      0.61      0.74       107\n",
            "           1       0.71      0.96      0.82       107\n",
            "\n",
            "    accuracy                           0.79       214\n",
            "   macro avg       0.83      0.79      0.78       214\n",
            "weighted avg       0.83      0.79      0.78       214\n",
            "\n",
            "[[ 65  42]\n",
            " [  4 103]]\n",
            "No of Decision Tree :  73\n",
            "              precision    recall  f1-score   support\n",
            "\n",
            "           0       0.93      0.61      0.73       107\n",
            "           1       0.71      0.95      0.81       107\n",
            "\n",
            "    accuracy                           0.78       214\n",
            "   macro avg       0.82      0.78      0.77       214\n",
            "weighted avg       0.82      0.78      0.77       214\n",
            "\n",
            "[[ 65  42]\n",
            " [  5 102]]\n",
            "No of Decision Tree :  74\n",
            "              precision    recall  f1-score   support\n",
            "\n",
            "           0       0.93      0.61      0.73       107\n",
            "           1       0.71      0.95      0.81       107\n",
            "\n",
            "    accuracy                           0.78       214\n",
            "   macro avg       0.82      0.78      0.77       214\n",
            "weighted avg       0.82      0.78      0.77       214\n",
            "\n",
            "[[ 65  42]\n",
            " [  5 102]]\n",
            "No of Decision Tree :  75\n",
            "              precision    recall  f1-score   support\n",
            "\n",
            "           0       0.93      0.61      0.73       107\n",
            "           1       0.71      0.95      0.81       107\n",
            "\n",
            "    accuracy                           0.78       214\n",
            "   macro avg       0.82      0.78      0.77       214\n",
            "weighted avg       0.82      0.78      0.77       214\n",
            "\n",
            "[[ 65  42]\n",
            " [  5 102]]\n",
            "No of Decision Tree :  76\n",
            "              precision    recall  f1-score   support\n",
            "\n",
            "           0       0.93      0.61      0.73       107\n",
            "           1       0.71      0.95      0.81       107\n",
            "\n",
            "    accuracy                           0.78       214\n",
            "   macro avg       0.82      0.78      0.77       214\n",
            "weighted avg       0.82      0.78      0.77       214\n",
            "\n",
            "[[ 65  42]\n",
            " [  5 102]]\n",
            "No of Decision Tree :  77\n",
            "              precision    recall  f1-score   support\n",
            "\n",
            "           0       0.93      0.61      0.73       107\n",
            "           1       0.71      0.95      0.81       107\n",
            "\n",
            "    accuracy                           0.78       214\n",
            "   macro avg       0.82      0.78      0.77       214\n",
            "weighted avg       0.82      0.78      0.77       214\n",
            "\n",
            "[[ 65  42]\n",
            " [  5 102]]\n",
            "No of Decision Tree :  78\n",
            "              precision    recall  f1-score   support\n",
            "\n",
            "           0       0.93      0.61      0.73       107\n",
            "           1       0.71      0.95      0.81       107\n",
            "\n",
            "    accuracy                           0.78       214\n",
            "   macro avg       0.82      0.78      0.77       214\n",
            "weighted avg       0.82      0.78      0.77       214\n",
            "\n",
            "[[ 65  42]\n",
            " [  5 102]]\n",
            "No of Decision Tree :  79\n",
            "              precision    recall  f1-score   support\n",
            "\n",
            "           0       0.93      0.61      0.73       107\n",
            "           1       0.71      0.95      0.81       107\n",
            "\n",
            "    accuracy                           0.78       214\n",
            "   macro avg       0.82      0.78      0.77       214\n",
            "weighted avg       0.82      0.78      0.77       214\n",
            "\n",
            "[[ 65  42]\n",
            " [  5 102]]\n",
            "No of Decision Tree :  80\n",
            "              precision    recall  f1-score   support\n",
            "\n",
            "           0       0.93      0.61      0.73       107\n",
            "           1       0.71      0.95      0.81       107\n",
            "\n",
            "    accuracy                           0.78       214\n",
            "   macro avg       0.82      0.78      0.77       214\n",
            "weighted avg       0.82      0.78      0.77       214\n",
            "\n",
            "[[ 65  42]\n",
            " [  5 102]]\n",
            "No of Decision Tree :  81\n",
            "              precision    recall  f1-score   support\n",
            "\n",
            "           0       0.93      0.61      0.73       107\n",
            "           1       0.71      0.95      0.81       107\n",
            "\n",
            "    accuracy                           0.78       214\n",
            "   macro avg       0.82      0.78      0.77       214\n",
            "weighted avg       0.82      0.78      0.77       214\n",
            "\n",
            "[[ 65  42]\n",
            " [  5 102]]\n",
            "No of Decision Tree :  82\n",
            "              precision    recall  f1-score   support\n",
            "\n",
            "           0       0.93      0.61      0.73       107\n",
            "           1       0.71      0.95      0.81       107\n",
            "\n",
            "    accuracy                           0.78       214\n",
            "   macro avg       0.82      0.78      0.77       214\n",
            "weighted avg       0.82      0.78      0.77       214\n",
            "\n",
            "[[ 65  42]\n",
            " [  5 102]]\n",
            "No of Decision Tree :  83\n",
            "              precision    recall  f1-score   support\n",
            "\n",
            "           0       0.93      0.61      0.73       107\n",
            "           1       0.71      0.95      0.81       107\n",
            "\n",
            "    accuracy                           0.78       214\n",
            "   macro avg       0.82      0.78      0.77       214\n",
            "weighted avg       0.82      0.78      0.77       214\n",
            "\n",
            "[[ 65  42]\n",
            " [  5 102]]\n",
            "No of Decision Tree :  84\n",
            "              precision    recall  f1-score   support\n",
            "\n",
            "           0       0.94      0.67      0.78       107\n",
            "           1       0.74      0.95      0.84       107\n",
            "\n",
            "    accuracy                           0.81       214\n",
            "   macro avg       0.84      0.81      0.81       214\n",
            "weighted avg       0.84      0.81      0.81       214\n",
            "\n",
            "[[ 72  35]\n",
            " [  5 102]]\n",
            "No of Decision Tree :  85\n",
            "              precision    recall  f1-score   support\n",
            "\n",
            "           0       0.94      0.67      0.78       107\n",
            "           1       0.74      0.95      0.84       107\n",
            "\n",
            "    accuracy                           0.81       214\n",
            "   macro avg       0.84      0.81      0.81       214\n",
            "weighted avg       0.84      0.81      0.81       214\n",
            "\n",
            "[[ 72  35]\n",
            " [  5 102]]\n",
            "No of Decision Tree :  86\n",
            "              precision    recall  f1-score   support\n",
            "\n",
            "           0       0.94      0.67      0.78       107\n",
            "           1       0.74      0.95      0.84       107\n",
            "\n",
            "    accuracy                           0.81       214\n",
            "   macro avg       0.84      0.81      0.81       214\n",
            "weighted avg       0.84      0.81      0.81       214\n",
            "\n",
            "[[ 72  35]\n",
            " [  5 102]]\n",
            "No of Decision Tree :  87\n",
            "              precision    recall  f1-score   support\n",
            "\n",
            "           0       0.94      0.67      0.78       107\n",
            "           1       0.74      0.95      0.84       107\n",
            "\n",
            "    accuracy                           0.81       214\n",
            "   macro avg       0.84      0.81      0.81       214\n",
            "weighted avg       0.84      0.81      0.81       214\n",
            "\n",
            "[[ 72  35]\n",
            " [  5 102]]\n",
            "No of Decision Tree :  88\n",
            "              precision    recall  f1-score   support\n",
            "\n",
            "           0       0.94      0.67      0.78       107\n",
            "           1       0.74      0.95      0.84       107\n",
            "\n",
            "    accuracy                           0.81       214\n",
            "   macro avg       0.84      0.81      0.81       214\n",
            "weighted avg       0.84      0.81      0.81       214\n",
            "\n",
            "[[ 72  35]\n",
            " [  5 102]]\n",
            "No of Decision Tree :  89\n",
            "              precision    recall  f1-score   support\n",
            "\n",
            "           0       0.94      0.67      0.78       107\n",
            "           1       0.74      0.95      0.84       107\n",
            "\n",
            "    accuracy                           0.81       214\n",
            "   macro avg       0.84      0.81      0.81       214\n",
            "weighted avg       0.84      0.81      0.81       214\n",
            "\n",
            "[[ 72  35]\n",
            " [  5 102]]\n",
            "No of Decision Tree :  90\n",
            "              precision    recall  f1-score   support\n",
            "\n",
            "           0       0.94      0.67      0.78       107\n",
            "           1       0.74      0.95      0.84       107\n",
            "\n",
            "    accuracy                           0.81       214\n",
            "   macro avg       0.84      0.81      0.81       214\n",
            "weighted avg       0.84      0.81      0.81       214\n",
            "\n",
            "[[ 72  35]\n",
            " [  5 102]]\n",
            "No of Decision Tree :  91\n",
            "              precision    recall  f1-score   support\n",
            "\n",
            "           0       0.94      0.67      0.78       107\n",
            "           1       0.74      0.95      0.84       107\n",
            "\n",
            "    accuracy                           0.81       214\n",
            "   macro avg       0.84      0.81      0.81       214\n",
            "weighted avg       0.84      0.81      0.81       214\n",
            "\n",
            "[[ 72  35]\n",
            " [  5 102]]\n",
            "No of Decision Tree :  92\n",
            "              precision    recall  f1-score   support\n",
            "\n",
            "           0       0.94      0.67      0.78       107\n",
            "           1       0.74      0.95      0.84       107\n",
            "\n",
            "    accuracy                           0.81       214\n",
            "   macro avg       0.84      0.81      0.81       214\n",
            "weighted avg       0.84      0.81      0.81       214\n",
            "\n",
            "[[ 72  35]\n",
            " [  5 102]]\n",
            "No of Decision Tree :  93\n",
            "              precision    recall  f1-score   support\n",
            "\n",
            "           0       0.94      0.67      0.78       107\n",
            "           1       0.74      0.95      0.84       107\n",
            "\n",
            "    accuracy                           0.81       214\n",
            "   macro avg       0.84      0.81      0.81       214\n",
            "weighted avg       0.84      0.81      0.81       214\n",
            "\n",
            "[[ 72  35]\n",
            " [  5 102]]\n",
            "No of Decision Tree :  94\n",
            "              precision    recall  f1-score   support\n",
            "\n",
            "           0       0.94      0.67      0.78       107\n",
            "           1       0.74      0.95      0.84       107\n",
            "\n",
            "    accuracy                           0.81       214\n",
            "   macro avg       0.84      0.81      0.81       214\n",
            "weighted avg       0.84      0.81      0.81       214\n",
            "\n",
            "[[ 72  35]\n",
            " [  5 102]]\n",
            "No of Decision Tree :  95\n",
            "              precision    recall  f1-score   support\n",
            "\n",
            "           0       0.94      0.67      0.78       107\n",
            "           1       0.74      0.95      0.84       107\n",
            "\n",
            "    accuracy                           0.81       214\n",
            "   macro avg       0.84      0.81      0.81       214\n",
            "weighted avg       0.84      0.81      0.81       214\n",
            "\n",
            "[[ 72  35]\n",
            " [  5 102]]\n",
            "No of Decision Tree :  96\n",
            "              precision    recall  f1-score   support\n",
            "\n",
            "           0       0.94      0.67      0.78       107\n",
            "           1       0.74      0.95      0.84       107\n",
            "\n",
            "    accuracy                           0.81       214\n",
            "   macro avg       0.84      0.81      0.81       214\n",
            "weighted avg       0.84      0.81      0.81       214\n",
            "\n",
            "[[ 72  35]\n",
            " [  5 102]]\n",
            "No of Decision Tree :  97\n",
            "              precision    recall  f1-score   support\n",
            "\n",
            "           0       0.93      0.61      0.73       107\n",
            "           1       0.71      0.95      0.81       107\n",
            "\n",
            "    accuracy                           0.78       214\n",
            "   macro avg       0.82      0.78      0.77       214\n",
            "weighted avg       0.82      0.78      0.77       214\n",
            "\n",
            "[[ 65  42]\n",
            " [  5 102]]\n",
            "No of Decision Tree :  98\n",
            "              precision    recall  f1-score   support\n",
            "\n",
            "           0       0.94      0.67      0.78       107\n",
            "           1       0.74      0.95      0.84       107\n",
            "\n",
            "    accuracy                           0.81       214\n",
            "   macro avg       0.84      0.81      0.81       214\n",
            "weighted avg       0.84      0.81      0.81       214\n",
            "\n",
            "[[ 72  35]\n",
            " [  5 102]]\n",
            "No of Decision Tree :  99\n",
            "              precision    recall  f1-score   support\n",
            "\n",
            "           0       0.94      0.67      0.78       107\n",
            "           1       0.74      0.95      0.84       107\n",
            "\n",
            "    accuracy                           0.81       214\n",
            "   macro avg       0.84      0.81      0.81       214\n",
            "weighted avg       0.84      0.81      0.81       214\n",
            "\n",
            "[[ 72  35]\n",
            " [  5 102]]\n"
          ]
        }
      ],
      "source": [
        "# Create an object of GradientBoosting class.\n",
        "for i in range(1,100):\n",
        "    # create an object of GradientBoostingClassifier class\n",
        "    gbc=GradientBoostingClassifier(random_state=1,n_estimators=i)\n",
        "    # Call the function\n",
        "    print('No of Decision Tree : ',i)\n",
        "    gbc=create_model(gbc)"
      ]
    },
    {
      "cell_type": "code",
      "execution_count": null,
      "metadata": {
        "colab": {
          "base_uri": "https://localhost:8080/"
        },
        "id": "it9pEZhneyuf",
        "outputId": "ed1e2c8b-5a97-451d-de86-87f27faf43c4"
      },
      "outputs": [
        {
          "output_type": "stream",
          "name": "stdout",
          "text": [
            "              precision    recall  f1-score   support\n",
            "\n",
            "           0       0.91      0.74      0.81       107\n",
            "           1       0.78      0.93      0.85       107\n",
            "\n",
            "    accuracy                           0.83       214\n",
            "   macro avg       0.84      0.83      0.83       214\n",
            "weighted avg       0.84      0.83      0.83       214\n",
            "\n",
            "[[79 28]\n",
            " [ 8 99]]\n"
          ]
        }
      ],
      "source": [
        "#14   0=74 1=93\n",
        "# create an object of GradientBoostingClassifier class\n",
        "gbc=GradientBoostingClassifier(random_state=1,n_estimators=14)\n",
        "# Call the function\n",
        "gbc=create_model(gbc)"
      ]
    },
    {
      "cell_type": "markdown",
      "metadata": {
        "id": "LrUvzO4xeyug"
      },
      "source": [
        "# 2. ADA Boosting : Adaptor Boosting"
      ]
    },
    {
      "cell_type": "code",
      "execution_count": null,
      "metadata": {
        "id": "o8UpJQrheyug"
      },
      "outputs": [],
      "source": [
        "from sklearn.ensemble import AdaBoostClassifier"
      ]
    },
    {
      "cell_type": "code",
      "execution_count": null,
      "metadata": {
        "colab": {
          "base_uri": "https://localhost:8080/"
        },
        "id": "Sibbxog6eyuh",
        "outputId": "8f37bd88-b161-4068-ed96-44585bc29c6e"
      },
      "outputs": [
        {
          "output_type": "stream",
          "name": "stdout",
          "text": [
            "              precision    recall  f1-score   support\n",
            "\n",
            "           0       0.85      0.73      0.78       107\n",
            "           1       0.76      0.87      0.81       107\n",
            "\n",
            "    accuracy                           0.80       214\n",
            "   macro avg       0.81      0.80      0.80       214\n",
            "weighted avg       0.81      0.80      0.80       214\n",
            "\n",
            "[[78 29]\n",
            " [14 93]]\n"
          ]
        }
      ],
      "source": [
        "# Create an object of AdaBoostClassifier class.\n",
        "ada=AdaBoostClassifier(random_state=1,n_estimators=3)\n",
        "# call the function\n",
        "ada=create_model(ada)"
      ]
    },
    {
      "cell_type": "code",
      "execution_count": null,
      "metadata": {
        "colab": {
          "base_uri": "https://localhost:8080/"
        },
        "id": "zL-k1cyteyui",
        "outputId": "869a0023-ec6c-4eb2-8b88-afeeecdc24fa"
      },
      "outputs": [
        {
          "output_type": "stream",
          "name": "stdout",
          "text": [
            "              precision    recall  f1-score   support\n",
            "\n",
            "           0       0.90      0.60      0.72       107\n",
            "           1       0.70      0.93      0.80       107\n",
            "\n",
            "    accuracy                           0.77       214\n",
            "   macro avg       0.80      0.77      0.76       214\n",
            "weighted avg       0.80      0.77      0.76       214\n",
            "\n",
            "[[ 64  43]\n",
            " [  7 100]]\n"
          ]
        }
      ],
      "source": [
        "# Create an object of AdaBoostClassifier class.\n",
        "ada3=AdaBoostClassifier(random_state=1,n_estimators=14)\n",
        "# call the function\n",
        "ada3=create_model(ada3)"
      ]
    },
    {
      "cell_type": "code",
      "execution_count": null,
      "metadata": {
        "colab": {
          "base_uri": "https://localhost:8080/"
        },
        "id": "Rgun_TLSeyuj",
        "outputId": "6425b8aa-e45c-45f9-cd64-52f1d8118dd8"
      },
      "outputs": [
        {
          "output_type": "execute_result",
          "data": {
            "text/plain": [
              "array([0.33333333, 0.        , 0.        , 0.        , 0.        ,\n",
              "       0.        , 0.33333333, 0.33333333])"
            ]
          },
          "metadata": {},
          "execution_count": 73
        }
      ],
      "source": [
        "# Check Information gain of all inputs using inbuilt method \n",
        "# feature_importances_\n",
        "ada.feature_importances_"
      ]
    },
    {
      "cell_type": "code",
      "execution_count": null,
      "metadata": {
        "colab": {
          "base_uri": "https://localhost:8080/",
          "height": 300
        },
        "id": "SilHTLIYeyuk",
        "outputId": "c0cd2704-df2d-49ad-e04b-52e442a381c1"
      },
      "outputs": [
        {
          "output_type": "execute_result",
          "data": {
            "text/plain": [
              "               Input        IG\n",
              "0         Serial No.  0.333333\n",
              "6               CGPA  0.333333\n",
              "7           Research  0.333333\n",
              "1          GRE Score  0.000000\n",
              "2        TOEFL Score  0.000000\n",
              "3  University Rating  0.000000\n",
              "4                SOP  0.000000\n",
              "5               LOR   0.000000"
            ],
            "text/html": [
              "\n",
              "  <div id=\"df-085c21d2-adfc-4e2f-84f2-3ecb78e65673\">\n",
              "    <div class=\"colab-df-container\">\n",
              "      <div>\n",
              "<style scoped>\n",
              "    .dataframe tbody tr th:only-of-type {\n",
              "        vertical-align: middle;\n",
              "    }\n",
              "\n",
              "    .dataframe tbody tr th {\n",
              "        vertical-align: top;\n",
              "    }\n",
              "\n",
              "    .dataframe thead th {\n",
              "        text-align: right;\n",
              "    }\n",
              "</style>\n",
              "<table border=\"1\" class=\"dataframe\">\n",
              "  <thead>\n",
              "    <tr style=\"text-align: right;\">\n",
              "      <th></th>\n",
              "      <th>Input</th>\n",
              "      <th>IG</th>\n",
              "    </tr>\n",
              "  </thead>\n",
              "  <tbody>\n",
              "    <tr>\n",
              "      <th>0</th>\n",
              "      <td>Serial No.</td>\n",
              "      <td>0.333333</td>\n",
              "    </tr>\n",
              "    <tr>\n",
              "      <th>6</th>\n",
              "      <td>CGPA</td>\n",
              "      <td>0.333333</td>\n",
              "    </tr>\n",
              "    <tr>\n",
              "      <th>7</th>\n",
              "      <td>Research</td>\n",
              "      <td>0.333333</td>\n",
              "    </tr>\n",
              "    <tr>\n",
              "      <th>1</th>\n",
              "      <td>GRE Score</td>\n",
              "      <td>0.000000</td>\n",
              "    </tr>\n",
              "    <tr>\n",
              "      <th>2</th>\n",
              "      <td>TOEFL Score</td>\n",
              "      <td>0.000000</td>\n",
              "    </tr>\n",
              "    <tr>\n",
              "      <th>3</th>\n",
              "      <td>University Rating</td>\n",
              "      <td>0.000000</td>\n",
              "    </tr>\n",
              "    <tr>\n",
              "      <th>4</th>\n",
              "      <td>SOP</td>\n",
              "      <td>0.000000</td>\n",
              "    </tr>\n",
              "    <tr>\n",
              "      <th>5</th>\n",
              "      <td>LOR</td>\n",
              "      <td>0.000000</td>\n",
              "    </tr>\n",
              "  </tbody>\n",
              "</table>\n",
              "</div>\n",
              "      <button class=\"colab-df-convert\" onclick=\"convertToInteractive('df-085c21d2-adfc-4e2f-84f2-3ecb78e65673')\"\n",
              "              title=\"Convert this dataframe to an interactive table.\"\n",
              "              style=\"display:none;\">\n",
              "        \n",
              "  <svg xmlns=\"http://www.w3.org/2000/svg\" height=\"24px\"viewBox=\"0 0 24 24\"\n",
              "       width=\"24px\">\n",
              "    <path d=\"M0 0h24v24H0V0z\" fill=\"none\"/>\n",
              "    <path d=\"M18.56 5.44l.94 2.06.94-2.06 2.06-.94-2.06-.94-.94-2.06-.94 2.06-2.06.94zm-11 1L8.5 8.5l.94-2.06 2.06-.94-2.06-.94L8.5 2.5l-.94 2.06-2.06.94zm10 10l.94 2.06.94-2.06 2.06-.94-2.06-.94-.94-2.06-.94 2.06-2.06.94z\"/><path d=\"M17.41 7.96l-1.37-1.37c-.4-.4-.92-.59-1.43-.59-.52 0-1.04.2-1.43.59L10.3 9.45l-7.72 7.72c-.78.78-.78 2.05 0 2.83L4 21.41c.39.39.9.59 1.41.59.51 0 1.02-.2 1.41-.59l7.78-7.78 2.81-2.81c.8-.78.8-2.07 0-2.86zM5.41 20L4 18.59l7.72-7.72 1.47 1.35L5.41 20z\"/>\n",
              "  </svg>\n",
              "      </button>\n",
              "      \n",
              "  <style>\n",
              "    .colab-df-container {\n",
              "      display:flex;\n",
              "      flex-wrap:wrap;\n",
              "      gap: 12px;\n",
              "    }\n",
              "\n",
              "    .colab-df-convert {\n",
              "      background-color: #E8F0FE;\n",
              "      border: none;\n",
              "      border-radius: 50%;\n",
              "      cursor: pointer;\n",
              "      display: none;\n",
              "      fill: #1967D2;\n",
              "      height: 32px;\n",
              "      padding: 0 0 0 0;\n",
              "      width: 32px;\n",
              "    }\n",
              "\n",
              "    .colab-df-convert:hover {\n",
              "      background-color: #E2EBFA;\n",
              "      box-shadow: 0px 1px 2px rgba(60, 64, 67, 0.3), 0px 1px 3px 1px rgba(60, 64, 67, 0.15);\n",
              "      fill: #174EA6;\n",
              "    }\n",
              "\n",
              "    [theme=dark] .colab-df-convert {\n",
              "      background-color: #3B4455;\n",
              "      fill: #D2E3FC;\n",
              "    }\n",
              "\n",
              "    [theme=dark] .colab-df-convert:hover {\n",
              "      background-color: #434B5C;\n",
              "      box-shadow: 0px 1px 3px 1px rgba(0, 0, 0, 0.15);\n",
              "      filter: drop-shadow(0px 1px 2px rgba(0, 0, 0, 0.3));\n",
              "      fill: #FFFFFF;\n",
              "    }\n",
              "  </style>\n",
              "\n",
              "      <script>\n",
              "        const buttonEl =\n",
              "          document.querySelector('#df-085c21d2-adfc-4e2f-84f2-3ecb78e65673 button.colab-df-convert');\n",
              "        buttonEl.style.display =\n",
              "          google.colab.kernel.accessAllowed ? 'block' : 'none';\n",
              "\n",
              "        async function convertToInteractive(key) {\n",
              "          const element = document.querySelector('#df-085c21d2-adfc-4e2f-84f2-3ecb78e65673');\n",
              "          const dataTable =\n",
              "            await google.colab.kernel.invokeFunction('convertToInteractive',\n",
              "                                                     [key], {});\n",
              "          if (!dataTable) return;\n",
              "\n",
              "          const docLinkHtml = 'Like what you see? Visit the ' +\n",
              "            '<a target=\"_blank\" href=https://colab.research.google.com/notebooks/data_table.ipynb>data table notebook</a>'\n",
              "            + ' to learn more about interactive tables.';\n",
              "          element.innerHTML = '';\n",
              "          dataTable['output_type'] = 'display_data';\n",
              "          await google.colab.output.renderOutput(dataTable, element);\n",
              "          const docLink = document.createElement('div');\n",
              "          docLink.innerHTML = docLinkHtml;\n",
              "          element.appendChild(docLink);\n",
              "        }\n",
              "      </script>\n",
              "    </div>\n",
              "  </div>\n",
              "  "
            ]
          },
          "metadata": {},
          "execution_count": 74
        }
      ],
      "source": [
        "# Show information gain of all inputs.\n",
        "IG=ada.feature_importances_\n",
        "dict={'Input':X.columns,'IG':IG}\n",
        "df1=pd.DataFrame(dict)\n",
        "df1.sort_values('IG',ascending=False)"
      ]
    },
    {
      "cell_type": "markdown",
      "metadata": {
        "id": "asuGVr1Keyul"
      },
      "source": [
        "# 3. Extreme Gradient Boosting:- XGB Boosting"
      ]
    },
    {
      "cell_type": "code",
      "execution_count": null,
      "metadata": {
        "id": "CQQ7ha3feyul"
      },
      "outputs": [],
      "source": [
        "# Extreme Gradient Boosting:- XGB Boosting\n",
        "#3. Extreame Gradient Boosting  : 3rd technique of Boosting \n",
        "#This is better version of gradient boosting . . short form XGB \n",
        "#why call better version of Gradient Boosting : -\n",
        "#1. XG Bossting use : - Multithreading technique\n",
        "#2. It takes less memory space and faster \n",
        "#3. It is very useful to handle huge amt of data .Its deal large amount of data\n",
        "#4. Its handle outlier because have inbuilt capability\n",
        "#5. Its handle null values \n",
        "#6. Its handle automatic overfitting situation .\n",
        "\n",
        "#!pip install xgboost"
      ]
    },
    {
      "cell_type": "code",
      "execution_count": null,
      "metadata": {
        "id": "6-FmmqO8eyul"
      },
      "outputs": [],
      "source": [
        "from xgboost import XGBClassifier"
      ]
    },
    {
      "cell_type": "code",
      "execution_count": null,
      "metadata": {
        "colab": {
          "base_uri": "https://localhost:8080/",
          "height": 72
        },
        "id": "6UqZj5aPeyum",
        "outputId": "09e9caf8-a22d-4595-e195-0771d3904edd"
      },
      "outputs": [
        {
          "output_type": "execute_result",
          "data": {
            "text/plain": [
              "\"for i in range(1,101):\\n    xgc=XGBClassifier(n_estimators=i,random_state=1,reg_alpha=1)\\n    # call function\\n    print('No. of estimators : ',i)\\n    xgc=create_model(xgc)\\n    \\n# automatic overfitting : reg means regularation and alpha or lambda :\\n# hyperparameter\\n\\n# n_estimators<=100\\n\""
            ],
            "application/vnd.google.colaboratory.intrinsic+json": {
              "type": "string"
            }
          },
          "metadata": {},
          "execution_count": 77
        }
      ],
      "source": [
        "# Create an object of XGBClassifier\n",
        "'''for i in range(1,101):\n",
        "    xgc=XGBClassifier(n_estimators=i,random_state=1,reg_alpha=1)\n",
        "    # call function\n",
        "    print('No. of estimators : ',i)\n",
        "    xgc=create_model(xgc)\n",
        "    \n",
        "# automatic overfitting : reg means regularation and alpha or lambda :\n",
        "# hyperparameter\n",
        "\n",
        "# n_estimators<=100\n",
        "'''"
      ]
    },
    {
      "cell_type": "code",
      "execution_count": null,
      "metadata": {
        "colab": {
          "base_uri": "https://localhost:8080/"
        },
        "id": "E02RQJ4Keyum",
        "outputId": "40ceefcf-d126-4139-e6aa-be89cac3ba19"
      },
      "outputs": [
        {
          "output_type": "stream",
          "name": "stdout",
          "text": [
            "              precision    recall  f1-score   support\n",
            "\n",
            "           0       0.90      0.66      0.76       107\n",
            "           1       0.73      0.93      0.82       107\n",
            "\n",
            "    accuracy                           0.79       214\n",
            "   macro avg       0.82      0.79      0.79       214\n",
            "weighted avg       0.82      0.79      0.79       214\n",
            "\n",
            "[[71 36]\n",
            " [ 8 99]]\n"
          ]
        }
      ],
      "source": [
        "#13   0=73  1=95\n",
        "#19   0=87  1=95\n",
        "xgc=XGBClassifier(n_estimators=19,random_state=1,reg_alpha=1)\n",
        "# call function\n",
        "xgc=create_model(xgc)"
      ]
    },
    {
      "cell_type": "markdown",
      "metadata": {
        "id": "rxcLsbAzeyum"
      },
      "source": [
        "# support vector"
      ]
    },
    {
      "cell_type": "code",
      "execution_count": null,
      "metadata": {
        "colab": {
          "base_uri": "https://localhost:8080/",
          "height": 54
        },
        "id": "H4JD8q3neyun",
        "outputId": "b3b3121c-6713-46ee-b07c-18d92fc52dd4"
      },
      "outputs": [
        {
          "output_type": "execute_result",
          "data": {
            "text/plain": [
              "'There are various kernel functions :\\n\\nLinear Kernel function (use linear separated data)\\npolynomial kernel function (non-linearly)\\nradial basis kernel function (non-linearly)'"
            ],
            "application/vnd.google.colaboratory.intrinsic+json": {
              "type": "string"
            }
          },
          "metadata": {},
          "execution_count": 79
        }
      ],
      "source": [
        "# Use SVM : support vector machine : this is a classification supervised learning\n",
        "#algo.\n",
        "'''There are various kernel functions :\n",
        "\n",
        "Linear Kernel function (use linear separated data)\n",
        "polynomial kernel function (non-linearly)\n",
        "radial basis kernel function (non-linearly)'''"
      ]
    },
    {
      "cell_type": "markdown",
      "metadata": {
        "id": "Er_67mMzeyun"
      },
      "source": [
        "# 1. Linear Kernel (use linear separated data) \n",
        "function means data are easily\n",
        "separatable with the help of straight line ,\n",
        "this straight line is called decision boundary or hyperplane"
      ]
    },
    {
      "cell_type": "code",
      "execution_count": null,
      "metadata": {
        "id": "_C9ibKQpeyun"
      },
      "outputs": [],
      "source": [
        "#linear function\n",
        "#call class\n",
        "from sklearn.svm import LinearSVC\n",
        "#Linear SVC means supoort vector classifier\n"
      ]
    },
    {
      "cell_type": "code",
      "execution_count": null,
      "metadata": {
        "id": "u8gxqOXTeyuo"
      },
      "outputs": [],
      "source": [
        "# create object of SVC\n",
        "svc=LinearSVC(random_state=1)#hard margin bydefault"
      ]
    },
    {
      "cell_type": "code",
      "execution_count": null,
      "metadata": {
        "colab": {
          "base_uri": "https://localhost:8080/"
        },
        "id": "jqtB-K4neyuo",
        "outputId": "1f0e3596-a0b2-4d5c-8836-751e4b909fae"
      },
      "outputs": [
        {
          "output_type": "stream",
          "name": "stdout",
          "text": [
            "              precision    recall  f1-score   support\n",
            "\n",
            "           0       0.88      0.87      0.87       107\n",
            "           1       0.87      0.88      0.87       107\n",
            "\n",
            "    accuracy                           0.87       214\n",
            "   macro avg       0.87      0.87      0.87       214\n",
            "weighted avg       0.87      0.87      0.87       214\n",
            "\n",
            "[[93 14]\n",
            " [13 94]]\n"
          ]
        }
      ],
      "source": [
        "svc=create_model(svc)"
      ]
    },
    {
      "cell_type": "code",
      "execution_count": null,
      "metadata": {
        "id": "X_dy0lvkeyup"
      },
      "outputs": [],
      "source": [
        "#checking outlier bcz model can be overfit even accuracy is good if it has outlier.\n",
        "#check whether model is overfit or not means add external error during training time\n",
        "#that means apply soft margin \n",
        "#create the object  of inbuilt class Linearsvc adn passing parameter c\n",
        "#for error\n",
        "svc1=LinearSVC(random_state=1,C=0.01)#soft margin\n",
        "#here C inbuilt parameter which pass the value -0.5(0.001 to 1)\n"
      ]
    },
    {
      "cell_type": "code",
      "execution_count": null,
      "metadata": {
        "colab": {
          "base_uri": "https://localhost:8080/"
        },
        "id": "InbzLaDPeyup",
        "outputId": "3d8ccbaa-60ac-43d9-8646-59bb63c34b57"
      },
      "outputs": [
        {
          "output_type": "stream",
          "name": "stdout",
          "text": [
            "              precision    recall  f1-score   support\n",
            "\n",
            "           0       0.83      0.87      0.85       107\n",
            "           1       0.86      0.82      0.84       107\n",
            "\n",
            "    accuracy                           0.85       214\n",
            "   macro avg       0.85      0.85      0.85       214\n",
            "weighted avg       0.85      0.85      0.85       214\n",
            "\n",
            "[[93 14]\n",
            " [19 88]]\n"
          ]
        }
      ],
      "source": [
        "svc1=create_model(svc1)#here as we increase or decrese  the error there is no changes in acuracy \n",
        "#that means the model is not overfit\n",
        "#if  the changes come in accuracy then we have to go with non linear"
      ]
    },
    {
      "cell_type": "code",
      "execution_count": null,
      "metadata": {
        "id": "CjnzC__Deyuq"
      },
      "outputs": [],
      "source": [
        "#if add external error during training time , no changes in score(recall)\n",
        "#means data is non-linear\n",
        "#can be possible , dataset is not linear means dataset is non-linear  .\n",
        "#use Non-linear kernal function of SVM means 2 classes are not separatable \n",
        "#with straight line \n",
        "#There are 3 types of Kernal function of SVM\n",
        "#1. Linear SVC  : use for linear data\n",
        "#2. polynomial kernal function : increase the low dimension to high dimension\n",
        "#3. radial basis kernal function\n"
      ]
    },
    {
      "cell_type": "markdown",
      "metadata": {
        "id": "jdkJ1UnUeyuq"
      },
      "source": [
        "# 2. polynomial kernal function :\n",
        "increase the low dimension to\n",
        "high dimension"
      ]
    },
    {
      "cell_type": "code",
      "execution_count": null,
      "metadata": {
        "id": "lInNP-kFeyuq"
      },
      "outputs": [],
      "source": [
        "#2. polynomial kernal function\n",
        "from sklearn.svm import SVC\n",
        "#svc inbuilt class for non linear data (poly adn radial basis)"
      ]
    },
    {
      "cell_type": "code",
      "execution_count": null,
      "metadata": {
        "id": "fF475Ah5eyuq"
      },
      "outputs": [],
      "source": [
        "#create object of svc clas (for polynomial)\n",
        "poly_svc=SVC(random_state=1,kernel='poly')\n"
      ]
    },
    {
      "cell_type": "code",
      "execution_count": null,
      "metadata": {
        "colab": {
          "base_uri": "https://localhost:8080/"
        },
        "id": "Npf39WDueyur",
        "outputId": "49a210ec-38c3-4efe-d888-da26511d7a87"
      },
      "outputs": [
        {
          "output_type": "stream",
          "name": "stdout",
          "text": [
            "              precision    recall  f1-score   support\n",
            "\n",
            "           0       0.89      0.54      0.67       107\n",
            "           1       0.67      0.93      0.78       107\n",
            "\n",
            "    accuracy                           0.74       214\n",
            "   macro avg       0.78      0.74      0.73       214\n",
            "weighted avg       0.78      0.74      0.73       214\n",
            "\n",
            "[[ 58  49]\n",
            " [  7 100]]\n"
          ]
        }
      ],
      "source": [
        "#call the function\n",
        "poly_svc=create_model(poly_svc)"
      ]
    },
    {
      "cell_type": "code",
      "execution_count": null,
      "metadata": {
        "id": "hRceH3P-eyur"
      },
      "outputs": [],
      "source": [
        "#here we use non-linear : radial basis kernal function\n",
        "#create object of svc class (for radial-basis)\n",
        "r_svc=SVC(random_state=1,kernel='rbf')#rbf means radial basis function"
      ]
    },
    {
      "cell_type": "code",
      "execution_count": null,
      "metadata": {
        "colab": {
          "base_uri": "https://localhost:8080/"
        },
        "id": "jfhmRysMeyur",
        "outputId": "f4ac4480-dd4d-459a-ac48-751ffbb62bcb"
      },
      "outputs": [
        {
          "output_type": "stream",
          "name": "stdout",
          "text": [
            "              precision    recall  f1-score   support\n",
            "\n",
            "           0       0.88      0.66      0.76       107\n",
            "           1       0.73      0.91      0.81       107\n",
            "\n",
            "    accuracy                           0.79       214\n",
            "   macro avg       0.80      0.79      0.78       214\n",
            "weighted avg       0.80      0.79      0.78       214\n",
            "\n",
            "[[71 36]\n",
            " [10 97]]\n"
          ]
        }
      ],
      "source": [
        "#call the function\n",
        "r_svc=create_model(r_svc)"
      ]
    },
    {
      "cell_type": "code",
      "execution_count": null,
      "metadata": {
        "id": "PjaWohpXeyus"
      },
      "outputs": [],
      "source": [
        ""
      ]
    }
  ],
  "metadata": {
    "colab": {
      "collapsed_sections": [],
      "name": "👩🏻‍🎓🏫 👩🏻‍💻 classification of student data.ipynb",
      "provenance": []
    },
    "gpuClass": "standard",
    "kernelspec": {
      "display_name": "Python 3",
      "language": "python",
      "name": "python3"
    },
    "language_info": {
      "codemirror_mode": {
        "name": "ipython",
        "version": 3
      },
      "file_extension": ".py",
      "mimetype": "text/x-python",
      "name": "python",
      "nbconvert_exporter": "python",
      "pygments_lexer": "ipython3",
      "version": "3.8.8"
    }
  },
  "nbformat": 4,
  "nbformat_minor": 0
}